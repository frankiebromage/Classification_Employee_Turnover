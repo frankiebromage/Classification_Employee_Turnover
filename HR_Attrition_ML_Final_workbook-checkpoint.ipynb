{
 "cells": [
  {
   "cell_type": "markdown",
   "id": "249d33de",
   "metadata": {},
   "source": [
    "# ML Project - Predict Employee churn"
   ]
  },
  {
   "cell_type": "markdown",
   "id": "e0ecd7f2",
   "metadata": {},
   "source": [
    "f1-score predicts employee leaving the company. The accuracy score measures the stability of the chosen algorithm"
   ]
  },
  {
   "cell_type": "markdown",
   "id": "2a7ca404",
   "metadata": {},
   "source": [
    "# Objective : Measure performance of 5 Algorithms"
   ]
  },
  {
   "cell_type": "markdown",
   "id": "6c4ec360",
   "metadata": {},
   "source": [
    "SUMMARY OF RESULTS:                                                                                                                   \n",
    "Logistic Regression Test Accuracy: 78.86619424760317                                                                             \n",
    "Decision Tree Test Accuracy: 96.66527719883284                                                                                   \n",
    "Random Forest Test Accuracy: 98.29095456440183 (f1-score = 95%)                                                                 \n",
    "KNN Test Accuracy: 91.78824510212589                                                                                                "
   ]
  },
  {
   "cell_type": "markdown",
   "id": "dc6f34e4",
   "metadata": {},
   "source": [
    "# Step 1 Data Preprocessing"
   ]
  },
  {
   "cell_type": "code",
   "execution_count": 151,
   "id": "08934a4e",
   "metadata": {},
   "outputs": [],
   "source": [
    "import numpy as np\n",
    "import pandas as pd\n",
    "import seaborn as sns\n",
    "import matplotlib.pyplot as plt\n",
    "%matplotlib inline\n",
    "from sklearn.model_selection import train_test_split\n",
    "from sklearn.tree import DecisionTreeClassifier\n",
    "from sklearn.metrics import classification_report\n",
    "from xgboost import XGBClassifier\n",
    "from sklearn.neighbors import KNeighborsClassifier\n",
    "from sklearn.svm import SVC\n",
    "from sklearn.metrics import accuracy_score\n",
    "from sklearn.linear_model import LogisticRegression\n",
    "from sklearn.compose import ColumnTransformer\n",
    "from imblearn.over_sampling import RandomOverSampler\n",
    "from sklearn.preprocessing import StandardScaler, OneHotEncoder\n",
    "from sklearn.model_selection import StratifiedKFold\n",
    "from sklearn import linear_model\n",
    "from statistics import mean\n",
    "from statistics import stdev\n",
    "from sklearn.model_selection import cross_val_score\n",
    "#from sklearn.pipeline import Pipeline\n",
    "from sklearn.ensemble import RandomForestClassifier\n",
    "from sklearn.compose import ColumnTransformer\n",
    "from sklearn.compose import make_column_transformer\n",
    "from imblearn.pipeline import Pipeline\n",
    "from imblearn.pipeline import make_pipeline\n",
    "from imblearn.over_sampling import SMOTE\n",
    "from sklearn.impute import SimpleImputer\n",
    "from sklearn.model_selection import GridSearchCV"
   ]
  },
  {
   "cell_type": "code",
   "execution_count": 2,
   "id": "1895d04e",
   "metadata": {},
   "outputs": [],
   "source": [
    "df = pd.read_csv('HR_Dataset.csv')\n",
    "df.rename({'Work_accident':'work_accident','Departments ':'departments'}, axis='columns', inplace=True)"
   ]
  },
  {
   "cell_type": "code",
   "execution_count": 3,
   "id": "adbe4b20",
   "metadata": {},
   "outputs": [
    {
     "data": {
      "text/html": [
       "<div>\n",
       "<style scoped>\n",
       "    .dataframe tbody tr th:only-of-type {\n",
       "        vertical-align: middle;\n",
       "    }\n",
       "\n",
       "    .dataframe tbody tr th {\n",
       "        vertical-align: top;\n",
       "    }\n",
       "\n",
       "    .dataframe thead th {\n",
       "        text-align: right;\n",
       "    }\n",
       "</style>\n",
       "<table border=\"1\" class=\"dataframe\">\n",
       "  <thead>\n",
       "    <tr style=\"text-align: right;\">\n",
       "      <th></th>\n",
       "      <th>satisfaction_level</th>\n",
       "      <th>last_evaluation</th>\n",
       "      <th>number_project</th>\n",
       "      <th>average_montly_hours</th>\n",
       "      <th>time_spend_company</th>\n",
       "      <th>work_accident</th>\n",
       "      <th>left</th>\n",
       "      <th>promotion_last_5years</th>\n",
       "      <th>departments</th>\n",
       "      <th>salary</th>\n",
       "    </tr>\n",
       "  </thead>\n",
       "  <tbody>\n",
       "    <tr>\n",
       "      <th>0</th>\n",
       "      <td>0.38</td>\n",
       "      <td>0.53</td>\n",
       "      <td>2</td>\n",
       "      <td>157</td>\n",
       "      <td>3</td>\n",
       "      <td>0</td>\n",
       "      <td>1</td>\n",
       "      <td>0</td>\n",
       "      <td>sales</td>\n",
       "      <td>low</td>\n",
       "    </tr>\n",
       "    <tr>\n",
       "      <th>1</th>\n",
       "      <td>0.80</td>\n",
       "      <td>0.86</td>\n",
       "      <td>5</td>\n",
       "      <td>262</td>\n",
       "      <td>6</td>\n",
       "      <td>0</td>\n",
       "      <td>1</td>\n",
       "      <td>0</td>\n",
       "      <td>sales</td>\n",
       "      <td>medium</td>\n",
       "    </tr>\n",
       "    <tr>\n",
       "      <th>2</th>\n",
       "      <td>0.11</td>\n",
       "      <td>0.88</td>\n",
       "      <td>7</td>\n",
       "      <td>272</td>\n",
       "      <td>4</td>\n",
       "      <td>0</td>\n",
       "      <td>1</td>\n",
       "      <td>0</td>\n",
       "      <td>sales</td>\n",
       "      <td>medium</td>\n",
       "    </tr>\n",
       "    <tr>\n",
       "      <th>3</th>\n",
       "      <td>0.72</td>\n",
       "      <td>0.87</td>\n",
       "      <td>5</td>\n",
       "      <td>223</td>\n",
       "      <td>5</td>\n",
       "      <td>0</td>\n",
       "      <td>1</td>\n",
       "      <td>0</td>\n",
       "      <td>sales</td>\n",
       "      <td>low</td>\n",
       "    </tr>\n",
       "    <tr>\n",
       "      <th>4</th>\n",
       "      <td>0.37</td>\n",
       "      <td>0.52</td>\n",
       "      <td>2</td>\n",
       "      <td>159</td>\n",
       "      <td>3</td>\n",
       "      <td>0</td>\n",
       "      <td>1</td>\n",
       "      <td>0</td>\n",
       "      <td>sales</td>\n",
       "      <td>low</td>\n",
       "    </tr>\n",
       "  </tbody>\n",
       "</table>\n",
       "</div>"
      ],
      "text/plain": [
       "   satisfaction_level  last_evaluation  number_project  average_montly_hours  \\\n",
       "0                0.38             0.53               2                   157   \n",
       "1                0.80             0.86               5                   262   \n",
       "2                0.11             0.88               7                   272   \n",
       "3                0.72             0.87               5                   223   \n",
       "4                0.37             0.52               2                   159   \n",
       "\n",
       "   time_spend_company  work_accident  left  promotion_last_5years departments  \\\n",
       "0                   3              0     1                      0       sales   \n",
       "1                   6              0     1                      0       sales   \n",
       "2                   4              0     1                      0       sales   \n",
       "3                   5              0     1                      0       sales   \n",
       "4                   3              0     1                      0       sales   \n",
       "\n",
       "   salary  \n",
       "0     low  \n",
       "1  medium  \n",
       "2  medium  \n",
       "3     low  \n",
       "4     low  "
      ]
     },
     "execution_count": 3,
     "metadata": {},
     "output_type": "execute_result"
    }
   ],
   "source": [
    "df.head(5)"
   ]
  },
  {
   "cell_type": "markdown",
   "id": "e7debb9b",
   "metadata": {},
   "source": [
    "# 1.1 Explore & Dropping missing data"
   ]
  },
  {
   "cell_type": "code",
   "execution_count": 4,
   "id": "2b62c253",
   "metadata": {},
   "outputs": [
    {
     "data": {
      "text/plain": [
       "satisfaction_level       0\n",
       "last_evaluation          0\n",
       "number_project           0\n",
       "average_montly_hours     0\n",
       "time_spend_company       0\n",
       "work_accident            0\n",
       "left                     0\n",
       "promotion_last_5years    0\n",
       "departments              0\n",
       "salary                   0\n",
       "dtype: int64"
      ]
     },
     "execution_count": 4,
     "metadata": {},
     "output_type": "execute_result"
    }
   ],
   "source": [
    "df.isnull().sum()"
   ]
  },
  {
   "cell_type": "markdown",
   "id": "86f697c4",
   "metadata": {},
   "source": [
    "# 1.2 Explore data types"
   ]
  },
  {
   "cell_type": "code",
   "execution_count": 24,
   "id": "69615931",
   "metadata": {},
   "outputs": [],
   "source": [
    "#No column to convert. Department and Salary are both categorical columns. \n",
    "#Department is a nominal column. Salary is an oridinal column.  \n",
    "#One-hot encoding would need to be applied to convert text into numeric features before feeding to model\n"
   ]
  },
  {
   "cell_type": "code",
   "execution_count": 5,
   "id": "99978bcd",
   "metadata": {},
   "outputs": [
    {
     "name": "stdout",
     "output_type": "stream",
     "text": [
      "<class 'pandas.core.frame.DataFrame'>\n",
      "RangeIndex: 14999 entries, 0 to 14998\n",
      "Data columns (total 10 columns):\n",
      " #   Column                 Non-Null Count  Dtype  \n",
      "---  ------                 --------------  -----  \n",
      " 0   satisfaction_level     14999 non-null  float64\n",
      " 1   last_evaluation        14999 non-null  float64\n",
      " 2   number_project         14999 non-null  int64  \n",
      " 3   average_montly_hours   14999 non-null  int64  \n",
      " 4   time_spend_company     14999 non-null  int64  \n",
      " 5   work_accident          14999 non-null  int64  \n",
      " 6   left                   14999 non-null  int64  \n",
      " 7   promotion_last_5years  14999 non-null  int64  \n",
      " 8   departments            14999 non-null  object \n",
      " 9   salary                 14999 non-null  object \n",
      "dtypes: float64(2), int64(6), object(2)\n",
      "memory usage: 1.1+ MB\n"
     ]
    }
   ],
   "source": [
    "df.info()"
   ]
  },
  {
   "cell_type": "code",
   "execution_count": 25,
   "id": "c3263433",
   "metadata": {},
   "outputs": [],
   "source": [
    "#Duplicates check and drop duplicate features"
   ]
  },
  {
   "cell_type": "code",
   "execution_count": 6,
   "id": "3a6d1018",
   "metadata": {},
   "outputs": [
    {
     "data": {
      "text/plain": [
       "False    11991\n",
       "True      3008\n",
       "dtype: int64"
      ]
     },
     "execution_count": 6,
     "metadata": {},
     "output_type": "execute_result"
    }
   ],
   "source": [
    "df.duplicated().value_counts()"
   ]
  },
  {
   "cell_type": "code",
   "execution_count": 7,
   "id": "f32c82c6",
   "metadata": {},
   "outputs": [],
   "source": [
    "df.drop_duplicates(inplace=True)"
   ]
  },
  {
   "cell_type": "code",
   "execution_count": 29,
   "id": "fb6a5927",
   "metadata": {},
   "outputs": [],
   "source": [
    "#Class/target variable is imbalanced"
   ]
  },
  {
   "cell_type": "code",
   "execution_count": 8,
   "id": "db26ab14",
   "metadata": {},
   "outputs": [
    {
     "data": {
      "text/plain": [
       "0    10000\n",
       "1     1991\n",
       "Name: left, dtype: int64"
      ]
     },
     "execution_count": 8,
     "metadata": {},
     "output_type": "execute_result"
    }
   ],
   "source": [
    "df.left.value_counts()"
   ]
  },
  {
   "cell_type": "code",
   "execution_count": 9,
   "id": "80458c62",
   "metadata": {},
   "outputs": [
    {
     "data": {
      "text/plain": [
       "low       5740\n",
       "medium    5261\n",
       "high       990\n",
       "Name: salary, dtype: int64"
      ]
     },
     "execution_count": 9,
     "metadata": {},
     "output_type": "execute_result"
    }
   ],
   "source": [
    "df.salary.value_counts()"
   ]
  },
  {
   "cell_type": "markdown",
   "id": "e4e73609",
   "metadata": {},
   "source": [
    "# 1.3 Target Variable Insight - Employees Left\n",
    "\n",
    "In the given dataset, there are two types of employee one who stayed and another who left the company. Divide the data into two groups and compare their characteristics. "
   ]
  },
  {
   "cell_type": "code",
   "execution_count": 10,
   "id": "fe020cba",
   "metadata": {},
   "outputs": [
    {
     "data": {
      "text/html": [
       "<div>\n",
       "<style scoped>\n",
       "    .dataframe tbody tr th:only-of-type {\n",
       "        vertical-align: middle;\n",
       "    }\n",
       "\n",
       "    .dataframe tbody tr th {\n",
       "        vertical-align: top;\n",
       "    }\n",
       "\n",
       "    .dataframe thead th {\n",
       "        text-align: right;\n",
       "    }\n",
       "</style>\n",
       "<table border=\"1\" class=\"dataframe\">\n",
       "  <thead>\n",
       "    <tr style=\"text-align: right;\">\n",
       "      <th></th>\n",
       "      <th>satisfaction_level</th>\n",
       "      <th>last_evaluation</th>\n",
       "      <th>number_project</th>\n",
       "      <th>average_montly_hours</th>\n",
       "      <th>time_spend_company</th>\n",
       "      <th>work_accident</th>\n",
       "      <th>promotion_last_5years</th>\n",
       "    </tr>\n",
       "    <tr>\n",
       "      <th>left</th>\n",
       "      <th></th>\n",
       "      <th></th>\n",
       "      <th></th>\n",
       "      <th></th>\n",
       "      <th></th>\n",
       "      <th></th>\n",
       "      <th></th>\n",
       "    </tr>\n",
       "  </thead>\n",
       "  <tbody>\n",
       "    <tr>\n",
       "      <th>0</th>\n",
       "      <td>0.667365</td>\n",
       "      <td>0.715667</td>\n",
       "      <td>3.786800</td>\n",
       "      <td>198.94270</td>\n",
       "      <td>3.262000</td>\n",
       "      <td>0.174500</td>\n",
       "      <td>0.019500</td>\n",
       "    </tr>\n",
       "    <tr>\n",
       "      <th>1</th>\n",
       "      <td>0.440271</td>\n",
       "      <td>0.721783</td>\n",
       "      <td>3.883476</td>\n",
       "      <td>208.16223</td>\n",
       "      <td>3.881467</td>\n",
       "      <td>0.052737</td>\n",
       "      <td>0.004018</td>\n",
       "    </tr>\n",
       "  </tbody>\n",
       "</table>\n",
       "</div>"
      ],
      "text/plain": [
       "      satisfaction_level  last_evaluation  number_project  \\\n",
       "left                                                        \n",
       "0               0.667365         0.715667        3.786800   \n",
       "1               0.440271         0.721783        3.883476   \n",
       "\n",
       "      average_montly_hours  time_spend_company  work_accident  \\\n",
       "left                                                            \n",
       "0                198.94270            3.262000       0.174500   \n",
       "1                208.16223            3.881467       0.052737   \n",
       "\n",
       "      promotion_last_5years  \n",
       "left                         \n",
       "0                  0.019500  \n",
       "1                  0.004018  "
      ]
     },
     "execution_count": 10,
     "metadata": {},
     "output_type": "execute_result"
    }
   ],
   "source": [
    "left = df.groupby('left')\n",
    "left.mean()"
   ]
  },
  {
   "cell_type": "code",
   "execution_count": 11,
   "id": "728fd066",
   "metadata": {},
   "outputs": [
    {
     "data": {
      "text/plain": [
       "0    10000\n",
       "1     1991\n",
       "Name: left, dtype: int64"
      ]
     },
     "execution_count": 11,
     "metadata": {},
     "output_type": "execute_result"
    },
    {
     "data": {
      "image/png": "[encoded data removed]",
      "text/plain": [
       "<Figure size 432x288 with 1 Axes>"
      ]
     },
     "metadata": {
      "needs_background": "light"
     },
     "output_type": "display_data"
    }
   ],
   "source": [
    "df.value_counts('left').plot.bar()\n",
    "plt.title('Employees left')\n",
    "plt.xlabel('Employees Left Company')\n",
    "plt.ylabel('No of Employees')\n",
    "df['left'].value_counts()\n",
    "#apply stratify sampling when splitting the dataset according to the y dataset"
   ]
  },
  {
   "cell_type": "markdown",
   "id": "ba897668",
   "metadata": {},
   "source": [
    "# 1.4 Outliers Detection"
   ]
  },
  {
   "cell_type": "code",
   "execution_count": 35,
   "id": "2830d373",
   "metadata": {},
   "outputs": [],
   "source": [
    "#Column 'time_spend_company' has outliers but the outliers are meaningful and hence would not be dropped"
   ]
  },
  {
   "cell_type": "code",
   "execution_count": 12,
   "id": "dd966dc1",
   "metadata": {},
   "outputs": [
    {
     "data": {
      "image/png": "[encoded data removed]",
      "text/plain": [
       "<Figure size 432x288 with 1 Axes>"
      ]
     },
     "metadata": {
      "needs_background": "light"
     },
     "output_type": "display_data"
    }
   ],
   "source": [
    "df['satisfaction_level'].plot(kind='box');"
   ]
  },
  {
   "cell_type": "code",
   "execution_count": 13,
   "id": "98d1d8ed",
   "metadata": {},
   "outputs": [
    {
     "data": {
      "image/png": "[encoded data removed]",
      "text/plain": [
       "<Figure size 432x288 with 1 Axes>"
      ]
     },
     "metadata": {
      "needs_background": "light"
     },
     "output_type": "display_data"
    }
   ],
   "source": [
    "df['number_project'].plot(kind='box');"
   ]
  },
  {
   "cell_type": "code",
   "execution_count": 14,
   "id": "2385e113",
   "metadata": {},
   "outputs": [
    {
     "data": {
      "image/png": "[encoded data removed]",
      "text/plain": [
       "<Figure size 432x288 with 1 Axes>"
      ]
     },
     "metadata": {
      "needs_background": "light"
     },
     "output_type": "display_data"
    }
   ],
   "source": [
    "df['average_montly_hours'].plot(kind='box');"
   ]
  },
  {
   "cell_type": "code",
   "execution_count": 15,
   "id": "5ca715ac",
   "metadata": {},
   "outputs": [
    {
     "data": {
      "image/png": "[encoded data removed]",
      "text/plain": [
       "<Figure size 432x288 with 1 Axes>"
      ]
     },
     "metadata": {
      "needs_background": "light"
     },
     "output_type": "display_data"
    }
   ],
   "source": [
    "df['time_spend_company'].plot(kind='box');"
   ]
  },
  {
   "cell_type": "markdown",
   "id": "001d7f62",
   "metadata": {},
   "source": [
    "# Step 2 Standardizing Data"
   ]
  },
  {
   "cell_type": "code",
   "execution_count": 41,
   "id": "9c3f672f",
   "metadata": {},
   "outputs": [],
   "source": [
    "#Feature Scaling (StandardScaler()) - We need to standardize to uniform the scale of the features for feature comparison.\n",
    "#Log normalization - If the column we want to use for modeling has extremely high variance."
   ]
  },
  {
   "cell_type": "markdown",
   "id": "016d2fc8",
   "metadata": {},
   "source": [
    "# 2.1 Variance check for all features"
   ]
  },
  {
   "cell_type": "code",
   "execution_count": 42,
   "id": "3533b196",
   "metadata": {},
   "outputs": [],
   "source": [
    "#Variance check across columns"
   ]
  },
  {
   "cell_type": "code",
   "execution_count": 46,
   "id": "474f0e41",
   "metadata": {},
   "outputs": [],
   "source": [
    "# Variance relatively low across columns\n",
    "#average_monthly_hours has very large variance. Apply log normalization.\n",
    "#np.log1p is a simple transformation.\n",
    "#It doesn't use any learnable parameters.It won't matter if we do it before or after the split.\n",
    "#As a thumb of rule, standardization would be applied after splitting to prevent data leakage"
   ]
  },
  {
   "cell_type": "code",
   "execution_count": 16,
   "id": "b8305ff7",
   "metadata": {},
   "outputs": [
    {
     "name": "stderr",
     "output_type": "stream",
     "text": [
      "C:\\Users\\Dell\\AppData\\Local\\Temp/ipykernel_20064/1568254755.py:1: FutureWarning: Dropping of nuisance columns in DataFrame reductions (with 'numeric_only=None') is deprecated; in a future version this will raise TypeError.  Select only valid columns before calling the reduction.\n",
      "  df.var()\n"
     ]
    },
    {
     "data": {
      "text/plain": [
       "satisfaction_level          0.058115\n",
       "last_evaluation             0.028339\n",
       "number_project              1.353123\n",
       "average_montly_hours     2374.399778\n",
       "time_spend_company          1.769537\n",
       "work_accident               0.130490\n",
       "left                        0.138483\n",
       "promotion_last_5years       0.016644\n",
       "dtype: float64"
      ]
     },
     "execution_count": 16,
     "metadata": {},
     "output_type": "execute_result"
    }
   ],
   "source": [
    "df.var()"
   ]
  },
  {
   "cell_type": "markdown",
   "id": "6e1296b7",
   "metadata": {},
   "source": [
    "# Step 3 Feature Engineering"
   ]
  },
  {
   "cell_type": "markdown",
   "id": "1c0e5836",
   "metadata": {},
   "source": [
    "# 3.1 One-Hot Encoding Technique"
   ]
  },
  {
   "cell_type": "code",
   "execution_count": 68,
   "id": "d9c3c132",
   "metadata": {},
   "outputs": [],
   "source": [
    "#departments (nominal) and salaries (ordinal) are both categorical variables and would be to be one-hot encoded \n",
    "#we use one-hot encoding because we have more than 2 values to encode in each column\n",
    "#One-Hot encoding technique would be applied after splitting to prevent data-leakage"
   ]
  },
  {
   "cell_type": "code",
   "execution_count": 17,
   "id": "1053ba0f",
   "metadata": {},
   "outputs": [
    {
     "data": {
      "text/plain": [
       "0    sales\n",
       "1    sales\n",
       "2    sales\n",
       "3    sales\n",
       "4    sales\n",
       "Name: departments, dtype: object"
      ]
     },
     "execution_count": 17,
     "metadata": {},
     "output_type": "execute_result"
    }
   ],
   "source": [
    "df['departments'].head(5)"
   ]
  },
  {
   "cell_type": "code",
   "execution_count": 18,
   "id": "0fc313d2",
   "metadata": {},
   "outputs": [
    {
     "data": {
      "text/plain": [
       "array(['sales', 'accounting', 'hr', 'technical', 'support', 'management',\n",
       "       'IT', 'product_mng', 'marketing', 'RandD'], dtype=object)"
      ]
     },
     "execution_count": 18,
     "metadata": {},
     "output_type": "execute_result"
    }
   ],
   "source": [
    "df['departments'].unique()"
   ]
  },
  {
   "cell_type": "code",
   "execution_count": 56,
   "id": "ca023823",
   "metadata": {},
   "outputs": [],
   "source": [
    "#pd.get_dummies(df['departments']).head(5)"
   ]
  },
  {
   "cell_type": "code",
   "execution_count": 19,
   "id": "3dc2bd41",
   "metadata": {},
   "outputs": [
    {
     "data": {
      "text/plain": [
       "0       low\n",
       "1    medium\n",
       "Name: salary, dtype: object"
      ]
     },
     "execution_count": 19,
     "metadata": {},
     "output_type": "execute_result"
    }
   ],
   "source": [
    "df['salary'].head(2)"
   ]
  },
  {
   "cell_type": "code",
   "execution_count": 20,
   "id": "a11c3a81",
   "metadata": {},
   "outputs": [
    {
     "data": {
      "text/plain": [
       "array(['low', 'medium', 'high'], dtype=object)"
      ]
     },
     "execution_count": 20,
     "metadata": {},
     "output_type": "execute_result"
    }
   ],
   "source": [
    "df['salary'].unique()"
   ]
  },
  {
   "cell_type": "code",
   "execution_count": 60,
   "id": "076e150a",
   "metadata": {},
   "outputs": [],
   "source": [
    "#pd.get_dummies(df['salary']).head(5)"
   ]
  },
  {
   "cell_type": "markdown",
   "id": "66d5da6f",
   "metadata": {},
   "source": [
    "# Step 4 Feature Selection"
   ]
  },
  {
   "cell_type": "markdown",
   "id": "c14dbc46",
   "metadata": {},
   "source": [
    "Once we have standardized and feature engineered our data, we would need to do feature selection.\n"
   ]
  },
  {
   "cell_type": "markdown",
   "id": "d63f9179",
   "metadata": {},
   "source": [
    "Remove redundant features.\n",
    "1) Remove noisy features\n",
    "2) Remove correlated features\n",
    "3) Remove duplicated features generated during feature engineering phase"
   ]
  },
  {
   "cell_type": "markdown",
   "id": "db6626bd",
   "metadata": {},
   "source": []
  },
  {
   "cell_type": "markdown",
   "id": "42c967c0",
   "metadata": {},
   "source": [
    "# 4.1 Correlated Features"
   ]
  },
  {
   "cell_type": "markdown",
   "id": "19ac8b33",
   "metadata": {},
   "source": [
    "1) Drop highly statistically correlated features (Features that move together directionally).\n",
    "   If features are strongly correlated, it could induce bias in the model (Linear models assume feature independence).\n",
    "2) Use Pearson's correlation coefficient to check for feature set correlation."
   ]
  },
  {
   "cell_type": "code",
   "execution_count": null,
   "id": "6b059e9a",
   "metadata": {},
   "outputs": [],
   "source": [
    "#Output Pearson correlation coefficients for each features in the dataset"
   ]
  },
  {
   "cell_type": "code",
   "execution_count": 21,
   "id": "44bf7b57",
   "metadata": {},
   "outputs": [
    {
     "data": {
      "text/html": [
       "<div>\n",
       "<style scoped>\n",
       "    .dataframe tbody tr th:only-of-type {\n",
       "        vertical-align: middle;\n",
       "    }\n",
       "\n",
       "    .dataframe tbody tr th {\n",
       "        vertical-align: top;\n",
       "    }\n",
       "\n",
       "    .dataframe thead th {\n",
       "        text-align: right;\n",
       "    }\n",
       "</style>\n",
       "<table border=\"1\" class=\"dataframe\">\n",
       "  <thead>\n",
       "    <tr style=\"text-align: right;\">\n",
       "      <th></th>\n",
       "      <th>satisfaction_level</th>\n",
       "      <th>last_evaluation</th>\n",
       "      <th>number_project</th>\n",
       "      <th>average_montly_hours</th>\n",
       "      <th>time_spend_company</th>\n",
       "      <th>work_accident</th>\n",
       "      <th>left</th>\n",
       "      <th>promotion_last_5years</th>\n",
       "    </tr>\n",
       "  </thead>\n",
       "  <tbody>\n",
       "    <tr>\n",
       "      <th>satisfaction_level</th>\n",
       "      <td>1.000000</td>\n",
       "      <td>0.095186</td>\n",
       "      <td>-0.133246</td>\n",
       "      <td>-0.006252</td>\n",
       "      <td>-0.152915</td>\n",
       "      <td>0.039940</td>\n",
       "      <td>-0.350558</td>\n",
       "      <td>0.019789</td>\n",
       "    </tr>\n",
       "    <tr>\n",
       "      <th>last_evaluation</th>\n",
       "      <td>0.095186</td>\n",
       "      <td>1.000000</td>\n",
       "      <td>0.270256</td>\n",
       "      <td>0.264678</td>\n",
       "      <td>0.096829</td>\n",
       "      <td>-0.005695</td>\n",
       "      <td>0.013520</td>\n",
       "      <td>-0.007206</td>\n",
       "    </tr>\n",
       "    <tr>\n",
       "      <th>number_project</th>\n",
       "      <td>-0.133246</td>\n",
       "      <td>0.270256</td>\n",
       "      <td>1.000000</td>\n",
       "      <td>0.331516</td>\n",
       "      <td>0.188837</td>\n",
       "      <td>-0.005612</td>\n",
       "      <td>0.030928</td>\n",
       "      <td>-0.000544</td>\n",
       "    </tr>\n",
       "    <tr>\n",
       "      <th>average_montly_hours</th>\n",
       "      <td>-0.006252</td>\n",
       "      <td>0.264678</td>\n",
       "      <td>0.331516</td>\n",
       "      <td>1.000000</td>\n",
       "      <td>0.102875</td>\n",
       "      <td>-0.012860</td>\n",
       "      <td>0.070409</td>\n",
       "      <td>-0.004964</td>\n",
       "    </tr>\n",
       "    <tr>\n",
       "      <th>time_spend_company</th>\n",
       "      <td>-0.152915</td>\n",
       "      <td>0.096829</td>\n",
       "      <td>0.188837</td>\n",
       "      <td>0.102875</td>\n",
       "      <td>1.000000</td>\n",
       "      <td>0.000003</td>\n",
       "      <td>0.173295</td>\n",
       "      <td>0.056828</td>\n",
       "    </tr>\n",
       "    <tr>\n",
       "      <th>work_accident</th>\n",
       "      <td>0.039940</td>\n",
       "      <td>-0.005695</td>\n",
       "      <td>-0.005612</td>\n",
       "      <td>-0.012860</td>\n",
       "      <td>0.000003</td>\n",
       "      <td>1.000000</td>\n",
       "      <td>-0.125436</td>\n",
       "      <td>0.029852</td>\n",
       "    </tr>\n",
       "    <tr>\n",
       "      <th>left</th>\n",
       "      <td>-0.350558</td>\n",
       "      <td>0.013520</td>\n",
       "      <td>0.030928</td>\n",
       "      <td>0.070409</td>\n",
       "      <td>0.173295</td>\n",
       "      <td>-0.125436</td>\n",
       "      <td>1.000000</td>\n",
       "      <td>-0.044657</td>\n",
       "    </tr>\n",
       "    <tr>\n",
       "      <th>promotion_last_5years</th>\n",
       "      <td>0.019789</td>\n",
       "      <td>-0.007206</td>\n",
       "      <td>-0.000544</td>\n",
       "      <td>-0.004964</td>\n",
       "      <td>0.056828</td>\n",
       "      <td>0.029852</td>\n",
       "      <td>-0.044657</td>\n",
       "      <td>1.000000</td>\n",
       "    </tr>\n",
       "  </tbody>\n",
       "</table>\n",
       "</div>"
      ],
      "text/plain": [
       "                       satisfaction_level  last_evaluation  number_project  \\\n",
       "satisfaction_level               1.000000         0.095186       -0.133246   \n",
       "last_evaluation                  0.095186         1.000000        0.270256   \n",
       "number_project                  -0.133246         0.270256        1.000000   \n",
       "average_montly_hours            -0.006252         0.264678        0.331516   \n",
       "time_spend_company              -0.152915         0.096829        0.188837   \n",
       "work_accident                    0.039940        -0.005695       -0.005612   \n",
       "left                            -0.350558         0.013520        0.030928   \n",
       "promotion_last_5years            0.019789        -0.007206       -0.000544   \n",
       "\n",
       "                       average_montly_hours  time_spend_company  \\\n",
       "satisfaction_level                -0.006252           -0.152915   \n",
       "last_evaluation                    0.264678            0.096829   \n",
       "number_project                     0.331516            0.188837   \n",
       "average_montly_hours               1.000000            0.102875   \n",
       "time_spend_company                 0.102875            1.000000   \n",
       "work_accident                     -0.012860            0.000003   \n",
       "left                               0.070409            0.173295   \n",
       "promotion_last_5years             -0.004964            0.056828   \n",
       "\n",
       "                       work_accident      left  promotion_last_5years  \n",
       "satisfaction_level          0.039940 -0.350558               0.019789  \n",
       "last_evaluation            -0.005695  0.013520              -0.007206  \n",
       "number_project             -0.005612  0.030928              -0.000544  \n",
       "average_montly_hours       -0.012860  0.070409              -0.004964  \n",
       "time_spend_company          0.000003  0.173295               0.056828  \n",
       "work_accident               1.000000 -0.125436               0.029852  \n",
       "left                       -0.125436  1.000000              -0.044657  \n",
       "promotion_last_5years       0.029852 -0.044657               1.000000  "
      ]
     },
     "execution_count": 21,
     "metadata": {},
     "output_type": "execute_result"
    }
   ],
   "source": [
    "df.corr()\n",
    "#None of the features are strongly correlated. So there is no need to drop any columns"
   ]
  },
  {
   "cell_type": "markdown",
   "id": "9c15178d",
   "metadata": {},
   "source": [
    "# 4.2 Dummy Variable Trap"
   ]
  },
  {
   "cell_type": "markdown",
   "id": "db1ea9cd",
   "metadata": {},
   "source": [
    "Drop one of the encoded column in each of departments and salary categorical column after applying one-hot encoding after splitting.\n",
    "#X = pd.get_dummies(X, drop_first=True)"
   ]
  },
  {
   "cell_type": "markdown",
   "id": "c3e3b22f",
   "metadata": {},
   "source": [
    "# 4.3 Dimension Reduction"
   ]
  },
  {
   "cell_type": "markdown",
   "id": "ff2b4bda",
   "metadata": {},
   "source": [
    "PCA is used to find most important/principal components which have most impact on the target variable.\n",
    "In our dataset, there is no need to apply PCA as we are not dealing with a wide number of columns."
   ]
  },
  {
   "cell_type": "markdown",
   "id": "ee03ea5f",
   "metadata": {},
   "source": [
    "# Step 5 Model Building Experimentation"
   ]
  },
  {
   "cell_type": "markdown",
   "id": "53ae4deb",
   "metadata": {},
   "source": [
    "# 5.1 Separate features and target variable"
   ]
  },
  {
   "cell_type": "code",
   "execution_count": 22,
   "id": "5d5c9cbf",
   "metadata": {},
   "outputs": [],
   "source": [
    "df_features=df.drop(['left'],axis='columns')"
   ]
  },
  {
   "cell_type": "code",
   "execution_count": 23,
   "id": "c946351f",
   "metadata": {},
   "outputs": [
    {
     "data": {
      "text/html": [
       "<div>\n",
       "<style scoped>\n",
       "    .dataframe tbody tr th:only-of-type {\n",
       "        vertical-align: middle;\n",
       "    }\n",
       "\n",
       "    .dataframe tbody tr th {\n",
       "        vertical-align: top;\n",
       "    }\n",
       "\n",
       "    .dataframe thead th {\n",
       "        text-align: right;\n",
       "    }\n",
       "</style>\n",
       "<table border=\"1\" class=\"dataframe\">\n",
       "  <thead>\n",
       "    <tr style=\"text-align: right;\">\n",
       "      <th></th>\n",
       "      <th>satisfaction_level</th>\n",
       "      <th>last_evaluation</th>\n",
       "      <th>number_project</th>\n",
       "      <th>average_montly_hours</th>\n",
       "      <th>time_spend_company</th>\n",
       "      <th>work_accident</th>\n",
       "      <th>promotion_last_5years</th>\n",
       "      <th>departments</th>\n",
       "      <th>salary</th>\n",
       "    </tr>\n",
       "  </thead>\n",
       "  <tbody>\n",
       "    <tr>\n",
       "      <th>0</th>\n",
       "      <td>0.38</td>\n",
       "      <td>0.53</td>\n",
       "      <td>2</td>\n",
       "      <td>157</td>\n",
       "      <td>3</td>\n",
       "      <td>0</td>\n",
       "      <td>0</td>\n",
       "      <td>sales</td>\n",
       "      <td>low</td>\n",
       "    </tr>\n",
       "    <tr>\n",
       "      <th>1</th>\n",
       "      <td>0.80</td>\n",
       "      <td>0.86</td>\n",
       "      <td>5</td>\n",
       "      <td>262</td>\n",
       "      <td>6</td>\n",
       "      <td>0</td>\n",
       "      <td>0</td>\n",
       "      <td>sales</td>\n",
       "      <td>medium</td>\n",
       "    </tr>\n",
       "    <tr>\n",
       "      <th>2</th>\n",
       "      <td>0.11</td>\n",
       "      <td>0.88</td>\n",
       "      <td>7</td>\n",
       "      <td>272</td>\n",
       "      <td>4</td>\n",
       "      <td>0</td>\n",
       "      <td>0</td>\n",
       "      <td>sales</td>\n",
       "      <td>medium</td>\n",
       "    </tr>\n",
       "  </tbody>\n",
       "</table>\n",
       "</div>"
      ],
      "text/plain": [
       "   satisfaction_level  last_evaluation  number_project  average_montly_hours  \\\n",
       "0                0.38             0.53               2                   157   \n",
       "1                0.80             0.86               5                   262   \n",
       "2                0.11             0.88               7                   272   \n",
       "\n",
       "   time_spend_company  work_accident  promotion_last_5years departments  \\\n",
       "0                   3              0                      0       sales   \n",
       "1                   6              0                      0       sales   \n",
       "2                   4              0                      0       sales   \n",
       "\n",
       "   salary  \n",
       "0     low  \n",
       "1  medium  \n",
       "2  medium  "
      ]
     },
     "execution_count": 23,
     "metadata": {},
     "output_type": "execute_result"
    }
   ],
   "source": [
    "df_features.head(3)"
   ]
  },
  {
   "cell_type": "code",
   "execution_count": 24,
   "id": "5f96f5e8",
   "metadata": {},
   "outputs": [],
   "source": [
    "df_target=df[['left']]"
   ]
  },
  {
   "cell_type": "code",
   "execution_count": 25,
   "id": "9b19fc01",
   "metadata": {},
   "outputs": [
    {
     "data": {
      "text/html": [
       "<div>\n",
       "<style scoped>\n",
       "    .dataframe tbody tr th:only-of-type {\n",
       "        vertical-align: middle;\n",
       "    }\n",
       "\n",
       "    .dataframe tbody tr th {\n",
       "        vertical-align: top;\n",
       "    }\n",
       "\n",
       "    .dataframe thead th {\n",
       "        text-align: right;\n",
       "    }\n",
       "</style>\n",
       "<table border=\"1\" class=\"dataframe\">\n",
       "  <thead>\n",
       "    <tr style=\"text-align: right;\">\n",
       "      <th></th>\n",
       "      <th>left</th>\n",
       "    </tr>\n",
       "  </thead>\n",
       "  <tbody>\n",
       "    <tr>\n",
       "      <th>0</th>\n",
       "      <td>1</td>\n",
       "    </tr>\n",
       "    <tr>\n",
       "      <th>1</th>\n",
       "      <td>1</td>\n",
       "    </tr>\n",
       "    <tr>\n",
       "      <th>2</th>\n",
       "      <td>1</td>\n",
       "    </tr>\n",
       "  </tbody>\n",
       "</table>\n",
       "</div>"
      ],
      "text/plain": [
       "   left\n",
       "0     1\n",
       "1     1\n",
       "2     1"
      ]
     },
     "execution_count": 25,
     "metadata": {},
     "output_type": "execute_result"
    }
   ],
   "source": [
    "df_target.head(3)"
   ]
  },
  {
   "cell_type": "code",
   "execution_count": null,
   "id": "fc973d08",
   "metadata": {},
   "outputs": [],
   "source": [
    "#X=pd.get_dummies(df_features,drop_first=True)"
   ]
  },
  {
   "cell_type": "markdown",
   "id": "d223cb16",
   "metadata": {},
   "source": [
    "# 5.2 Stratify dataset during splitting"
   ]
  },
  {
   "cell_type": "code",
   "execution_count": null,
   "id": "950e1aae",
   "metadata": {},
   "outputs": [],
   "source": [
    "#use stratified sampling to split up the dataset acccording to the target variable"
   ]
  },
  {
   "cell_type": "code",
   "execution_count": 26,
   "id": "b62aee68",
   "metadata": {},
   "outputs": [],
   "source": [
    "X_train_full, X_test, y_train_full, y_test = train_test_split(df_features, df_target,test_size=0.20, stratify=df_target,random_state=42)"
   ]
  },
  {
   "cell_type": "code",
   "execution_count": null,
   "id": "b6875e23",
   "metadata": {},
   "outputs": [],
   "source": [
    "#check distribution of target variable is same both in training and test set after stratifed sampling"
   ]
  },
  {
   "cell_type": "code",
   "execution_count": 27,
   "id": "021da11e",
   "metadata": {},
   "outputs": [
    {
     "data": {
      "text/plain": [
       "left\n",
       "0       7999\n",
       "1       1593\n",
       "dtype: int64"
      ]
     },
     "execution_count": 27,
     "metadata": {},
     "output_type": "execute_result"
    }
   ],
   "source": [
    "y_train_full.value_counts()"
   ]
  },
  {
   "cell_type": "code",
   "execution_count": 28,
   "id": "db5e4518",
   "metadata": {},
   "outputs": [
    {
     "data": {
      "text/html": [
       "<div>\n",
       "<style scoped>\n",
       "    .dataframe tbody tr th:only-of-type {\n",
       "        vertical-align: middle;\n",
       "    }\n",
       "\n",
       "    .dataframe tbody tr th {\n",
       "        vertical-align: top;\n",
       "    }\n",
       "\n",
       "    .dataframe thead th {\n",
       "        text-align: right;\n",
       "    }\n",
       "</style>\n",
       "<table border=\"1\" class=\"dataframe\">\n",
       "  <thead>\n",
       "    <tr style=\"text-align: right;\">\n",
       "      <th></th>\n",
       "      <th>left</th>\n",
       "    </tr>\n",
       "  </thead>\n",
       "  <tbody>\n",
       "    <tr>\n",
       "      <th>2041</th>\n",
       "      <td>0</td>\n",
       "    </tr>\n",
       "    <tr>\n",
       "      <th>10444</th>\n",
       "      <td>0</td>\n",
       "    </tr>\n",
       "  </tbody>\n",
       "</table>\n",
       "</div>"
      ],
      "text/plain": [
       "       left\n",
       "2041      0\n",
       "10444     0"
      ]
     },
     "execution_count": 28,
     "metadata": {},
     "output_type": "execute_result"
    }
   ],
   "source": [
    "y_train_full.head(2)"
   ]
  },
  {
   "cell_type": "code",
   "execution_count": 29,
   "id": "148b446d",
   "metadata": {},
   "outputs": [
    {
     "data": {
      "text/plain": [
       "left\n",
       "0       2001\n",
       "1        398\n",
       "dtype: int64"
      ]
     },
     "execution_count": 29,
     "metadata": {},
     "output_type": "execute_result"
    }
   ],
   "source": [
    "y_test.value_counts()"
   ]
  },
  {
   "cell_type": "code",
   "execution_count": 30,
   "id": "8446a2e9",
   "metadata": {},
   "outputs": [
    {
     "data": {
      "text/html": [
       "<div>\n",
       "<style scoped>\n",
       "    .dataframe tbody tr th:only-of-type {\n",
       "        vertical-align: middle;\n",
       "    }\n",
       "\n",
       "    .dataframe tbody tr th {\n",
       "        vertical-align: top;\n",
       "    }\n",
       "\n",
       "    .dataframe thead th {\n",
       "        text-align: right;\n",
       "    }\n",
       "</style>\n",
       "<table border=\"1\" class=\"dataframe\">\n",
       "  <thead>\n",
       "    <tr style=\"text-align: right;\">\n",
       "      <th></th>\n",
       "      <th>left</th>\n",
       "    </tr>\n",
       "  </thead>\n",
       "  <tbody>\n",
       "    <tr>\n",
       "      <th>11555</th>\n",
       "      <td>0</td>\n",
       "    </tr>\n",
       "    <tr>\n",
       "      <th>27</th>\n",
       "      <td>1</td>\n",
       "    </tr>\n",
       "    <tr>\n",
       "      <th>5890</th>\n",
       "      <td>0</td>\n",
       "    </tr>\n",
       "    <tr>\n",
       "      <th>9098</th>\n",
       "      <td>0</td>\n",
       "    </tr>\n",
       "    <tr>\n",
       "      <th>239</th>\n",
       "      <td>1</td>\n",
       "    </tr>\n",
       "    <tr>\n",
       "      <th>...</th>\n",
       "      <td>...</td>\n",
       "    </tr>\n",
       "    <tr>\n",
       "      <th>9158</th>\n",
       "      <td>0</td>\n",
       "    </tr>\n",
       "    <tr>\n",
       "      <th>8190</th>\n",
       "      <td>0</td>\n",
       "    </tr>\n",
       "    <tr>\n",
       "      <th>4911</th>\n",
       "      <td>0</td>\n",
       "    </tr>\n",
       "    <tr>\n",
       "      <th>11196</th>\n",
       "      <td>0</td>\n",
       "    </tr>\n",
       "    <tr>\n",
       "      <th>1651</th>\n",
       "      <td>1</td>\n",
       "    </tr>\n",
       "  </tbody>\n",
       "</table>\n",
       "<p>2399 rows × 1 columns</p>\n",
       "</div>"
      ],
      "text/plain": [
       "       left\n",
       "11555     0\n",
       "27        1\n",
       "5890      0\n",
       "9098      0\n",
       "239       1\n",
       "...     ...\n",
       "9158      0\n",
       "8190      0\n",
       "4911      0\n",
       "11196     0\n",
       "1651      1\n",
       "\n",
       "[2399 rows x 1 columns]"
      ]
     },
     "execution_count": 30,
     "metadata": {},
     "output_type": "execute_result"
    }
   ],
   "source": [
    "y_test"
   ]
  },
  {
   "cell_type": "code",
   "execution_count": 31,
   "id": "4e899d9b",
   "metadata": {},
   "outputs": [
    {
     "data": {
      "text/html": [
       "<div>\n",
       "<style scoped>\n",
       "    .dataframe tbody tr th:only-of-type {\n",
       "        vertical-align: middle;\n",
       "    }\n",
       "\n",
       "    .dataframe tbody tr th {\n",
       "        vertical-align: top;\n",
       "    }\n",
       "\n",
       "    .dataframe thead th {\n",
       "        text-align: right;\n",
       "    }\n",
       "</style>\n",
       "<table border=\"1\" class=\"dataframe\">\n",
       "  <thead>\n",
       "    <tr style=\"text-align: right;\">\n",
       "      <th></th>\n",
       "      <th>satisfaction_level</th>\n",
       "      <th>last_evaluation</th>\n",
       "      <th>number_project</th>\n",
       "      <th>average_montly_hours</th>\n",
       "      <th>time_spend_company</th>\n",
       "      <th>work_accident</th>\n",
       "      <th>promotion_last_5years</th>\n",
       "      <th>departments</th>\n",
       "      <th>salary</th>\n",
       "    </tr>\n",
       "  </thead>\n",
       "  <tbody>\n",
       "    <tr>\n",
       "      <th>2041</th>\n",
       "      <td>0.98</td>\n",
       "      <td>0.91</td>\n",
       "      <td>4</td>\n",
       "      <td>240</td>\n",
       "      <td>3</td>\n",
       "      <td>0</td>\n",
       "      <td>0</td>\n",
       "      <td>technical</td>\n",
       "      <td>low</td>\n",
       "    </tr>\n",
       "    <tr>\n",
       "      <th>10444</th>\n",
       "      <td>0.63</td>\n",
       "      <td>0.89</td>\n",
       "      <td>3</td>\n",
       "      <td>239</td>\n",
       "      <td>3</td>\n",
       "      <td>0</td>\n",
       "      <td>0</td>\n",
       "      <td>IT</td>\n",
       "      <td>medium</td>\n",
       "    </tr>\n",
       "  </tbody>\n",
       "</table>\n",
       "</div>"
      ],
      "text/plain": [
       "       satisfaction_level  last_evaluation  number_project  \\\n",
       "2041                 0.98             0.91               4   \n",
       "10444                0.63             0.89               3   \n",
       "\n",
       "       average_montly_hours  time_spend_company  work_accident  \\\n",
       "2041                    240                   3              0   \n",
       "10444                   239                   3              0   \n",
       "\n",
       "       promotion_last_5years departments  salary  \n",
       "2041                       0   technical     low  \n",
       "10444                      0          IT  medium  "
      ]
     },
     "execution_count": 31,
     "metadata": {},
     "output_type": "execute_result"
    }
   ],
   "source": [
    "X_train_full.head(2)"
   ]
  },
  {
   "cell_type": "code",
   "execution_count": 32,
   "id": "bffd4c29",
   "metadata": {},
   "outputs": [
    {
     "data": {
      "text/plain": [
       "array([[0.98, 0.91, 4, ..., 0, 'technical', 'low'],\n",
       "       [0.63, 0.89, 3, ..., 0, 'IT', 'medium'],\n",
       "       [0.85, 0.59, 3, ..., 0, 'support', 'low'],\n",
       "       ...,\n",
       "       [0.85, 0.69, 5, ..., 0, 'hr', 'low'],\n",
       "       [0.66, 0.62, 3, ..., 0, 'management', 'low'],\n",
       "       [0.8, 0.53, 3, ..., 0, 'technical', 'high']], dtype=object)"
      ]
     },
     "execution_count": 32,
     "metadata": {},
     "output_type": "execute_result"
    }
   ],
   "source": [
    "X_train_full.values"
   ]
  },
  {
   "cell_type": "code",
   "execution_count": 33,
   "id": "7ec91059",
   "metadata": {},
   "outputs": [
    {
     "data": {
      "text/plain": [
       "numpy.ndarray"
      ]
     },
     "execution_count": 33,
     "metadata": {},
     "output_type": "execute_result"
    }
   ],
   "source": [
    "type(X_train_full.values)"
   ]
  },
  {
   "cell_type": "markdown",
   "id": "517ad109",
   "metadata": {},
   "source": [
    "# 5.3 Log normalization - High variance"
   ]
  },
  {
   "cell_type": "code",
   "execution_count": null,
   "id": "c9ec7b42",
   "metadata": {},
   "outputs": [],
   "source": [
    "#Log normalize column 'average_monthly_hours' both within the column and across columns"
   ]
  },
  {
   "cell_type": "code",
   "execution_count": 34,
   "id": "9bc70cfe",
   "metadata": {},
   "outputs": [],
   "source": [
    "X_train_full['log_avg_monthhours']=np.log(X_train_full['average_montly_hours'])"
   ]
  },
  {
   "cell_type": "code",
   "execution_count": 35,
   "id": "6031606a",
   "metadata": {},
   "outputs": [],
   "source": [
    "X_test['log_avg_monthhours']=np.log(X_test['average_montly_hours'])"
   ]
  },
  {
   "cell_type": "code",
   "execution_count": 36,
   "id": "4851b8c1",
   "metadata": {},
   "outputs": [
    {
     "name": "stderr",
     "output_type": "stream",
     "text": [
      "C:\\Users\\Dell\\AppData\\Local\\Temp/ipykernel_20064/4149338768.py:1: FutureWarning: Dropping of nuisance columns in DataFrame reductions (with 'numeric_only=None') is deprecated; in a future version this will raise TypeError.  Select only valid columns before calling the reduction.\n",
      "  X_train_full.var()\n"
     ]
    },
    {
     "data": {
      "text/plain": [
       "satisfaction_level          0.058116\n",
       "last_evaluation             0.028397\n",
       "number_project              1.353009\n",
       "average_montly_hours     2371.030356\n",
       "time_spend_company          1.793069\n",
       "work_accident               0.131365\n",
       "promotion_last_5years       0.016303\n",
       "log_avg_monthhours          0.064493\n",
       "dtype: float64"
      ]
     },
     "execution_count": 36,
     "metadata": {},
     "output_type": "execute_result"
    }
   ],
   "source": [
    "X_train_full.var()"
   ]
  },
  {
   "cell_type": "code",
   "execution_count": 37,
   "id": "6b0e2135",
   "metadata": {},
   "outputs": [
    {
     "data": {
      "text/html": [
       "<div>\n",
       "<style scoped>\n",
       "    .dataframe tbody tr th:only-of-type {\n",
       "        vertical-align: middle;\n",
       "    }\n",
       "\n",
       "    .dataframe tbody tr th {\n",
       "        vertical-align: top;\n",
       "    }\n",
       "\n",
       "    .dataframe thead th {\n",
       "        text-align: right;\n",
       "    }\n",
       "</style>\n",
       "<table border=\"1\" class=\"dataframe\">\n",
       "  <thead>\n",
       "    <tr style=\"text-align: right;\">\n",
       "      <th></th>\n",
       "      <th>satisfaction_level</th>\n",
       "      <th>last_evaluation</th>\n",
       "      <th>number_project</th>\n",
       "      <th>average_montly_hours</th>\n",
       "      <th>time_spend_company</th>\n",
       "      <th>work_accident</th>\n",
       "      <th>promotion_last_5years</th>\n",
       "      <th>departments</th>\n",
       "      <th>salary</th>\n",
       "      <th>log_avg_monthhours</th>\n",
       "    </tr>\n",
       "  </thead>\n",
       "  <tbody>\n",
       "    <tr>\n",
       "      <th>2041</th>\n",
       "      <td>0.98</td>\n",
       "      <td>0.91</td>\n",
       "      <td>4</td>\n",
       "      <td>240</td>\n",
       "      <td>3</td>\n",
       "      <td>0</td>\n",
       "      <td>0</td>\n",
       "      <td>technical</td>\n",
       "      <td>low</td>\n",
       "      <td>5.480639</td>\n",
       "    </tr>\n",
       "    <tr>\n",
       "      <th>10444</th>\n",
       "      <td>0.63</td>\n",
       "      <td>0.89</td>\n",
       "      <td>3</td>\n",
       "      <td>239</td>\n",
       "      <td>3</td>\n",
       "      <td>0</td>\n",
       "      <td>0</td>\n",
       "      <td>IT</td>\n",
       "      <td>medium</td>\n",
       "      <td>5.476464</td>\n",
       "    </tr>\n",
       "    <tr>\n",
       "      <th>2030</th>\n",
       "      <td>0.85</td>\n",
       "      <td>0.59</td>\n",
       "      <td>3</td>\n",
       "      <td>235</td>\n",
       "      <td>3</td>\n",
       "      <td>0</td>\n",
       "      <td>0</td>\n",
       "      <td>support</td>\n",
       "      <td>low</td>\n",
       "      <td>5.459586</td>\n",
       "    </tr>\n",
       "  </tbody>\n",
       "</table>\n",
       "</div>"
      ],
      "text/plain": [
       "       satisfaction_level  last_evaluation  number_project  \\\n",
       "2041                 0.98             0.91               4   \n",
       "10444                0.63             0.89               3   \n",
       "2030                 0.85             0.59               3   \n",
       "\n",
       "       average_montly_hours  time_spend_company  work_accident  \\\n",
       "2041                    240                   3              0   \n",
       "10444                   239                   3              0   \n",
       "2030                    235                   3              0   \n",
       "\n",
       "       promotion_last_5years departments  salary  log_avg_monthhours  \n",
       "2041                       0   technical     low            5.480639  \n",
       "10444                      0          IT  medium            5.476464  \n",
       "2030                       0     support     low            5.459586  "
      ]
     },
     "execution_count": 37,
     "metadata": {},
     "output_type": "execute_result"
    }
   ],
   "source": [
    "X_train_full.head(3)"
   ]
  },
  {
   "cell_type": "code",
   "execution_count": 38,
   "id": "7a7665fb",
   "metadata": {},
   "outputs": [
    {
     "name": "stderr",
     "output_type": "stream",
     "text": [
      "C:\\Users\\Dell\\AppData\\Local\\Temp/ipykernel_20064/1085261661.py:1: FutureWarning: Dropping of nuisance columns in DataFrame reductions (with 'numeric_only=None') is deprecated; in a future version this will raise TypeError.  Select only valid columns before calling the reduction.\n",
      "  X_test.var()\n"
     ]
    },
    {
     "data": {
      "text/plain": [
       "satisfaction_level          0.058135\n",
       "last_evaluation             0.028103\n",
       "number_project              1.353918\n",
       "average_montly_hours     2386.196674\n",
       "time_spend_company          1.673115\n",
       "work_accident               0.127013\n",
       "promotion_last_5years       0.018012\n",
       "log_avg_monthhours          0.065456\n",
       "dtype: float64"
      ]
     },
     "execution_count": 38,
     "metadata": {},
     "output_type": "execute_result"
    }
   ],
   "source": [
    "X_test.var()"
   ]
  },
  {
   "cell_type": "markdown",
   "id": "2fb474a2",
   "metadata": {},
   "source": [
    "# 5.4 Encoding categorical variables"
   ]
  },
  {
   "cell_type": "code",
   "execution_count": 123,
   "id": "f3f3e5ce",
   "metadata": {},
   "outputs": [],
   "source": [
    "#Apply one-hot encoding to departments (nominal) and salaries (ordinal) features"
   ]
  },
  {
   "cell_type": "code",
   "execution_count": 39,
   "id": "e8ee42b6",
   "metadata": {},
   "outputs": [],
   "source": [
    "department_dummies = pd.get_dummies(X_train_full.departments)\n",
    "salaries_dummies = pd.get_dummies(X_train_full.salary)"
   ]
  },
  {
   "cell_type": "code",
   "execution_count": 40,
   "id": "7dc10359",
   "metadata": {},
   "outputs": [
    {
     "data": {
      "text/html": [
       "<div>\n",
       "<style scoped>\n",
       "    .dataframe tbody tr th:only-of-type {\n",
       "        vertical-align: middle;\n",
       "    }\n",
       "\n",
       "    .dataframe tbody tr th {\n",
       "        vertical-align: top;\n",
       "    }\n",
       "\n",
       "    .dataframe thead th {\n",
       "        text-align: right;\n",
       "    }\n",
       "</style>\n",
       "<table border=\"1\" class=\"dataframe\">\n",
       "  <thead>\n",
       "    <tr style=\"text-align: right;\">\n",
       "      <th></th>\n",
       "      <th>high</th>\n",
       "      <th>low</th>\n",
       "      <th>medium</th>\n",
       "    </tr>\n",
       "  </thead>\n",
       "  <tbody>\n",
       "    <tr>\n",
       "      <th>2041</th>\n",
       "      <td>0</td>\n",
       "      <td>1</td>\n",
       "      <td>0</td>\n",
       "    </tr>\n",
       "    <tr>\n",
       "      <th>10444</th>\n",
       "      <td>0</td>\n",
       "      <td>0</td>\n",
       "      <td>1</td>\n",
       "    </tr>\n",
       "    <tr>\n",
       "      <th>2030</th>\n",
       "      <td>0</td>\n",
       "      <td>1</td>\n",
       "      <td>0</td>\n",
       "    </tr>\n",
       "  </tbody>\n",
       "</table>\n",
       "</div>"
      ],
      "text/plain": [
       "       high  low  medium\n",
       "2041      0    1       0\n",
       "10444     0    0       1\n",
       "2030      0    1       0"
      ]
     },
     "execution_count": 40,
     "metadata": {},
     "output_type": "execute_result"
    }
   ],
   "source": [
    "salaries_dummies.head(3)"
   ]
  },
  {
   "cell_type": "code",
   "execution_count": 41,
   "id": "93204b5b",
   "metadata": {},
   "outputs": [],
   "source": [
    "X_train_encoded_department = pd.concat([X_train_full,department_dummies.drop('technical',axis='columns')],axis='columns')"
   ]
  },
  {
   "cell_type": "code",
   "execution_count": 42,
   "id": "fa4232c8",
   "metadata": {},
   "outputs": [],
   "source": [
    "X_train_encoded_salaries = pd.concat([X_train_encoded_department,salaries_dummies.drop('medium',axis='columns')],axis='columns')"
   ]
  },
  {
   "cell_type": "code",
   "execution_count": 43,
   "id": "2b2289f7",
   "metadata": {},
   "outputs": [],
   "source": [
    "#eliminate column 'technical' and 'medium' to avoid dummy variable trap to improve performance of model"
   ]
  },
  {
   "cell_type": "code",
   "execution_count": 44,
   "id": "2b7d7369",
   "metadata": {},
   "outputs": [],
   "source": [
    "depart_test_dummies = pd.get_dummies(X_test.departments)\n",
    "salaries_test_dummies = pd.get_dummies(X_test.salary)\n",
    "#X = pd.get_dummies(X, drop_first=True)"
   ]
  },
  {
   "cell_type": "code",
   "execution_count": 45,
   "id": "17be0914",
   "metadata": {},
   "outputs": [],
   "source": [
    "X_test_encoded_department = pd.concat([X_test,depart_test_dummies.drop('technical',axis='columns')],axis='columns')"
   ]
  },
  {
   "cell_type": "code",
   "execution_count": 46,
   "id": "8c3547ce",
   "metadata": {},
   "outputs": [],
   "source": [
    "X_test_encoded_salaries = pd.concat([X_test_encoded_department,salaries_test_dummies.drop('medium',axis='columns')],axis='columns')"
   ]
  },
  {
   "cell_type": "markdown",
   "id": "fc2ac65f",
   "metadata": {},
   "source": [
    "# 5.5 Select Features for modeling"
   ]
  },
  {
   "cell_type": "markdown",
   "id": "a90e770e",
   "metadata": {},
   "source": [
    "Drop redundant features"
   ]
  },
  {
   "cell_type": "code",
   "execution_count": 166,
   "id": "76ee6f69",
   "metadata": {},
   "outputs": [],
   "source": [
    "#Remove duplicated column average_montly_hours after feature engineering\n",
    "#Remove 'departments' & 'salary' columns after one-hot encoding"
   ]
  },
  {
   "cell_type": "code",
   "execution_count": 47,
   "id": "9c42947a",
   "metadata": {},
   "outputs": [],
   "source": [
    "X_train = X_train_encoded_salaries.drop(['departments','salary','average_montly_hours'],axis =1)"
   ]
  },
  {
   "cell_type": "code",
   "execution_count": 48,
   "id": "e2b8bfeb",
   "metadata": {},
   "outputs": [],
   "source": [
    "X_test = X_test_encoded_salaries.drop(['departments','salary','average_montly_hours'],axis =1)"
   ]
  },
  {
   "cell_type": "code",
   "execution_count": 49,
   "id": "fb640724",
   "metadata": {},
   "outputs": [
    {
     "data": {
      "text/plain": [
       "pandas.core.frame.DataFrame"
      ]
     },
     "execution_count": 49,
     "metadata": {},
     "output_type": "execute_result"
    }
   ],
   "source": [
    "type(X_test)"
   ]
  },
  {
   "cell_type": "markdown",
   "id": "23271159",
   "metadata": {},
   "source": [
    "# 5.6 Standardizing dataset "
   ]
  },
  {
   "cell_type": "code",
   "execution_count": 116,
   "id": "f9745d7e",
   "metadata": {},
   "outputs": [],
   "source": [
    "#Scaling data for feature comparison so that all features are using same scale"
   ]
  },
  {
   "cell_type": "code",
   "execution_count": 50,
   "id": "62dd4aa8",
   "metadata": {},
   "outputs": [],
   "source": [
    "scaler = StandardScaler()"
   ]
  },
  {
   "cell_type": "code",
   "execution_count": 51,
   "id": "e6e396de",
   "metadata": {},
   "outputs": [],
   "source": [
    "#scaled_X_train = pd.DataFrame(scaler.fit_transform(X_train),columns=X_train.columns)\n",
    "#scaled_X_test =  pd.DataFrame(scaler.fit_transform(X_test),columns=X_test.columns)\n",
    "scaled_X_train = scaler.fit_transform(X_train)\n",
    "scaled_X_test =  scaler.fit_transform(X_test)"
   ]
  },
  {
   "cell_type": "code",
   "execution_count": 210,
   "id": "75290bcb",
   "metadata": {},
   "outputs": [],
   "source": [
    "#knn = KNeighborsClassifier()\n",
    "#knn.fit(scaled_X_train,y_train_full)\n",
    "#knn.score(scaled_X_test,y_test)"
   ]
  },
  {
   "cell_type": "code",
   "execution_count": 52,
   "id": "febd2737",
   "metadata": {},
   "outputs": [
    {
     "name": "stdout",
     "output_type": "stream",
     "text": [
      "              precision    recall  f1-score   support\n",
      "\n",
      "           0       0.98      0.97      0.98      2001\n",
      "           1       0.87      0.92      0.89       398\n",
      "\n",
      "    accuracy                           0.96      2399\n",
      "   macro avg       0.92      0.95      0.94      2399\n",
      "weighted avg       0.96      0.96      0.96      2399\n",
      "\n"
     ]
    }
   ],
   "source": [
    "model = DecisionTreeClassifier(max_depth=3)\n",
    "model.fit(scaled_X_train, y_train_full)\n",
    "y_pred = model.predict(scaled_X_test)\n",
    "print(classification_report(y_test, y_pred))"
   ]
  },
  {
   "cell_type": "code",
   "execution_count": null,
   "id": "361c3f30",
   "metadata": {},
   "outputs": [],
   "source": []
  },
  {
   "cell_type": "markdown",
   "id": "513e891e",
   "metadata": {},
   "source": [
    "# 5.7 Random Over Sampling"
   ]
  },
  {
   "cell_type": "markdown",
   "id": "8e38756c",
   "metadata": {},
   "source": [
    "Oversample only the training set and not the test set before training the model."
   ]
  },
  {
   "cell_type": "code",
   "execution_count": 53,
   "id": "d4244847",
   "metadata": {},
   "outputs": [],
   "source": [
    "ros = RandomOverSampler(random_state=42)\n",
    "\n",
    "X_resampled, y_resampled = ros.fit_resample(scaled_X_train, y_train_full)"
   ]
  },
  {
   "cell_type": "code",
   "execution_count": 54,
   "id": "d96a2c3c",
   "metadata": {},
   "outputs": [
    {
     "data": {
      "text/plain": [
       "0.9103793247186328"
      ]
     },
     "execution_count": 54,
     "metadata": {},
     "output_type": "execute_result"
    }
   ],
   "source": [
    "knn = KNeighborsClassifier()\n",
    "knn.fit(X_resampled,y_resampled.values.ravel())\n",
    "knn.score(scaled_X_test,y_test.values.ravel())"
   ]
  },
  {
   "cell_type": "code",
   "execution_count": 330,
   "id": "8e7bf78d",
   "metadata": {},
   "outputs": [
    {
     "data": {
      "text/plain": [
       "(2399,)"
      ]
     },
     "execution_count": 330,
     "metadata": {},
     "output_type": "execute_result"
    }
   ],
   "source": [
    "#y_test.values.ravel().shape"
   ]
  },
  {
   "cell_type": "code",
   "execution_count": 55,
   "id": "3fbfc6c9",
   "metadata": {},
   "outputs": [],
   "source": [
    "#use cross-validation to test stability of algorithm \n",
    "scores = cross_val_score(knn, X_resampled, y_resampled.values.ravel(), cv=5, scoring='f1')"
   ]
  },
  {
   "cell_type": "code",
   "execution_count": 57,
   "id": "0e0663b9",
   "metadata": {},
   "outputs": [
    {
     "name": "stdout",
     "output_type": "stream",
     "text": [
      "              precision    recall  f1-score   support\n",
      "\n",
      "           0       0.99      0.93      0.96      2001\n",
      "           1       0.73      0.95      0.83       398\n",
      "\n",
      "    accuracy                           0.93      2399\n",
      "   macro avg       0.86      0.94      0.89      2399\n",
      "weighted avg       0.95      0.93      0.94      2399\n",
      "\n"
     ]
    }
   ],
   "source": [
    "model = DecisionTreeClassifier(max_depth=4)\n",
    "model.fit(X_resampled, y_resampled.values.ravel())\n",
    "scores = cross_val_score(model, X_resampled, y_resampled.values.ravel(), cv=5, scoring='f1')\n",
    "\n",
    "y_pred = model.predict(scaled_X_test)\n",
    "print(classification_report(y_test.values.ravel(), y_pred))"
   ]
  },
  {
   "cell_type": "code",
   "execution_count": 58,
   "id": "272d2d15",
   "metadata": {},
   "outputs": [
    {
     "data": {
      "text/plain": [
       "array([0.93816365, 0.93143034, 0.93927126, 0.93482309, 0.92843808])"
      ]
     },
     "execution_count": 58,
     "metadata": {},
     "output_type": "execute_result"
    }
   ],
   "source": [
    "scores = cross_val_score(model, X_resampled, y_resampled.values.ravel(), cv=5, scoring='f1')\n",
    "scores"
   ]
  },
  {
   "cell_type": "code",
   "execution_count": 59,
   "id": "8e64784f",
   "metadata": {},
   "outputs": [
    {
     "data": {
      "text/plain": [
       "0.004060376431906315"
      ]
     },
     "execution_count": 59,
     "metadata": {},
     "output_type": "execute_result"
    }
   ],
   "source": [
    "scores.std()"
   ]
  },
  {
   "cell_type": "markdown",
   "id": "2e3eaebd",
   "metadata": {},
   "source": [
    "# Step 6 Cross-Validation Model Building (No Data Leakage)"
   ]
  },
  {
   "cell_type": "markdown",
   "id": "9603b03c",
   "metadata": {},
   "source": [
    "Since we are using cross-fold validation to test stability of algorithm, we would need to do the standardizing and feature engineering within each fold."
   ]
  },
  {
   "cell_type": "code",
   "execution_count": 280,
   "id": "f3883264",
   "metadata": {},
   "outputs": [
    {
     "name": "stdout",
     "output_type": "stream",
     "text": [
      "              precision    recall  f1-score   support\n",
      "\n",
      "           0       0.96      0.99      0.98      2500\n",
      "           1       0.95      0.80      0.87       498\n",
      "\n",
      "    accuracy                           0.96      2998\n",
      "   macro avg       0.96      0.90      0.92      2998\n",
      "weighted avg       0.96      0.96      0.96      2998\n",
      "\n",
      "              precision    recall  f1-score   support\n",
      "\n",
      "           0       0.98      0.98      0.98      2500\n",
      "           1       0.91      0.89      0.90       498\n",
      "\n",
      "    accuracy                           0.97      2998\n",
      "   macro avg       0.94      0.94      0.94      2998\n",
      "weighted avg       0.97      0.97      0.97      2998\n",
      "\n",
      "              precision    recall  f1-score   support\n",
      "\n",
      "           0       0.98      0.99      0.99      2500\n",
      "           1       0.93      0.92      0.93       498\n",
      "\n",
      "    accuracy                           0.98      2998\n",
      "   macro avg       0.96      0.95      0.96      2998\n",
      "weighted avg       0.98      0.98      0.98      2998\n",
      "\n",
      "              precision    recall  f1-score   support\n",
      "\n",
      "           0       0.95      0.99      0.97      2500\n",
      "           1       0.93      0.76      0.84       497\n",
      "\n",
      "    accuracy                           0.95      2997\n",
      "   macro avg       0.94      0.88      0.91      2997\n",
      "weighted avg       0.95      0.95      0.95      2997\n",
      "\n"
     ]
    }
   ],
   "source": [
    "skf = StratifiedKFold(n_splits=4, shuffle=True, random_state=1)\n",
    "scores_accu_decision_tree = []\n",
    "scores_accu_logistic = []\n",
    "scores_xgboost = []\n",
    "\n",
    "for train_index, test_index in skf.split(df_features, df_target):\n",
    "    X_train, x_val = df_features.iloc[train_index], df_features.iloc[test_index]\n",
    "    y_train, y_val = df_target.iloc[train_index], df_target.iloc[test_index]\n",
    "    \n",
    "#Now that we have each stratified fold, repeat the following steps:\n",
    "# 5.3 Log normalization - High variance\n",
    "# 5.4 Encoding categorical variables\n",
    "# 5.5 Select Features for modeling\n",
    "# 5.6 Standardizing dataset\n",
    "# 5.7 Random Over Sampling\n",
    "\n",
    "#Log normalization\n",
    "    log_avg_monthhours =np.log(X_train['average_montly_hours'])\n",
    "    X_train = pd.concat([X_train,log_avg_monthhours],axis='columns')\n",
    "    \n",
    "    log_avg_monthhours =np.log(x_val['average_montly_hours'])\n",
    "    x_val = pd.concat([x_val,log_avg_monthhours],axis='columns')\n",
    "    #print(x_val.var())\n",
    "#Encoding categorical variables\n",
    "    department_dummies = pd.get_dummies(X_train.departments)\n",
    "    salaries_dummies = pd.get_dummies(X_train.salary)\n",
    "    \n",
    "    #eliminate column 'technical' and 'medium' to avoid dummy variable trap to improve performance of model\n",
    "    \n",
    "    X_train_encoded_department = pd.concat([X_train,department_dummies.drop('technical',axis='columns')],axis='columns')\n",
    "    X_train_encoded_salaries = pd.concat([X_train_encoded_department,salaries_dummies.drop('medium',axis='columns')],axis='columns')\n",
    "    \n",
    "    depart_test_dummies = pd.get_dummies(x_val.departments)\n",
    "    salaries_test_dummies = pd.get_dummies(x_val.salary)\n",
    "    \n",
    "    X_test_encoded_department = pd.concat([x_val,depart_test_dummies.drop('technical',axis='columns')],axis='columns')\n",
    "    X_test_encoded_salaries = pd.concat([X_test_encoded_department,salaries_test_dummies.drop('medium',axis='columns')],axis='columns')\n",
    "    \n",
    "#Select Features for modeling\n",
    "    #Remove duplicated column average_montly_hours after feature engineering\n",
    "    #Remove 'departments' & 'salary' columns after one-hot encoding\n",
    "    X_train = X_train_encoded_salaries.drop(['departments','salary','average_montly_hours'],axis =1)\n",
    "    X_test = X_test_encoded_salaries.drop(['departments','salary','average_montly_hours'],axis =1)\n",
    "\n",
    "#Standardizing dataset\n",
    "    scaler = StandardScaler()\n",
    "    scaled_X_train = scaler.fit_transform(X_train)\n",
    "    scaled_X_test =  scaler.fit_transform(X_test)\n",
    "    \n",
    "#Random Over Sampling\n",
    "    ros = RandomOverSampler(random_state=42)\n",
    "    X_resampled, y_resampled = ros.fit_resample(scaled_X_train, y_train.values)\n",
    "    \n",
    "    knn = KNeighborsClassifier()\n",
    "    model = knn.fit(X_resampled,y_resampled)\n",
    "    y_pred = model.predict(scaled_X_test)\n",
    "    #print(classification_report(y_val, y_pred))\n",
    "\n",
    "    Linear_Reg = LogisticRegression()\n",
    "    model_Reg = Linear_Reg.fit(X_resampled,y_resampled)\n",
    "    y_pred = model_Reg.predict(scaled_X_test)\n",
    "    #print(classification_report(y_val, y_pred))\n",
    "\n",
    "    DecTree = DecisionTreeClassifier()\n",
    "    model_DecTree = DecTree.fit(X_resampled,y_resampled)\n",
    "    y_pred = model_DecTree.predict(scaled_X_test)\n",
    "    #print(classification_report(y_val, y_pred))\n",
    "\n",
    "\n",
    "    RanForest = RandomForestClassifier()\n",
    "    model_RanForest = RanForest.fit(X_resampled,y_resampled)\n",
    "    y_pred = model_RanForest.predict(scaled_X_test)\n",
    "    #print(classification_report(y_val, y_pred))\n",
    "\n",
    "\n",
    "    xGBoost = XGBClassifier()\n",
    "    model_xGBoost = xGBoost.fit(X_resampled,y_resampled)\n",
    "    y_pred = model_xGBoost.predict(scaled_X_test)\n",
    "    print(classification_report(y_val, y_pred))\n",
    "    \n",
    "\n",
    "   \n",
    "    \n",
    "  \n",
    "    \n"
   ]
  },
  {
   "cell_type": "markdown",
   "id": "fb8b96b0",
   "metadata": {},
   "source": [
    "# Step 7 Creating Pipelines"
   ]
  },
  {
   "cell_type": "markdown",
   "id": "3fe880e1",
   "metadata": {},
   "source": [
    "Build the same model using pipeline. We use pipeline to chain the steps sequentially (pre-processing and model building).\n",
    "The package imblearn contains the SMOTE algorithm and is being integrated into our SKLearn pipelines.\n",
    "Import the imblearn pipeline instead of the sklearn pipeline for imbalanced dataset."
   ]
  },
  {
   "cell_type": "code",
   "execution_count": null,
   "id": "af92c9e8",
   "metadata": {},
   "outputs": [],
   "source": [
    "## Creating pipelines for Logistic regression, Decision Tree, Random Forest models, KNN, Xgboost\n",
    "#  Pipeline steps will include\n",
    "## 1. Data Preprocessing using all the steps above\n",
    "## 2. Training respective models"
   ]
  },
  {
   "cell_type": "code",
   "execution_count": null,
   "id": "45e10c5d",
   "metadata": {},
   "outputs": [],
   "source": [
    "#use stratified sampling to split up the dataset acccording to the target variable"
   ]
  },
  {
   "cell_type": "code",
   "execution_count": 102,
   "id": "ff74466d",
   "metadata": {},
   "outputs": [],
   "source": [
    "X_train, X_test, y_train, y_test = train_test_split(df_features, df_target,test_size=0.20, stratify=df_target,random_state=42)"
   ]
  },
  {
   "cell_type": "code",
   "execution_count": null,
   "id": "6c4cf85c",
   "metadata": {},
   "outputs": [],
   "source": [
    "#Use column transformer when you have different features in dataframe that needs different pre-processing\n",
    "#separate the numerical features and the categorical features for one-hot encoding of categorical columns"
   ]
  },
  {
   "cell_type": "code",
   "execution_count": 119,
   "id": "ae19a41b",
   "metadata": {},
   "outputs": [],
   "source": [
    "#Collect all numerical features\n",
    "num_Features = ['satisfaction_level', 'last_evaluation', 'number_project', 'time_spend_company', 'work_accident',\n",
    "                'promotion_last_5years']"
   ]
  },
  {
   "cell_type": "code",
   "execution_count": 168,
   "id": "e86b8016",
   "metadata": {},
   "outputs": [],
   "source": [
    "from sklearn.preprocessing import FunctionTransformer\n",
    "\n",
    "#create pipeline for categorical features\n",
    "cat_transformer = Pipeline([\n",
    "    ('ohe',OneHotEncoder())\n",
    "    ])\n",
    "\n",
    "#create pipeline for numerical features - don't anything to it\n",
    "num_transformer = Pipeline([\n",
    "    ('pass','passthrough')\n",
    "    ])\n",
    "\n",
    "#create pipeline for logarithimic transformation\n",
    "averagehour_pipeline = Pipeline([\n",
    "    ('average_montly_hours',FunctionTransformer(np.log))\n",
    "]\n",
    ")\n",
    "\n",
    "preprocessor = ColumnTransformer(\n",
    "transformers=[\n",
    "    ('cat',cat_transformer,['departments','salary']),\n",
    "    ('num',num_transformer,num_Features),\n",
    "    ('avg_month_hours',averagehour_pipeline,['average_montly_hours'])\n",
    "]\n",
    ")"
   ]
  },
  {
   "cell_type": "code",
   "execution_count": 169,
   "id": "be20ca10",
   "metadata": {},
   "outputs": [],
   "source": [
    "#Logistic Regression Pipeline\n",
    "#Performance of logistic regression is bad with a f1-score of only 57%\n",
    "LogisticRegressionPipeline=Pipeline([                     \n",
    "                     ('preprocessor',preprocessor),\n",
    "                     ('standard_scaler',StandardScaler()),\n",
    "                     ('SMOTE',SMOTE(random_state=42)),\n",
    "                     ('logistic_classifier',LogisticRegression())\n",
    "                     \n",
    "])"
   ]
  },
  {
   "cell_type": "code",
   "execution_count": 171,
   "id": "d02fd02c",
   "metadata": {},
   "outputs": [
    {
     "data": {
      "text/html": [
       "<style>#sk-container-id-13 {color: black;background-color: white;}#sk-container-id-13 pre{padding: 0;}#sk-container-id-13 div.sk-toggleable {background-color: white;}#sk-container-id-13 label.sk-toggleable__label {cursor: pointer;display: block;width: 100%;margin-bottom: 0;padding: 0.3em;box-sizing: border-box;text-align: center;}#sk-container-id-13 label.sk-toggleable__label-arrow:before {content: \"▸\";float: left;margin-right: 0.25em;color: #696969;}#sk-container-id-13 label.sk-toggleable__label-arrow:hover:before {color: black;}#sk-container-id-13 div.sk-estimator:hover label.sk-toggleable__label-arrow:before {color: black;}#sk-container-id-13 div.sk-toggleable__content {max-height: 0;max-width: 0;overflow: hidden;text-align: left;background-color: #f0f8ff;}#sk-container-id-13 div.sk-toggleable__content pre {margin: 0.2em;color: black;border-radius: 0.25em;background-color: #f0f8ff;}#sk-container-id-13 input.sk-toggleable__control:checked~div.sk-toggleable__content {max-height: 200px;max-width: 100%;overflow: auto;}#sk-container-id-13 input.sk-toggleable__control:checked~label.sk-toggleable__label-arrow:before {content: \"▾\";}#sk-container-id-13 div.sk-estimator input.sk-toggleable__control:checked~label.sk-toggleable__label {background-color: #d4ebff;}#sk-container-id-13 div.sk-label input.sk-toggleable__control:checked~label.sk-toggleable__label {background-color: #d4ebff;}#sk-container-id-13 input.sk-hidden--visually {border: 0;clip: rect(1px 1px 1px 1px);clip: rect(1px, 1px, 1px, 1px);height: 1px;margin: -1px;overflow: hidden;padding: 0;position: absolute;width: 1px;}#sk-container-id-13 div.sk-estimator {font-family: monospace;background-color: #f0f8ff;border: 1px dotted black;border-radius: 0.25em;box-sizing: border-box;margin-bottom: 0.5em;}#sk-container-id-13 div.sk-estimator:hover {background-color: #d4ebff;}#sk-container-id-13 div.sk-parallel-item::after {content: \"\";width: 100%;border-bottom: 1px solid gray;flex-grow: 1;}#sk-container-id-13 div.sk-label:hover label.sk-toggleable__label {background-color: #d4ebff;}#sk-container-id-13 div.sk-serial::before {content: \"\";position: absolute;border-left: 1px solid gray;box-sizing: border-box;top: 0;bottom: 0;left: 50%;z-index: 0;}#sk-container-id-13 div.sk-serial {display: flex;flex-direction: column;align-items: center;background-color: white;padding-right: 0.2em;padding-left: 0.2em;position: relative;}#sk-container-id-13 div.sk-item {position: relative;z-index: 1;}#sk-container-id-13 div.sk-parallel {display: flex;align-items: stretch;justify-content: center;background-color: white;position: relative;}#sk-container-id-13 div.sk-item::before, #sk-container-id-13 div.sk-parallel-item::before {content: \"\";position: absolute;border-left: 1px solid gray;box-sizing: border-box;top: 0;bottom: 0;left: 50%;z-index: -1;}#sk-container-id-13 div.sk-parallel-item {display: flex;flex-direction: column;z-index: 1;position: relative;background-color: white;}#sk-container-id-13 div.sk-parallel-item:first-child::after {align-self: flex-end;width: 50%;}#sk-container-id-13 div.sk-parallel-item:last-child::after {align-self: flex-start;width: 50%;}#sk-container-id-13 div.sk-parallel-item:only-child::after {width: 0;}#sk-container-id-13 div.sk-dashed-wrapped {border: 1px dashed gray;margin: 0 0.4em 0.5em 0.4em;box-sizing: border-box;padding-bottom: 0.4em;background-color: white;}#sk-container-id-13 div.sk-label label {font-family: monospace;font-weight: bold;display: inline-block;line-height: 1.2em;}#sk-container-id-13 div.sk-label-container {text-align: center;}#sk-container-id-13 div.sk-container {/* jupyter's `normalize.less` sets `[hidden] { display: none; }` but bootstrap.min.css set `[hidden] { display: none !important; }` so we also need the `!important` here to be able to override the default hidden behavior on the sphinx rendered scikit-learn.org. See: https://github.com/scikit-learn/scikit-learn/issues/21755 */display: inline-block !important;position: relative;}#sk-container-id-13 div.sk-text-repr-fallback {display: none;}</style><div id=\"sk-container-id-13\" class=\"sk-top-container\"><div class=\"sk-text-repr-fallback\"><pre>Pipeline(steps=[(&#x27;preprocessor&#x27;,\n",
       "                 ColumnTransformer(transformers=[(&#x27;cat&#x27;,\n",
       "                                                  Pipeline(steps=[(&#x27;ohe&#x27;,\n",
       "                                                                   OneHotEncoder())]),\n",
       "                                                  [&#x27;departments&#x27;, &#x27;salary&#x27;]),\n",
       "                                                 (&#x27;num&#x27;,\n",
       "                                                  Pipeline(steps=[(&#x27;pass&#x27;,\n",
       "                                                                   &#x27;passthrough&#x27;)]),\n",
       "                                                  [&#x27;satisfaction_level&#x27;,\n",
       "                                                   &#x27;last_evaluation&#x27;,\n",
       "                                                   &#x27;number_project&#x27;,\n",
       "                                                   &#x27;time_spend_company&#x27;,\n",
       "                                                   &#x27;work_accident&#x27;,\n",
       "                                                   &#x27;promotion_last_5years&#x27;]),\n",
       "                                                 (&#x27;avg_month_hours&#x27;,\n",
       "                                                  Pipeline(steps=[(&#x27;average_montly_hours&#x27;,\n",
       "                                                                   FunctionTransformer(func=&lt;ufunc &#x27;log&#x27;&gt;))]),\n",
       "                                                  [&#x27;average_montly_hours&#x27;])])),\n",
       "                (&#x27;standard_scaler&#x27;, StandardScaler()),\n",
       "                (&#x27;SMOTE&#x27;, SMOTE(random_state=42)),\n",
       "                (&#x27;logistic_classifier&#x27;, LogisticRegression())])</pre><b>In a Jupyter environment, please rerun this cell to show the HTML representation or trust the notebook. <br />On GitHub, the HTML representation is unable to render, please try loading this page with nbviewer.org.</b></div><div class=\"sk-container\" hidden><div class=\"sk-item sk-dashed-wrapped\"><div class=\"sk-label-container\"><div class=\"sk-label sk-toggleable\"><input class=\"sk-toggleable__control sk-hidden--visually\" id=\"sk-estimator-id-120\" type=\"checkbox\" ><label for=\"sk-estimator-id-120\" class=\"sk-toggleable__label sk-toggleable__label-arrow\">Pipeline</label><div class=\"sk-toggleable__content\"><pre>Pipeline(steps=[(&#x27;preprocessor&#x27;,\n",
       "                 ColumnTransformer(transformers=[(&#x27;cat&#x27;,\n",
       "                                                  Pipeline(steps=[(&#x27;ohe&#x27;,\n",
       "                                                                   OneHotEncoder())]),\n",
       "                                                  [&#x27;departments&#x27;, &#x27;salary&#x27;]),\n",
       "                                                 (&#x27;num&#x27;,\n",
       "                                                  Pipeline(steps=[(&#x27;pass&#x27;,\n",
       "                                                                   &#x27;passthrough&#x27;)]),\n",
       "                                                  [&#x27;satisfaction_level&#x27;,\n",
       "                                                   &#x27;last_evaluation&#x27;,\n",
       "                                                   &#x27;number_project&#x27;,\n",
       "                                                   &#x27;time_spend_company&#x27;,\n",
       "                                                   &#x27;work_accident&#x27;,\n",
       "                                                   &#x27;promotion_last_5years&#x27;]),\n",
       "                                                 (&#x27;avg_month_hours&#x27;,\n",
       "                                                  Pipeline(steps=[(&#x27;average_montly_hours&#x27;,\n",
       "                                                                   FunctionTransformer(func=&lt;ufunc &#x27;log&#x27;&gt;))]),\n",
       "                                                  [&#x27;average_montly_hours&#x27;])])),\n",
       "                (&#x27;standard_scaler&#x27;, StandardScaler()),\n",
       "                (&#x27;SMOTE&#x27;, SMOTE(random_state=42)),\n",
       "                (&#x27;logistic_classifier&#x27;, LogisticRegression())])</pre></div></div></div><div class=\"sk-serial\"><div class=\"sk-item sk-dashed-wrapped\"><div class=\"sk-label-container\"><div class=\"sk-label sk-toggleable\"><input class=\"sk-toggleable__control sk-hidden--visually\" id=\"sk-estimator-id-121\" type=\"checkbox\" ><label for=\"sk-estimator-id-121\" class=\"sk-toggleable__label sk-toggleable__label-arrow\">preprocessor: ColumnTransformer</label><div class=\"sk-toggleable__content\"><pre>ColumnTransformer(transformers=[(&#x27;cat&#x27;,\n",
       "                                 Pipeline(steps=[(&#x27;ohe&#x27;, OneHotEncoder())]),\n",
       "                                 [&#x27;departments&#x27;, &#x27;salary&#x27;]),\n",
       "                                (&#x27;num&#x27;,\n",
       "                                 Pipeline(steps=[(&#x27;pass&#x27;, &#x27;passthrough&#x27;)]),\n",
       "                                 [&#x27;satisfaction_level&#x27;, &#x27;last_evaluation&#x27;,\n",
       "                                  &#x27;number_project&#x27;, &#x27;time_spend_company&#x27;,\n",
       "                                  &#x27;work_accident&#x27;, &#x27;promotion_last_5years&#x27;]),\n",
       "                                (&#x27;avg_month_hours&#x27;,\n",
       "                                 Pipeline(steps=[(&#x27;average_montly_hours&#x27;,\n",
       "                                                  FunctionTransformer(func=&lt;ufunc &#x27;log&#x27;&gt;))]),\n",
       "                                 [&#x27;average_montly_hours&#x27;])])</pre></div></div></div><div class=\"sk-parallel\"><div class=\"sk-parallel-item\"><div class=\"sk-item\"><div class=\"sk-label-container\"><div class=\"sk-label sk-toggleable\"><input class=\"sk-toggleable__control sk-hidden--visually\" id=\"sk-estimator-id-122\" type=\"checkbox\" ><label for=\"sk-estimator-id-122\" class=\"sk-toggleable__label sk-toggleable__label-arrow\">cat</label><div class=\"sk-toggleable__content\"><pre>[&#x27;departments&#x27;, &#x27;salary&#x27;]</pre></div></div></div><div class=\"sk-serial\"><div class=\"sk-item\"><div class=\"sk-serial\"><div class=\"sk-item\"><div class=\"sk-estimator sk-toggleable\"><input class=\"sk-toggleable__control sk-hidden--visually\" id=\"sk-estimator-id-123\" type=\"checkbox\" ><label for=\"sk-estimator-id-123\" class=\"sk-toggleable__label sk-toggleable__label-arrow\">OneHotEncoder</label><div class=\"sk-toggleable__content\"><pre>OneHotEncoder()</pre></div></div></div></div></div></div></div></div><div class=\"sk-parallel-item\"><div class=\"sk-item\"><div class=\"sk-label-container\"><div class=\"sk-label sk-toggleable\"><input class=\"sk-toggleable__control sk-hidden--visually\" id=\"sk-estimator-id-124\" type=\"checkbox\" ><label for=\"sk-estimator-id-124\" class=\"sk-toggleable__label sk-toggleable__label-arrow\">num</label><div class=\"sk-toggleable__content\"><pre>[&#x27;satisfaction_level&#x27;, &#x27;last_evaluation&#x27;, &#x27;number_project&#x27;, &#x27;time_spend_company&#x27;, &#x27;work_accident&#x27;, &#x27;promotion_last_5years&#x27;]</pre></div></div></div><div class=\"sk-serial\"><div class=\"sk-item\"><div class=\"sk-serial\"><div class=\"sk-item\"><div class=\"sk-estimator sk-toggleable\"><input class=\"sk-toggleable__control sk-hidden--visually\" id=\"sk-estimator-id-125\" type=\"checkbox\" ><label for=\"sk-estimator-id-125\" class=\"sk-toggleable__label sk-toggleable__label-arrow\">passthrough</label><div class=\"sk-toggleable__content\"><pre>passthrough</pre></div></div></div></div></div></div></div></div><div class=\"sk-parallel-item\"><div class=\"sk-item\"><div class=\"sk-label-container\"><div class=\"sk-label sk-toggleable\"><input class=\"sk-toggleable__control sk-hidden--visually\" id=\"sk-estimator-id-126\" type=\"checkbox\" ><label for=\"sk-estimator-id-126\" class=\"sk-toggleable__label sk-toggleable__label-arrow\">avg_month_hours</label><div class=\"sk-toggleable__content\"><pre>[&#x27;average_montly_hours&#x27;]</pre></div></div></div><div class=\"sk-serial\"><div class=\"sk-item\"><div class=\"sk-serial\"><div class=\"sk-item\"><div class=\"sk-estimator sk-toggleable\"><input class=\"sk-toggleable__control sk-hidden--visually\" id=\"sk-estimator-id-127\" type=\"checkbox\" ><label for=\"sk-estimator-id-127\" class=\"sk-toggleable__label sk-toggleable__label-arrow\">FunctionTransformer</label><div class=\"sk-toggleable__content\"><pre>FunctionTransformer(func=&lt;ufunc &#x27;log&#x27;&gt;)</pre></div></div></div></div></div></div></div></div></div></div><div class=\"sk-item\"><div class=\"sk-estimator sk-toggleable\"><input class=\"sk-toggleable__control sk-hidden--visually\" id=\"sk-estimator-id-128\" type=\"checkbox\" ><label for=\"sk-estimator-id-128\" class=\"sk-toggleable__label sk-toggleable__label-arrow\">StandardScaler</label><div class=\"sk-toggleable__content\"><pre>StandardScaler()</pre></div></div></div><div class=\"sk-item\"><div class=\"sk-estimator sk-toggleable\"><input class=\"sk-toggleable__control sk-hidden--visually\" id=\"sk-estimator-id-129\" type=\"checkbox\" ><label for=\"sk-estimator-id-129\" class=\"sk-toggleable__label sk-toggleable__label-arrow\">SMOTE</label><div class=\"sk-toggleable__content\"><pre>SMOTE(random_state=42)</pre></div></div></div><div class=\"sk-item\"><div class=\"sk-estimator sk-toggleable\"><input class=\"sk-toggleable__control sk-hidden--visually\" id=\"sk-estimator-id-130\" type=\"checkbox\" ><label for=\"sk-estimator-id-130\" class=\"sk-toggleable__label sk-toggleable__label-arrow\">LogisticRegression</label><div class=\"sk-toggleable__content\"><pre>LogisticRegression()</pre></div></div></div></div></div></div></div>"
      ],
      "text/plain": [
       "Pipeline(steps=[('preprocessor',\n",
       "                 ColumnTransformer(transformers=[('cat',\n",
       "                                                  Pipeline(steps=[('ohe',\n",
       "                                                                   OneHotEncoder())]),\n",
       "                                                  ['departments', 'salary']),\n",
       "                                                 ('num',\n",
       "                                                  Pipeline(steps=[('pass',\n",
       "                                                                   'passthrough')]),\n",
       "                                                  ['satisfaction_level',\n",
       "                                                   'last_evaluation',\n",
       "                                                   'number_project',\n",
       "                                                   'time_spend_company',\n",
       "                                                   'work_accident',\n",
       "                                                   'promotion_last_5years']),\n",
       "                                                 ('avg_month_hours',\n",
       "                                                  Pipeline(steps=[('average_montly_hours',\n",
       "                                                                   FunctionTransformer(func=<ufunc 'log'>))]),\n",
       "                                                  ['average_montly_hours'])])),\n",
       "                ('standard_scaler', StandardScaler()),\n",
       "                ('SMOTE', SMOTE(random_state=42)),\n",
       "                ('logistic_classifier', LogisticRegression())])"
      ]
     },
     "execution_count": 171,
     "metadata": {},
     "output_type": "execute_result"
    }
   ],
   "source": [
    "#Train Logistic Regression model\n",
    "LogisticRegressionPipeline.fit(X_train,y_train.values)"
   ]
  },
  {
   "cell_type": "code",
   "execution_count": 172,
   "id": "52bd8595",
   "metadata": {},
   "outputs": [
    {
     "name": "stdout",
     "output_type": "stream",
     "text": [
      "              precision    recall  f1-score   support\n",
      "\n",
      "           0       0.96      0.78      0.86      2001\n",
      "           1       0.43      0.84      0.57       398\n",
      "\n",
      "    accuracy                           0.79      2399\n",
      "   macro avg       0.70      0.81      0.71      2399\n",
      "weighted avg       0.87      0.79      0.81      2399\n",
      "\n"
     ]
    }
   ],
   "source": [
    "y_predict = LogisticRegressionPipeline.predict(X_test)\n",
    "print(classification_report(y_test,y_predict))"
   ]
  },
  {
   "cell_type": "code",
   "execution_count": 173,
   "id": "880b553c",
   "metadata": {},
   "outputs": [],
   "source": [
    "#mean(cross_val_score(LogisticRegressionPipeline,df_features,df_target,cv=5,scoring='accuracy'))"
   ]
  },
  {
   "cell_type": "code",
   "execution_count": 200,
   "id": "e12289eb",
   "metadata": {},
   "outputs": [],
   "source": [
    "#KNN Pipeline\n",
    "#f1 score of KNN is 79% and accuracy is at 92%.\n",
    "KNeighborsPipeline=Pipeline([\n",
    "                     ('preprocessor',preprocessor),\n",
    "                     ('standard_scaler',StandardScaler()),\n",
    "                     ('SMOTE',SMOTE(random_state=42)),\n",
    "                     ('KNeighbors_Classifier()',KNeighborsClassifier())\n",
    "])"
   ]
  },
  {
   "cell_type": "code",
   "execution_count": 201,
   "id": "7d49b2de",
   "metadata": {},
   "outputs": [
    {
     "data": {
      "text/html": [
       "<style>#sk-container-id-22 {color: black;background-color: white;}#sk-container-id-22 pre{padding: 0;}#sk-container-id-22 div.sk-toggleable {background-color: white;}#sk-container-id-22 label.sk-toggleable__label {cursor: pointer;display: block;width: 100%;margin-bottom: 0;padding: 0.3em;box-sizing: border-box;text-align: center;}#sk-container-id-22 label.sk-toggleable__label-arrow:before {content: \"▸\";float: left;margin-right: 0.25em;color: #696969;}#sk-container-id-22 label.sk-toggleable__label-arrow:hover:before {color: black;}#sk-container-id-22 div.sk-estimator:hover label.sk-toggleable__label-arrow:before {color: black;}#sk-container-id-22 div.sk-toggleable__content {max-height: 0;max-width: 0;overflow: hidden;text-align: left;background-color: #f0f8ff;}#sk-container-id-22 div.sk-toggleable__content pre {margin: 0.2em;color: black;border-radius: 0.25em;background-color: #f0f8ff;}#sk-container-id-22 input.sk-toggleable__control:checked~div.sk-toggleable__content {max-height: 200px;max-width: 100%;overflow: auto;}#sk-container-id-22 input.sk-toggleable__control:checked~label.sk-toggleable__label-arrow:before {content: \"▾\";}#sk-container-id-22 div.sk-estimator input.sk-toggleable__control:checked~label.sk-toggleable__label {background-color: #d4ebff;}#sk-container-id-22 div.sk-label input.sk-toggleable__control:checked~label.sk-toggleable__label {background-color: #d4ebff;}#sk-container-id-22 input.sk-hidden--visually {border: 0;clip: rect(1px 1px 1px 1px);clip: rect(1px, 1px, 1px, 1px);height: 1px;margin: -1px;overflow: hidden;padding: 0;position: absolute;width: 1px;}#sk-container-id-22 div.sk-estimator {font-family: monospace;background-color: #f0f8ff;border: 1px dotted black;border-radius: 0.25em;box-sizing: border-box;margin-bottom: 0.5em;}#sk-container-id-22 div.sk-estimator:hover {background-color: #d4ebff;}#sk-container-id-22 div.sk-parallel-item::after {content: \"\";width: 100%;border-bottom: 1px solid gray;flex-grow: 1;}#sk-container-id-22 div.sk-label:hover label.sk-toggleable__label {background-color: #d4ebff;}#sk-container-id-22 div.sk-serial::before {content: \"\";position: absolute;border-left: 1px solid gray;box-sizing: border-box;top: 0;bottom: 0;left: 50%;z-index: 0;}#sk-container-id-22 div.sk-serial {display: flex;flex-direction: column;align-items: center;background-color: white;padding-right: 0.2em;padding-left: 0.2em;position: relative;}#sk-container-id-22 div.sk-item {position: relative;z-index: 1;}#sk-container-id-22 div.sk-parallel {display: flex;align-items: stretch;justify-content: center;background-color: white;position: relative;}#sk-container-id-22 div.sk-item::before, #sk-container-id-22 div.sk-parallel-item::before {content: \"\";position: absolute;border-left: 1px solid gray;box-sizing: border-box;top: 0;bottom: 0;left: 50%;z-index: -1;}#sk-container-id-22 div.sk-parallel-item {display: flex;flex-direction: column;z-index: 1;position: relative;background-color: white;}#sk-container-id-22 div.sk-parallel-item:first-child::after {align-self: flex-end;width: 50%;}#sk-container-id-22 div.sk-parallel-item:last-child::after {align-self: flex-start;width: 50%;}#sk-container-id-22 div.sk-parallel-item:only-child::after {width: 0;}#sk-container-id-22 div.sk-dashed-wrapped {border: 1px dashed gray;margin: 0 0.4em 0.5em 0.4em;box-sizing: border-box;padding-bottom: 0.4em;background-color: white;}#sk-container-id-22 div.sk-label label {font-family: monospace;font-weight: bold;display: inline-block;line-height: 1.2em;}#sk-container-id-22 div.sk-label-container {text-align: center;}#sk-container-id-22 div.sk-container {/* jupyter's `normalize.less` sets `[hidden] { display: none; }` but bootstrap.min.css set `[hidden] { display: none !important; }` so we also need the `!important` here to be able to override the default hidden behavior on the sphinx rendered scikit-learn.org. See: https://github.com/scikit-learn/scikit-learn/issues/21755 */display: inline-block !important;position: relative;}#sk-container-id-22 div.sk-text-repr-fallback {display: none;}</style><div id=\"sk-container-id-22\" class=\"sk-top-container\"><div class=\"sk-text-repr-fallback\"><pre>Pipeline(steps=[(&#x27;preprocessor&#x27;,\n",
       "                 ColumnTransformer(transformers=[(&#x27;cat&#x27;,\n",
       "                                                  Pipeline(steps=[(&#x27;ohe&#x27;,\n",
       "                                                                   OneHotEncoder())]),\n",
       "                                                  [&#x27;departments&#x27;, &#x27;salary&#x27;]),\n",
       "                                                 (&#x27;num&#x27;,\n",
       "                                                  Pipeline(steps=[(&#x27;pass&#x27;,\n",
       "                                                                   &#x27;passthrough&#x27;)]),\n",
       "                                                  [&#x27;satisfaction_level&#x27;,\n",
       "                                                   &#x27;last_evaluation&#x27;,\n",
       "                                                   &#x27;number_project&#x27;,\n",
       "                                                   &#x27;time_spend_company&#x27;,\n",
       "                                                   &#x27;work_accident&#x27;,\n",
       "                                                   &#x27;promotion_last_5years&#x27;]),\n",
       "                                                 (&#x27;avg_month_hours&#x27;,\n",
       "                                                  Pipeline(steps=[(&#x27;average_montly_hours&#x27;,\n",
       "                                                                   FunctionTransformer(func=&lt;ufunc &#x27;log&#x27;&gt;))]),\n",
       "                                                  [&#x27;average_montly_hours&#x27;])])),\n",
       "                (&#x27;standard_scaler&#x27;, StandardScaler()),\n",
       "                (&#x27;SMOTE&#x27;, SMOTE(random_state=42)),\n",
       "                (&#x27;KNeighbors_Classifier()&#x27;, KNeighborsClassifier())])</pre><b>In a Jupyter environment, please rerun this cell to show the HTML representation or trust the notebook. <br />On GitHub, the HTML representation is unable to render, please try loading this page with nbviewer.org.</b></div><div class=\"sk-container\" hidden><div class=\"sk-item sk-dashed-wrapped\"><div class=\"sk-label-container\"><div class=\"sk-label sk-toggleable\"><input class=\"sk-toggleable__control sk-hidden--visually\" id=\"sk-estimator-id-219\" type=\"checkbox\" ><label for=\"sk-estimator-id-219\" class=\"sk-toggleable__label sk-toggleable__label-arrow\">Pipeline</label><div class=\"sk-toggleable__content\"><pre>Pipeline(steps=[(&#x27;preprocessor&#x27;,\n",
       "                 ColumnTransformer(transformers=[(&#x27;cat&#x27;,\n",
       "                                                  Pipeline(steps=[(&#x27;ohe&#x27;,\n",
       "                                                                   OneHotEncoder())]),\n",
       "                                                  [&#x27;departments&#x27;, &#x27;salary&#x27;]),\n",
       "                                                 (&#x27;num&#x27;,\n",
       "                                                  Pipeline(steps=[(&#x27;pass&#x27;,\n",
       "                                                                   &#x27;passthrough&#x27;)]),\n",
       "                                                  [&#x27;satisfaction_level&#x27;,\n",
       "                                                   &#x27;last_evaluation&#x27;,\n",
       "                                                   &#x27;number_project&#x27;,\n",
       "                                                   &#x27;time_spend_company&#x27;,\n",
       "                                                   &#x27;work_accident&#x27;,\n",
       "                                                   &#x27;promotion_last_5years&#x27;]),\n",
       "                                                 (&#x27;avg_month_hours&#x27;,\n",
       "                                                  Pipeline(steps=[(&#x27;average_montly_hours&#x27;,\n",
       "                                                                   FunctionTransformer(func=&lt;ufunc &#x27;log&#x27;&gt;))]),\n",
       "                                                  [&#x27;average_montly_hours&#x27;])])),\n",
       "                (&#x27;standard_scaler&#x27;, StandardScaler()),\n",
       "                (&#x27;SMOTE&#x27;, SMOTE(random_state=42)),\n",
       "                (&#x27;KNeighbors_Classifier()&#x27;, KNeighborsClassifier())])</pre></div></div></div><div class=\"sk-serial\"><div class=\"sk-item sk-dashed-wrapped\"><div class=\"sk-label-container\"><div class=\"sk-label sk-toggleable\"><input class=\"sk-toggleable__control sk-hidden--visually\" id=\"sk-estimator-id-220\" type=\"checkbox\" ><label for=\"sk-estimator-id-220\" class=\"sk-toggleable__label sk-toggleable__label-arrow\">preprocessor: ColumnTransformer</label><div class=\"sk-toggleable__content\"><pre>ColumnTransformer(transformers=[(&#x27;cat&#x27;,\n",
       "                                 Pipeline(steps=[(&#x27;ohe&#x27;, OneHotEncoder())]),\n",
       "                                 [&#x27;departments&#x27;, &#x27;salary&#x27;]),\n",
       "                                (&#x27;num&#x27;,\n",
       "                                 Pipeline(steps=[(&#x27;pass&#x27;, &#x27;passthrough&#x27;)]),\n",
       "                                 [&#x27;satisfaction_level&#x27;, &#x27;last_evaluation&#x27;,\n",
       "                                  &#x27;number_project&#x27;, &#x27;time_spend_company&#x27;,\n",
       "                                  &#x27;work_accident&#x27;, &#x27;promotion_last_5years&#x27;]),\n",
       "                                (&#x27;avg_month_hours&#x27;,\n",
       "                                 Pipeline(steps=[(&#x27;average_montly_hours&#x27;,\n",
       "                                                  FunctionTransformer(func=&lt;ufunc &#x27;log&#x27;&gt;))]),\n",
       "                                 [&#x27;average_montly_hours&#x27;])])</pre></div></div></div><div class=\"sk-parallel\"><div class=\"sk-parallel-item\"><div class=\"sk-item\"><div class=\"sk-label-container\"><div class=\"sk-label sk-toggleable\"><input class=\"sk-toggleable__control sk-hidden--visually\" id=\"sk-estimator-id-221\" type=\"checkbox\" ><label for=\"sk-estimator-id-221\" class=\"sk-toggleable__label sk-toggleable__label-arrow\">cat</label><div class=\"sk-toggleable__content\"><pre>[&#x27;departments&#x27;, &#x27;salary&#x27;]</pre></div></div></div><div class=\"sk-serial\"><div class=\"sk-item\"><div class=\"sk-serial\"><div class=\"sk-item\"><div class=\"sk-estimator sk-toggleable\"><input class=\"sk-toggleable__control sk-hidden--visually\" id=\"sk-estimator-id-222\" type=\"checkbox\" ><label for=\"sk-estimator-id-222\" class=\"sk-toggleable__label sk-toggleable__label-arrow\">OneHotEncoder</label><div class=\"sk-toggleable__content\"><pre>OneHotEncoder()</pre></div></div></div></div></div></div></div></div><div class=\"sk-parallel-item\"><div class=\"sk-item\"><div class=\"sk-label-container\"><div class=\"sk-label sk-toggleable\"><input class=\"sk-toggleable__control sk-hidden--visually\" id=\"sk-estimator-id-223\" type=\"checkbox\" ><label for=\"sk-estimator-id-223\" class=\"sk-toggleable__label sk-toggleable__label-arrow\">num</label><div class=\"sk-toggleable__content\"><pre>[&#x27;satisfaction_level&#x27;, &#x27;last_evaluation&#x27;, &#x27;number_project&#x27;, &#x27;time_spend_company&#x27;, &#x27;work_accident&#x27;, &#x27;promotion_last_5years&#x27;]</pre></div></div></div><div class=\"sk-serial\"><div class=\"sk-item\"><div class=\"sk-serial\"><div class=\"sk-item\"><div class=\"sk-estimator sk-toggleable\"><input class=\"sk-toggleable__control sk-hidden--visually\" id=\"sk-estimator-id-224\" type=\"checkbox\" ><label for=\"sk-estimator-id-224\" class=\"sk-toggleable__label sk-toggleable__label-arrow\">passthrough</label><div class=\"sk-toggleable__content\"><pre>passthrough</pre></div></div></div></div></div></div></div></div><div class=\"sk-parallel-item\"><div class=\"sk-item\"><div class=\"sk-label-container\"><div class=\"sk-label sk-toggleable\"><input class=\"sk-toggleable__control sk-hidden--visually\" id=\"sk-estimator-id-225\" type=\"checkbox\" ><label for=\"sk-estimator-id-225\" class=\"sk-toggleable__label sk-toggleable__label-arrow\">avg_month_hours</label><div class=\"sk-toggleable__content\"><pre>[&#x27;average_montly_hours&#x27;]</pre></div></div></div><div class=\"sk-serial\"><div class=\"sk-item\"><div class=\"sk-serial\"><div class=\"sk-item\"><div class=\"sk-estimator sk-toggleable\"><input class=\"sk-toggleable__control sk-hidden--visually\" id=\"sk-estimator-id-226\" type=\"checkbox\" ><label for=\"sk-estimator-id-226\" class=\"sk-toggleable__label sk-toggleable__label-arrow\">FunctionTransformer</label><div class=\"sk-toggleable__content\"><pre>FunctionTransformer(func=&lt;ufunc &#x27;log&#x27;&gt;)</pre></div></div></div></div></div></div></div></div></div></div><div class=\"sk-item\"><div class=\"sk-estimator sk-toggleable\"><input class=\"sk-toggleable__control sk-hidden--visually\" id=\"sk-estimator-id-227\" type=\"checkbox\" ><label for=\"sk-estimator-id-227\" class=\"sk-toggleable__label sk-toggleable__label-arrow\">StandardScaler</label><div class=\"sk-toggleable__content\"><pre>StandardScaler()</pre></div></div></div><div class=\"sk-item\"><div class=\"sk-estimator sk-toggleable\"><input class=\"sk-toggleable__control sk-hidden--visually\" id=\"sk-estimator-id-228\" type=\"checkbox\" ><label for=\"sk-estimator-id-228\" class=\"sk-toggleable__label sk-toggleable__label-arrow\">SMOTE</label><div class=\"sk-toggleable__content\"><pre>SMOTE(random_state=42)</pre></div></div></div><div class=\"sk-item\"><div class=\"sk-estimator sk-toggleable\"><input class=\"sk-toggleable__control sk-hidden--visually\" id=\"sk-estimator-id-229\" type=\"checkbox\" ><label for=\"sk-estimator-id-229\" class=\"sk-toggleable__label sk-toggleable__label-arrow\">KNeighborsClassifier</label><div class=\"sk-toggleable__content\"><pre>KNeighborsClassifier()</pre></div></div></div></div></div></div></div>"
      ],
      "text/plain": [
       "Pipeline(steps=[('preprocessor',\n",
       "                 ColumnTransformer(transformers=[('cat',\n",
       "                                                  Pipeline(steps=[('ohe',\n",
       "                                                                   OneHotEncoder())]),\n",
       "                                                  ['departments', 'salary']),\n",
       "                                                 ('num',\n",
       "                                                  Pipeline(steps=[('pass',\n",
       "                                                                   'passthrough')]),\n",
       "                                                  ['satisfaction_level',\n",
       "                                                   'last_evaluation',\n",
       "                                                   'number_project',\n",
       "                                                   'time_spend_company',\n",
       "                                                   'work_accident',\n",
       "                                                   'promotion_last_5years']),\n",
       "                                                 ('avg_month_hours',\n",
       "                                                  Pipeline(steps=[('average_montly_hours',\n",
       "                                                                   FunctionTransformer(func=<ufunc 'log'>))]),\n",
       "                                                  ['average_montly_hours'])])),\n",
       "                ('standard_scaler', StandardScaler()),\n",
       "                ('SMOTE', SMOTE(random_state=42)),\n",
       "                ('KNeighbors_Classifier()', KNeighborsClassifier())])"
      ]
     },
     "execution_count": 201,
     "metadata": {},
     "output_type": "execute_result"
    }
   ],
   "source": [
    "KNeighborsPipeline.fit(X_train,y_train.values)"
   ]
  },
  {
   "cell_type": "code",
   "execution_count": 202,
   "id": "f1e7fc79",
   "metadata": {},
   "outputs": [
    {
     "name": "stdout",
     "output_type": "stream",
     "text": [
      "              precision    recall  f1-score   support\n",
      "\n",
      "           0       0.98      0.92      0.95      2001\n",
      "           1       0.69      0.91      0.79       398\n",
      "\n",
      "    accuracy                           0.92      2399\n",
      "   macro avg       0.84      0.91      0.87      2399\n",
      "weighted avg       0.93      0.92      0.92      2399\n",
      "\n"
     ]
    }
   ],
   "source": [
    "y_predict = KNeighborsPipeline.predict(X_test)\n",
    "print(classification_report(y_test,y_predict))"
   ]
  },
  {
   "cell_type": "code",
   "execution_count": 174,
   "id": "f2e8cf8a",
   "metadata": {},
   "outputs": [],
   "source": [
    "#Decision tree Pipeline\n",
    "#f1 score of decision tree is 91%\n",
    "DecisionTreePipeline=Pipeline([\n",
    "                     ('preprocessor',preprocessor),\n",
    "                     ('standard_scaler',StandardScaler()),\n",
    "                     ('SMOTE',SMOTE(random_state=42)),\n",
    "                     ('decisiontree_classifier',DecisionTreeClassifier())\n",
    "])"
   ]
  },
  {
   "cell_type": "code",
   "execution_count": 176,
   "id": "098bad13",
   "metadata": {},
   "outputs": [
    {
     "data": {
      "text/html": [
       "<style>#sk-container-id-15 {color: black;background-color: white;}#sk-container-id-15 pre{padding: 0;}#sk-container-id-15 div.sk-toggleable {background-color: white;}#sk-container-id-15 label.sk-toggleable__label {cursor: pointer;display: block;width: 100%;margin-bottom: 0;padding: 0.3em;box-sizing: border-box;text-align: center;}#sk-container-id-15 label.sk-toggleable__label-arrow:before {content: \"▸\";float: left;margin-right: 0.25em;color: #696969;}#sk-container-id-15 label.sk-toggleable__label-arrow:hover:before {color: black;}#sk-container-id-15 div.sk-estimator:hover label.sk-toggleable__label-arrow:before {color: black;}#sk-container-id-15 div.sk-toggleable__content {max-height: 0;max-width: 0;overflow: hidden;text-align: left;background-color: #f0f8ff;}#sk-container-id-15 div.sk-toggleable__content pre {margin: 0.2em;color: black;border-radius: 0.25em;background-color: #f0f8ff;}#sk-container-id-15 input.sk-toggleable__control:checked~div.sk-toggleable__content {max-height: 200px;max-width: 100%;overflow: auto;}#sk-container-id-15 input.sk-toggleable__control:checked~label.sk-toggleable__label-arrow:before {content: \"▾\";}#sk-container-id-15 div.sk-estimator input.sk-toggleable__control:checked~label.sk-toggleable__label {background-color: #d4ebff;}#sk-container-id-15 div.sk-label input.sk-toggleable__control:checked~label.sk-toggleable__label {background-color: #d4ebff;}#sk-container-id-15 input.sk-hidden--visually {border: 0;clip: rect(1px 1px 1px 1px);clip: rect(1px, 1px, 1px, 1px);height: 1px;margin: -1px;overflow: hidden;padding: 0;position: absolute;width: 1px;}#sk-container-id-15 div.sk-estimator {font-family: monospace;background-color: #f0f8ff;border: 1px dotted black;border-radius: 0.25em;box-sizing: border-box;margin-bottom: 0.5em;}#sk-container-id-15 div.sk-estimator:hover {background-color: #d4ebff;}#sk-container-id-15 div.sk-parallel-item::after {content: \"\";width: 100%;border-bottom: 1px solid gray;flex-grow: 1;}#sk-container-id-15 div.sk-label:hover label.sk-toggleable__label {background-color: #d4ebff;}#sk-container-id-15 div.sk-serial::before {content: \"\";position: absolute;border-left: 1px solid gray;box-sizing: border-box;top: 0;bottom: 0;left: 50%;z-index: 0;}#sk-container-id-15 div.sk-serial {display: flex;flex-direction: column;align-items: center;background-color: white;padding-right: 0.2em;padding-left: 0.2em;position: relative;}#sk-container-id-15 div.sk-item {position: relative;z-index: 1;}#sk-container-id-15 div.sk-parallel {display: flex;align-items: stretch;justify-content: center;background-color: white;position: relative;}#sk-container-id-15 div.sk-item::before, #sk-container-id-15 div.sk-parallel-item::before {content: \"\";position: absolute;border-left: 1px solid gray;box-sizing: border-box;top: 0;bottom: 0;left: 50%;z-index: -1;}#sk-container-id-15 div.sk-parallel-item {display: flex;flex-direction: column;z-index: 1;position: relative;background-color: white;}#sk-container-id-15 div.sk-parallel-item:first-child::after {align-self: flex-end;width: 50%;}#sk-container-id-15 div.sk-parallel-item:last-child::after {align-self: flex-start;width: 50%;}#sk-container-id-15 div.sk-parallel-item:only-child::after {width: 0;}#sk-container-id-15 div.sk-dashed-wrapped {border: 1px dashed gray;margin: 0 0.4em 0.5em 0.4em;box-sizing: border-box;padding-bottom: 0.4em;background-color: white;}#sk-container-id-15 div.sk-label label {font-family: monospace;font-weight: bold;display: inline-block;line-height: 1.2em;}#sk-container-id-15 div.sk-label-container {text-align: center;}#sk-container-id-15 div.sk-container {/* jupyter's `normalize.less` sets `[hidden] { display: none; }` but bootstrap.min.css set `[hidden] { display: none !important; }` so we also need the `!important` here to be able to override the default hidden behavior on the sphinx rendered scikit-learn.org. See: https://github.com/scikit-learn/scikit-learn/issues/21755 */display: inline-block !important;position: relative;}#sk-container-id-15 div.sk-text-repr-fallback {display: none;}</style><div id=\"sk-container-id-15\" class=\"sk-top-container\"><div class=\"sk-text-repr-fallback\"><pre>Pipeline(steps=[(&#x27;preprocessor&#x27;,\n",
       "                 ColumnTransformer(transformers=[(&#x27;cat&#x27;,\n",
       "                                                  Pipeline(steps=[(&#x27;ohe&#x27;,\n",
       "                                                                   OneHotEncoder())]),\n",
       "                                                  [&#x27;departments&#x27;, &#x27;salary&#x27;]),\n",
       "                                                 (&#x27;num&#x27;,\n",
       "                                                  Pipeline(steps=[(&#x27;pass&#x27;,\n",
       "                                                                   &#x27;passthrough&#x27;)]),\n",
       "                                                  [&#x27;satisfaction_level&#x27;,\n",
       "                                                   &#x27;last_evaluation&#x27;,\n",
       "                                                   &#x27;number_project&#x27;,\n",
       "                                                   &#x27;time_spend_company&#x27;,\n",
       "                                                   &#x27;work_accident&#x27;,\n",
       "                                                   &#x27;promotion_last_5years&#x27;]),\n",
       "                                                 (&#x27;avg_month_hours&#x27;,\n",
       "                                                  Pipeline(steps=[(&#x27;average_montly_hours&#x27;,\n",
       "                                                                   FunctionTransformer(func=&lt;ufunc &#x27;log&#x27;&gt;))]),\n",
       "                                                  [&#x27;average_montly_hours&#x27;])])),\n",
       "                (&#x27;standard_scaler&#x27;, StandardScaler()),\n",
       "                (&#x27;SMOTE&#x27;, SMOTE(random_state=42)),\n",
       "                (&#x27;decisiontree_classifier&#x27;, DecisionTreeClassifier())])</pre><b>In a Jupyter environment, please rerun this cell to show the HTML representation or trust the notebook. <br />On GitHub, the HTML representation is unable to render, please try loading this page with nbviewer.org.</b></div><div class=\"sk-container\" hidden><div class=\"sk-item sk-dashed-wrapped\"><div class=\"sk-label-container\"><div class=\"sk-label sk-toggleable\"><input class=\"sk-toggleable__control sk-hidden--visually\" id=\"sk-estimator-id-142\" type=\"checkbox\" ><label for=\"sk-estimator-id-142\" class=\"sk-toggleable__label sk-toggleable__label-arrow\">Pipeline</label><div class=\"sk-toggleable__content\"><pre>Pipeline(steps=[(&#x27;preprocessor&#x27;,\n",
       "                 ColumnTransformer(transformers=[(&#x27;cat&#x27;,\n",
       "                                                  Pipeline(steps=[(&#x27;ohe&#x27;,\n",
       "                                                                   OneHotEncoder())]),\n",
       "                                                  [&#x27;departments&#x27;, &#x27;salary&#x27;]),\n",
       "                                                 (&#x27;num&#x27;,\n",
       "                                                  Pipeline(steps=[(&#x27;pass&#x27;,\n",
       "                                                                   &#x27;passthrough&#x27;)]),\n",
       "                                                  [&#x27;satisfaction_level&#x27;,\n",
       "                                                   &#x27;last_evaluation&#x27;,\n",
       "                                                   &#x27;number_project&#x27;,\n",
       "                                                   &#x27;time_spend_company&#x27;,\n",
       "                                                   &#x27;work_accident&#x27;,\n",
       "                                                   &#x27;promotion_last_5years&#x27;]),\n",
       "                                                 (&#x27;avg_month_hours&#x27;,\n",
       "                                                  Pipeline(steps=[(&#x27;average_montly_hours&#x27;,\n",
       "                                                                   FunctionTransformer(func=&lt;ufunc &#x27;log&#x27;&gt;))]),\n",
       "                                                  [&#x27;average_montly_hours&#x27;])])),\n",
       "                (&#x27;standard_scaler&#x27;, StandardScaler()),\n",
       "                (&#x27;SMOTE&#x27;, SMOTE(random_state=42)),\n",
       "                (&#x27;decisiontree_classifier&#x27;, DecisionTreeClassifier())])</pre></div></div></div><div class=\"sk-serial\"><div class=\"sk-item sk-dashed-wrapped\"><div class=\"sk-label-container\"><div class=\"sk-label sk-toggleable\"><input class=\"sk-toggleable__control sk-hidden--visually\" id=\"sk-estimator-id-143\" type=\"checkbox\" ><label for=\"sk-estimator-id-143\" class=\"sk-toggleable__label sk-toggleable__label-arrow\">preprocessor: ColumnTransformer</label><div class=\"sk-toggleable__content\"><pre>ColumnTransformer(transformers=[(&#x27;cat&#x27;,\n",
       "                                 Pipeline(steps=[(&#x27;ohe&#x27;, OneHotEncoder())]),\n",
       "                                 [&#x27;departments&#x27;, &#x27;salary&#x27;]),\n",
       "                                (&#x27;num&#x27;,\n",
       "                                 Pipeline(steps=[(&#x27;pass&#x27;, &#x27;passthrough&#x27;)]),\n",
       "                                 [&#x27;satisfaction_level&#x27;, &#x27;last_evaluation&#x27;,\n",
       "                                  &#x27;number_project&#x27;, &#x27;time_spend_company&#x27;,\n",
       "                                  &#x27;work_accident&#x27;, &#x27;promotion_last_5years&#x27;]),\n",
       "                                (&#x27;avg_month_hours&#x27;,\n",
       "                                 Pipeline(steps=[(&#x27;average_montly_hours&#x27;,\n",
       "                                                  FunctionTransformer(func=&lt;ufunc &#x27;log&#x27;&gt;))]),\n",
       "                                 [&#x27;average_montly_hours&#x27;])])</pre></div></div></div><div class=\"sk-parallel\"><div class=\"sk-parallel-item\"><div class=\"sk-item\"><div class=\"sk-label-container\"><div class=\"sk-label sk-toggleable\"><input class=\"sk-toggleable__control sk-hidden--visually\" id=\"sk-estimator-id-144\" type=\"checkbox\" ><label for=\"sk-estimator-id-144\" class=\"sk-toggleable__label sk-toggleable__label-arrow\">cat</label><div class=\"sk-toggleable__content\"><pre>[&#x27;departments&#x27;, &#x27;salary&#x27;]</pre></div></div></div><div class=\"sk-serial\"><div class=\"sk-item\"><div class=\"sk-serial\"><div class=\"sk-item\"><div class=\"sk-estimator sk-toggleable\"><input class=\"sk-toggleable__control sk-hidden--visually\" id=\"sk-estimator-id-145\" type=\"checkbox\" ><label for=\"sk-estimator-id-145\" class=\"sk-toggleable__label sk-toggleable__label-arrow\">OneHotEncoder</label><div class=\"sk-toggleable__content\"><pre>OneHotEncoder()</pre></div></div></div></div></div></div></div></div><div class=\"sk-parallel-item\"><div class=\"sk-item\"><div class=\"sk-label-container\"><div class=\"sk-label sk-toggleable\"><input class=\"sk-toggleable__control sk-hidden--visually\" id=\"sk-estimator-id-146\" type=\"checkbox\" ><label for=\"sk-estimator-id-146\" class=\"sk-toggleable__label sk-toggleable__label-arrow\">num</label><div class=\"sk-toggleable__content\"><pre>[&#x27;satisfaction_level&#x27;, &#x27;last_evaluation&#x27;, &#x27;number_project&#x27;, &#x27;time_spend_company&#x27;, &#x27;work_accident&#x27;, &#x27;promotion_last_5years&#x27;]</pre></div></div></div><div class=\"sk-serial\"><div class=\"sk-item\"><div class=\"sk-serial\"><div class=\"sk-item\"><div class=\"sk-estimator sk-toggleable\"><input class=\"sk-toggleable__control sk-hidden--visually\" id=\"sk-estimator-id-147\" type=\"checkbox\" ><label for=\"sk-estimator-id-147\" class=\"sk-toggleable__label sk-toggleable__label-arrow\">passthrough</label><div class=\"sk-toggleable__content\"><pre>passthrough</pre></div></div></div></div></div></div></div></div><div class=\"sk-parallel-item\"><div class=\"sk-item\"><div class=\"sk-label-container\"><div class=\"sk-label sk-toggleable\"><input class=\"sk-toggleable__control sk-hidden--visually\" id=\"sk-estimator-id-148\" type=\"checkbox\" ><label for=\"sk-estimator-id-148\" class=\"sk-toggleable__label sk-toggleable__label-arrow\">avg_month_hours</label><div class=\"sk-toggleable__content\"><pre>[&#x27;average_montly_hours&#x27;]</pre></div></div></div><div class=\"sk-serial\"><div class=\"sk-item\"><div class=\"sk-serial\"><div class=\"sk-item\"><div class=\"sk-estimator sk-toggleable\"><input class=\"sk-toggleable__control sk-hidden--visually\" id=\"sk-estimator-id-149\" type=\"checkbox\" ><label for=\"sk-estimator-id-149\" class=\"sk-toggleable__label sk-toggleable__label-arrow\">FunctionTransformer</label><div class=\"sk-toggleable__content\"><pre>FunctionTransformer(func=&lt;ufunc &#x27;log&#x27;&gt;)</pre></div></div></div></div></div></div></div></div></div></div><div class=\"sk-item\"><div class=\"sk-estimator sk-toggleable\"><input class=\"sk-toggleable__control sk-hidden--visually\" id=\"sk-estimator-id-150\" type=\"checkbox\" ><label for=\"sk-estimator-id-150\" class=\"sk-toggleable__label sk-toggleable__label-arrow\">StandardScaler</label><div class=\"sk-toggleable__content\"><pre>StandardScaler()</pre></div></div></div><div class=\"sk-item\"><div class=\"sk-estimator sk-toggleable\"><input class=\"sk-toggleable__control sk-hidden--visually\" id=\"sk-estimator-id-151\" type=\"checkbox\" ><label for=\"sk-estimator-id-151\" class=\"sk-toggleable__label sk-toggleable__label-arrow\">SMOTE</label><div class=\"sk-toggleable__content\"><pre>SMOTE(random_state=42)</pre></div></div></div><div class=\"sk-item\"><div class=\"sk-estimator sk-toggleable\"><input class=\"sk-toggleable__control sk-hidden--visually\" id=\"sk-estimator-id-152\" type=\"checkbox\" ><label for=\"sk-estimator-id-152\" class=\"sk-toggleable__label sk-toggleable__label-arrow\">DecisionTreeClassifier</label><div class=\"sk-toggleable__content\"><pre>DecisionTreeClassifier()</pre></div></div></div></div></div></div></div>"
      ],
      "text/plain": [
       "Pipeline(steps=[('preprocessor',\n",
       "                 ColumnTransformer(transformers=[('cat',\n",
       "                                                  Pipeline(steps=[('ohe',\n",
       "                                                                   OneHotEncoder())]),\n",
       "                                                  ['departments', 'salary']),\n",
       "                                                 ('num',\n",
       "                                                  Pipeline(steps=[('pass',\n",
       "                                                                   'passthrough')]),\n",
       "                                                  ['satisfaction_level',\n",
       "                                                   'last_evaluation',\n",
       "                                                   'number_project',\n",
       "                                                   'time_spend_company',\n",
       "                                                   'work_accident',\n",
       "                                                   'promotion_last_5years']),\n",
       "                                                 ('avg_month_hours',\n",
       "                                                  Pipeline(steps=[('average_montly_hours',\n",
       "                                                                   FunctionTransformer(func=<ufunc 'log'>))]),\n",
       "                                                  ['average_montly_hours'])])),\n",
       "                ('standard_scaler', StandardScaler()),\n",
       "                ('SMOTE', SMOTE(random_state=42)),\n",
       "                ('decisiontree_classifier', DecisionTreeClassifier())])"
      ]
     },
     "execution_count": 176,
     "metadata": {},
     "output_type": "execute_result"
    }
   ],
   "source": [
    "DecisionTreePipeline.fit(X_train,y_train)"
   ]
  },
  {
   "cell_type": "code",
   "execution_count": 177,
   "id": "8b6726c2",
   "metadata": {},
   "outputs": [
    {
     "name": "stdout",
     "output_type": "stream",
     "text": [
      "              precision    recall  f1-score   support\n",
      "\n",
      "           0       0.99      0.98      0.98      2001\n",
      "           1       0.88      0.93      0.91       398\n",
      "\n",
      "    accuracy                           0.97      2399\n",
      "   macro avg       0.93      0.95      0.94      2399\n",
      "weighted avg       0.97      0.97      0.97      2399\n",
      "\n"
     ]
    }
   ],
   "source": [
    "y_predict = DecisionTreePipeline.predict(X_test)\n",
    "print(classification_report(y_test,y_predict))"
   ]
  },
  {
   "cell_type": "code",
   "execution_count": 187,
   "id": "f4567b2b",
   "metadata": {},
   "outputs": [],
   "source": [
    "#Random Forest Pipeline\n",
    "#f1 score of Random Forest is even higher at 95% which is expected as it is an ensemble technique. Accuracy is at 95%\n",
    "RandomForestPipeline=Pipeline([\n",
    "                     ('preprocessor',preprocessor),\n",
    "                     ('standard_scaler',StandardScaler()),\n",
    "                     ('SMOTE',SMOTE(random_state=42)),\n",
    "                     ('randomforest_classifier',RandomForestClassifier())\n",
    "])"
   ]
  },
  {
   "cell_type": "code",
   "execution_count": 188,
   "id": "7414287c",
   "metadata": {},
   "outputs": [
    {
     "name": "stderr",
     "output_type": "stream",
     "text": [
      "C:\\Users\\Dell\\anaconda3\\lib\\site-packages\\imblearn\\pipeline.py:297: DataConversionWarning: A column-vector y was passed when a 1d array was expected. Please change the shape of y to (n_samples,), for example using ravel().\n",
      "  self._final_estimator.fit(Xt, yt, **fit_params_last_step)\n"
     ]
    },
    {
     "data": {
      "text/html": [
       "<style>#sk-container-id-18 {color: black;background-color: white;}#sk-container-id-18 pre{padding: 0;}#sk-container-id-18 div.sk-toggleable {background-color: white;}#sk-container-id-18 label.sk-toggleable__label {cursor: pointer;display: block;width: 100%;margin-bottom: 0;padding: 0.3em;box-sizing: border-box;text-align: center;}#sk-container-id-18 label.sk-toggleable__label-arrow:before {content: \"▸\";float: left;margin-right: 0.25em;color: #696969;}#sk-container-id-18 label.sk-toggleable__label-arrow:hover:before {color: black;}#sk-container-id-18 div.sk-estimator:hover label.sk-toggleable__label-arrow:before {color: black;}#sk-container-id-18 div.sk-toggleable__content {max-height: 0;max-width: 0;overflow: hidden;text-align: left;background-color: #f0f8ff;}#sk-container-id-18 div.sk-toggleable__content pre {margin: 0.2em;color: black;border-radius: 0.25em;background-color: #f0f8ff;}#sk-container-id-18 input.sk-toggleable__control:checked~div.sk-toggleable__content {max-height: 200px;max-width: 100%;overflow: auto;}#sk-container-id-18 input.sk-toggleable__control:checked~label.sk-toggleable__label-arrow:before {content: \"▾\";}#sk-container-id-18 div.sk-estimator input.sk-toggleable__control:checked~label.sk-toggleable__label {background-color: #d4ebff;}#sk-container-id-18 div.sk-label input.sk-toggleable__control:checked~label.sk-toggleable__label {background-color: #d4ebff;}#sk-container-id-18 input.sk-hidden--visually {border: 0;clip: rect(1px 1px 1px 1px);clip: rect(1px, 1px, 1px, 1px);height: 1px;margin: -1px;overflow: hidden;padding: 0;position: absolute;width: 1px;}#sk-container-id-18 div.sk-estimator {font-family: monospace;background-color: #f0f8ff;border: 1px dotted black;border-radius: 0.25em;box-sizing: border-box;margin-bottom: 0.5em;}#sk-container-id-18 div.sk-estimator:hover {background-color: #d4ebff;}#sk-container-id-18 div.sk-parallel-item::after {content: \"\";width: 100%;border-bottom: 1px solid gray;flex-grow: 1;}#sk-container-id-18 div.sk-label:hover label.sk-toggleable__label {background-color: #d4ebff;}#sk-container-id-18 div.sk-serial::before {content: \"\";position: absolute;border-left: 1px solid gray;box-sizing: border-box;top: 0;bottom: 0;left: 50%;z-index: 0;}#sk-container-id-18 div.sk-serial {display: flex;flex-direction: column;align-items: center;background-color: white;padding-right: 0.2em;padding-left: 0.2em;position: relative;}#sk-container-id-18 div.sk-item {position: relative;z-index: 1;}#sk-container-id-18 div.sk-parallel {display: flex;align-items: stretch;justify-content: center;background-color: white;position: relative;}#sk-container-id-18 div.sk-item::before, #sk-container-id-18 div.sk-parallel-item::before {content: \"\";position: absolute;border-left: 1px solid gray;box-sizing: border-box;top: 0;bottom: 0;left: 50%;z-index: -1;}#sk-container-id-18 div.sk-parallel-item {display: flex;flex-direction: column;z-index: 1;position: relative;background-color: white;}#sk-container-id-18 div.sk-parallel-item:first-child::after {align-self: flex-end;width: 50%;}#sk-container-id-18 div.sk-parallel-item:last-child::after {align-self: flex-start;width: 50%;}#sk-container-id-18 div.sk-parallel-item:only-child::after {width: 0;}#sk-container-id-18 div.sk-dashed-wrapped {border: 1px dashed gray;margin: 0 0.4em 0.5em 0.4em;box-sizing: border-box;padding-bottom: 0.4em;background-color: white;}#sk-container-id-18 div.sk-label label {font-family: monospace;font-weight: bold;display: inline-block;line-height: 1.2em;}#sk-container-id-18 div.sk-label-container {text-align: center;}#sk-container-id-18 div.sk-container {/* jupyter's `normalize.less` sets `[hidden] { display: none; }` but bootstrap.min.css set `[hidden] { display: none !important; }` so we also need the `!important` here to be able to override the default hidden behavior on the sphinx rendered scikit-learn.org. See: https://github.com/scikit-learn/scikit-learn/issues/21755 */display: inline-block !important;position: relative;}#sk-container-id-18 div.sk-text-repr-fallback {display: none;}</style><div id=\"sk-container-id-18\" class=\"sk-top-container\"><div class=\"sk-text-repr-fallback\"><pre>Pipeline(steps=[(&#x27;preprocessor&#x27;,\n",
       "                 ColumnTransformer(transformers=[(&#x27;cat&#x27;,\n",
       "                                                  Pipeline(steps=[(&#x27;ohe&#x27;,\n",
       "                                                                   OneHotEncoder())]),\n",
       "                                                  [&#x27;departments&#x27;, &#x27;salary&#x27;]),\n",
       "                                                 (&#x27;num&#x27;,\n",
       "                                                  Pipeline(steps=[(&#x27;pass&#x27;,\n",
       "                                                                   &#x27;passthrough&#x27;)]),\n",
       "                                                  [&#x27;satisfaction_level&#x27;,\n",
       "                                                   &#x27;last_evaluation&#x27;,\n",
       "                                                   &#x27;number_project&#x27;,\n",
       "                                                   &#x27;time_spend_company&#x27;,\n",
       "                                                   &#x27;work_accident&#x27;,\n",
       "                                                   &#x27;promotion_last_5years&#x27;]),\n",
       "                                                 (&#x27;avg_month_hours&#x27;,\n",
       "                                                  Pipeline(steps=[(&#x27;average_montly_hours&#x27;,\n",
       "                                                                   FunctionTransformer(func=&lt;ufunc &#x27;log&#x27;&gt;))]),\n",
       "                                                  [&#x27;average_montly_hours&#x27;])])),\n",
       "                (&#x27;standard_scaler&#x27;, StandardScaler()),\n",
       "                (&#x27;SMOTE&#x27;, SMOTE(random_state=42)),\n",
       "                (&#x27;randomforest_classifier&#x27;, RandomForestClassifier())])</pre><b>In a Jupyter environment, please rerun this cell to show the HTML representation or trust the notebook. <br />On GitHub, the HTML representation is unable to render, please try loading this page with nbviewer.org.</b></div><div class=\"sk-container\" hidden><div class=\"sk-item sk-dashed-wrapped\"><div class=\"sk-label-container\"><div class=\"sk-label sk-toggleable\"><input class=\"sk-toggleable__control sk-hidden--visually\" id=\"sk-estimator-id-175\" type=\"checkbox\" ><label for=\"sk-estimator-id-175\" class=\"sk-toggleable__label sk-toggleable__label-arrow\">Pipeline</label><div class=\"sk-toggleable__content\"><pre>Pipeline(steps=[(&#x27;preprocessor&#x27;,\n",
       "                 ColumnTransformer(transformers=[(&#x27;cat&#x27;,\n",
       "                                                  Pipeline(steps=[(&#x27;ohe&#x27;,\n",
       "                                                                   OneHotEncoder())]),\n",
       "                                                  [&#x27;departments&#x27;, &#x27;salary&#x27;]),\n",
       "                                                 (&#x27;num&#x27;,\n",
       "                                                  Pipeline(steps=[(&#x27;pass&#x27;,\n",
       "                                                                   &#x27;passthrough&#x27;)]),\n",
       "                                                  [&#x27;satisfaction_level&#x27;,\n",
       "                                                   &#x27;last_evaluation&#x27;,\n",
       "                                                   &#x27;number_project&#x27;,\n",
       "                                                   &#x27;time_spend_company&#x27;,\n",
       "                                                   &#x27;work_accident&#x27;,\n",
       "                                                   &#x27;promotion_last_5years&#x27;]),\n",
       "                                                 (&#x27;avg_month_hours&#x27;,\n",
       "                                                  Pipeline(steps=[(&#x27;average_montly_hours&#x27;,\n",
       "                                                                   FunctionTransformer(func=&lt;ufunc &#x27;log&#x27;&gt;))]),\n",
       "                                                  [&#x27;average_montly_hours&#x27;])])),\n",
       "                (&#x27;standard_scaler&#x27;, StandardScaler()),\n",
       "                (&#x27;SMOTE&#x27;, SMOTE(random_state=42)),\n",
       "                (&#x27;randomforest_classifier&#x27;, RandomForestClassifier())])</pre></div></div></div><div class=\"sk-serial\"><div class=\"sk-item sk-dashed-wrapped\"><div class=\"sk-label-container\"><div class=\"sk-label sk-toggleable\"><input class=\"sk-toggleable__control sk-hidden--visually\" id=\"sk-estimator-id-176\" type=\"checkbox\" ><label for=\"sk-estimator-id-176\" class=\"sk-toggleable__label sk-toggleable__label-arrow\">preprocessor: ColumnTransformer</label><div class=\"sk-toggleable__content\"><pre>ColumnTransformer(transformers=[(&#x27;cat&#x27;,\n",
       "                                 Pipeline(steps=[(&#x27;ohe&#x27;, OneHotEncoder())]),\n",
       "                                 [&#x27;departments&#x27;, &#x27;salary&#x27;]),\n",
       "                                (&#x27;num&#x27;,\n",
       "                                 Pipeline(steps=[(&#x27;pass&#x27;, &#x27;passthrough&#x27;)]),\n",
       "                                 [&#x27;satisfaction_level&#x27;, &#x27;last_evaluation&#x27;,\n",
       "                                  &#x27;number_project&#x27;, &#x27;time_spend_company&#x27;,\n",
       "                                  &#x27;work_accident&#x27;, &#x27;promotion_last_5years&#x27;]),\n",
       "                                (&#x27;avg_month_hours&#x27;,\n",
       "                                 Pipeline(steps=[(&#x27;average_montly_hours&#x27;,\n",
       "                                                  FunctionTransformer(func=&lt;ufunc &#x27;log&#x27;&gt;))]),\n",
       "                                 [&#x27;average_montly_hours&#x27;])])</pre></div></div></div><div class=\"sk-parallel\"><div class=\"sk-parallel-item\"><div class=\"sk-item\"><div class=\"sk-label-container\"><div class=\"sk-label sk-toggleable\"><input class=\"sk-toggleable__control sk-hidden--visually\" id=\"sk-estimator-id-177\" type=\"checkbox\" ><label for=\"sk-estimator-id-177\" class=\"sk-toggleable__label sk-toggleable__label-arrow\">cat</label><div class=\"sk-toggleable__content\"><pre>[&#x27;departments&#x27;, &#x27;salary&#x27;]</pre></div></div></div><div class=\"sk-serial\"><div class=\"sk-item\"><div class=\"sk-serial\"><div class=\"sk-item\"><div class=\"sk-estimator sk-toggleable\"><input class=\"sk-toggleable__control sk-hidden--visually\" id=\"sk-estimator-id-178\" type=\"checkbox\" ><label for=\"sk-estimator-id-178\" class=\"sk-toggleable__label sk-toggleable__label-arrow\">OneHotEncoder</label><div class=\"sk-toggleable__content\"><pre>OneHotEncoder()</pre></div></div></div></div></div></div></div></div><div class=\"sk-parallel-item\"><div class=\"sk-item\"><div class=\"sk-label-container\"><div class=\"sk-label sk-toggleable\"><input class=\"sk-toggleable__control sk-hidden--visually\" id=\"sk-estimator-id-179\" type=\"checkbox\" ><label for=\"sk-estimator-id-179\" class=\"sk-toggleable__label sk-toggleable__label-arrow\">num</label><div class=\"sk-toggleable__content\"><pre>[&#x27;satisfaction_level&#x27;, &#x27;last_evaluation&#x27;, &#x27;number_project&#x27;, &#x27;time_spend_company&#x27;, &#x27;work_accident&#x27;, &#x27;promotion_last_5years&#x27;]</pre></div></div></div><div class=\"sk-serial\"><div class=\"sk-item\"><div class=\"sk-serial\"><div class=\"sk-item\"><div class=\"sk-estimator sk-toggleable\"><input class=\"sk-toggleable__control sk-hidden--visually\" id=\"sk-estimator-id-180\" type=\"checkbox\" ><label for=\"sk-estimator-id-180\" class=\"sk-toggleable__label sk-toggleable__label-arrow\">passthrough</label><div class=\"sk-toggleable__content\"><pre>passthrough</pre></div></div></div></div></div></div></div></div><div class=\"sk-parallel-item\"><div class=\"sk-item\"><div class=\"sk-label-container\"><div class=\"sk-label sk-toggleable\"><input class=\"sk-toggleable__control sk-hidden--visually\" id=\"sk-estimator-id-181\" type=\"checkbox\" ><label for=\"sk-estimator-id-181\" class=\"sk-toggleable__label sk-toggleable__label-arrow\">avg_month_hours</label><div class=\"sk-toggleable__content\"><pre>[&#x27;average_montly_hours&#x27;]</pre></div></div></div><div class=\"sk-serial\"><div class=\"sk-item\"><div class=\"sk-serial\"><div class=\"sk-item\"><div class=\"sk-estimator sk-toggleable\"><input class=\"sk-toggleable__control sk-hidden--visually\" id=\"sk-estimator-id-182\" type=\"checkbox\" ><label for=\"sk-estimator-id-182\" class=\"sk-toggleable__label sk-toggleable__label-arrow\">FunctionTransformer</label><div class=\"sk-toggleable__content\"><pre>FunctionTransformer(func=&lt;ufunc &#x27;log&#x27;&gt;)</pre></div></div></div></div></div></div></div></div></div></div><div class=\"sk-item\"><div class=\"sk-estimator sk-toggleable\"><input class=\"sk-toggleable__control sk-hidden--visually\" id=\"sk-estimator-id-183\" type=\"checkbox\" ><label for=\"sk-estimator-id-183\" class=\"sk-toggleable__label sk-toggleable__label-arrow\">StandardScaler</label><div class=\"sk-toggleable__content\"><pre>StandardScaler()</pre></div></div></div><div class=\"sk-item\"><div class=\"sk-estimator sk-toggleable\"><input class=\"sk-toggleable__control sk-hidden--visually\" id=\"sk-estimator-id-184\" type=\"checkbox\" ><label for=\"sk-estimator-id-184\" class=\"sk-toggleable__label sk-toggleable__label-arrow\">SMOTE</label><div class=\"sk-toggleable__content\"><pre>SMOTE(random_state=42)</pre></div></div></div><div class=\"sk-item\"><div class=\"sk-estimator sk-toggleable\"><input class=\"sk-toggleable__control sk-hidden--visually\" id=\"sk-estimator-id-185\" type=\"checkbox\" ><label for=\"sk-estimator-id-185\" class=\"sk-toggleable__label sk-toggleable__label-arrow\">RandomForestClassifier</label><div class=\"sk-toggleable__content\"><pre>RandomForestClassifier()</pre></div></div></div></div></div></div></div>"
      ],
      "text/plain": [
       "Pipeline(steps=[('preprocessor',\n",
       "                 ColumnTransformer(transformers=[('cat',\n",
       "                                                  Pipeline(steps=[('ohe',\n",
       "                                                                   OneHotEncoder())]),\n",
       "                                                  ['departments', 'salary']),\n",
       "                                                 ('num',\n",
       "                                                  Pipeline(steps=[('pass',\n",
       "                                                                   'passthrough')]),\n",
       "                                                  ['satisfaction_level',\n",
       "                                                   'last_evaluation',\n",
       "                                                   'number_project',\n",
       "                                                   'time_spend_company',\n",
       "                                                   'work_accident',\n",
       "                                                   'promotion_last_5years']),\n",
       "                                                 ('avg_month_hours',\n",
       "                                                  Pipeline(steps=[('average_montly_hours',\n",
       "                                                                   FunctionTransformer(func=<ufunc 'log'>))]),\n",
       "                                                  ['average_montly_hours'])])),\n",
       "                ('standard_scaler', StandardScaler()),\n",
       "                ('SMOTE', SMOTE(random_state=42)),\n",
       "                ('randomforest_classifier', RandomForestClassifier())])"
      ]
     },
     "execution_count": 188,
     "metadata": {},
     "output_type": "execute_result"
    }
   ],
   "source": [
    "RandomForestPipeline.fit(X_train,y_train)"
   ]
  },
  {
   "cell_type": "code",
   "execution_count": 181,
   "id": "7c6f05e2",
   "metadata": {},
   "outputs": [
    {
     "name": "stdout",
     "output_type": "stream",
     "text": [
      "              precision    recall  f1-score   support\n",
      "\n",
      "           0       0.99      1.00      0.99      2001\n",
      "           1       0.98      0.92      0.95       398\n",
      "\n",
      "    accuracy                           0.98      2399\n",
      "   macro avg       0.98      0.96      0.97      2399\n",
      "weighted avg       0.98      0.98      0.98      2399\n",
      "\n"
     ]
    }
   ],
   "source": [
    "y_predict = RandomForestPipeline.predict(X_test)\n",
    "print(classification_report(y_test,y_predict))"
   ]
  },
  {
   "cell_type": "code",
   "execution_count": 227,
   "id": "173eeaf9",
   "metadata": {},
   "outputs": [],
   "source": [
    "#XGBoost Pipeline\n",
    "#f1 score of XGBoost is 95%. Acuuracy is at 98% which is the best performance together with random forest. \n",
    "#Execution speed is faster when compared to random forest. XGBoost is best at speed and performance\n",
    "\n",
    "XGBoostPipeline=Pipeline([\n",
    "                     ('preprocessor',preprocessor),\n",
    "                     ('standard_scaler',StandardScaler()),\n",
    "                     ('SMOTE',SMOTE(random_state=42)),\n",
    "                     ('XGBoost_classifier',XGBClassifier())\n",
    "])"
   ]
  },
  {
   "cell_type": "code",
   "execution_count": 228,
   "id": "87777ff2",
   "metadata": {},
   "outputs": [
    {
     "data": {
      "text/html": [
       "<style>#sk-container-id-28 {color: black;background-color: white;}#sk-container-id-28 pre{padding: 0;}#sk-container-id-28 div.sk-toggleable {background-color: white;}#sk-container-id-28 label.sk-toggleable__label {cursor: pointer;display: block;width: 100%;margin-bottom: 0;padding: 0.3em;box-sizing: border-box;text-align: center;}#sk-container-id-28 label.sk-toggleable__label-arrow:before {content: \"▸\";float: left;margin-right: 0.25em;color: #696969;}#sk-container-id-28 label.sk-toggleable__label-arrow:hover:before {color: black;}#sk-container-id-28 div.sk-estimator:hover label.sk-toggleable__label-arrow:before {color: black;}#sk-container-id-28 div.sk-toggleable__content {max-height: 0;max-width: 0;overflow: hidden;text-align: left;background-color: #f0f8ff;}#sk-container-id-28 div.sk-toggleable__content pre {margin: 0.2em;color: black;border-radius: 0.25em;background-color: #f0f8ff;}#sk-container-id-28 input.sk-toggleable__control:checked~div.sk-toggleable__content {max-height: 200px;max-width: 100%;overflow: auto;}#sk-container-id-28 input.sk-toggleable__control:checked~label.sk-toggleable__label-arrow:before {content: \"▾\";}#sk-container-id-28 div.sk-estimator input.sk-toggleable__control:checked~label.sk-toggleable__label {background-color: #d4ebff;}#sk-container-id-28 div.sk-label input.sk-toggleable__control:checked~label.sk-toggleable__label {background-color: #d4ebff;}#sk-container-id-28 input.sk-hidden--visually {border: 0;clip: rect(1px 1px 1px 1px);clip: rect(1px, 1px, 1px, 1px);height: 1px;margin: -1px;overflow: hidden;padding: 0;position: absolute;width: 1px;}#sk-container-id-28 div.sk-estimator {font-family: monospace;background-color: #f0f8ff;border: 1px dotted black;border-radius: 0.25em;box-sizing: border-box;margin-bottom: 0.5em;}#sk-container-id-28 div.sk-estimator:hover {background-color: #d4ebff;}#sk-container-id-28 div.sk-parallel-item::after {content: \"\";width: 100%;border-bottom: 1px solid gray;flex-grow: 1;}#sk-container-id-28 div.sk-label:hover label.sk-toggleable__label {background-color: #d4ebff;}#sk-container-id-28 div.sk-serial::before {content: \"\";position: absolute;border-left: 1px solid gray;box-sizing: border-box;top: 0;bottom: 0;left: 50%;z-index: 0;}#sk-container-id-28 div.sk-serial {display: flex;flex-direction: column;align-items: center;background-color: white;padding-right: 0.2em;padding-left: 0.2em;position: relative;}#sk-container-id-28 div.sk-item {position: relative;z-index: 1;}#sk-container-id-28 div.sk-parallel {display: flex;align-items: stretch;justify-content: center;background-color: white;position: relative;}#sk-container-id-28 div.sk-item::before, #sk-container-id-28 div.sk-parallel-item::before {content: \"\";position: absolute;border-left: 1px solid gray;box-sizing: border-box;top: 0;bottom: 0;left: 50%;z-index: -1;}#sk-container-id-28 div.sk-parallel-item {display: flex;flex-direction: column;z-index: 1;position: relative;background-color: white;}#sk-container-id-28 div.sk-parallel-item:first-child::after {align-self: flex-end;width: 50%;}#sk-container-id-28 div.sk-parallel-item:last-child::after {align-self: flex-start;width: 50%;}#sk-container-id-28 div.sk-parallel-item:only-child::after {width: 0;}#sk-container-id-28 div.sk-dashed-wrapped {border: 1px dashed gray;margin: 0 0.4em 0.5em 0.4em;box-sizing: border-box;padding-bottom: 0.4em;background-color: white;}#sk-container-id-28 div.sk-label label {font-family: monospace;font-weight: bold;display: inline-block;line-height: 1.2em;}#sk-container-id-28 div.sk-label-container {text-align: center;}#sk-container-id-28 div.sk-container {/* jupyter's `normalize.less` sets `[hidden] { display: none; }` but bootstrap.min.css set `[hidden] { display: none !important; }` so we also need the `!important` here to be able to override the default hidden behavior on the sphinx rendered scikit-learn.org. See: https://github.com/scikit-learn/scikit-learn/issues/21755 */display: inline-block !important;position: relative;}#sk-container-id-28 div.sk-text-repr-fallback {display: none;}</style><div id=\"sk-container-id-28\" class=\"sk-top-container\"><div class=\"sk-text-repr-fallback\"><pre>Pipeline(steps=[(&#x27;preprocessor&#x27;,\n",
       "                 ColumnTransformer(transformers=[(&#x27;cat&#x27;,\n",
       "                                                  Pipeline(steps=[(&#x27;ohe&#x27;,\n",
       "                                                                   OneHotEncoder())]),\n",
       "                                                  [&#x27;departments&#x27;, &#x27;salary&#x27;]),\n",
       "                                                 (&#x27;num&#x27;,\n",
       "                                                  Pipeline(steps=[(&#x27;pass&#x27;,\n",
       "                                                                   &#x27;passthrough&#x27;)]),\n",
       "                                                  [&#x27;satisfaction_level&#x27;,\n",
       "                                                   &#x27;last_evaluation&#x27;,\n",
       "                                                   &#x27;number_project&#x27;,\n",
       "                                                   &#x27;time_spend_company&#x27;,\n",
       "                                                   &#x27;work_accident&#x27;,\n",
       "                                                   &#x27;promotion_last_5years&#x27;]),\n",
       "                                                 (&#x27;avg_month_hours&#x27;,\n",
       "                                                  Pipeline(steps=[(&#x27;averag...\n",
       "                               feature_types=None, gamma=None, gpu_id=None,\n",
       "                               grow_policy=None, importance_type=None,\n",
       "                               interaction_constraints=None, learning_rate=None,\n",
       "                               max_bin=None, max_cat_threshold=None,\n",
       "                               max_cat_to_onehot=None, max_delta_step=None,\n",
       "                               max_depth=None, max_leaves=None,\n",
       "                               min_child_weight=None, missing=nan,\n",
       "                               monotone_constraints=None, n_estimators=100,\n",
       "                               n_jobs=None, num_parallel_tree=None,\n",
       "                               predictor=None, random_state=None, ...))])</pre><b>In a Jupyter environment, please rerun this cell to show the HTML representation or trust the notebook. <br />On GitHub, the HTML representation is unable to render, please try loading this page with nbviewer.org.</b></div><div class=\"sk-container\" hidden><div class=\"sk-item sk-dashed-wrapped\"><div class=\"sk-label-container\"><div class=\"sk-label sk-toggleable\"><input class=\"sk-toggleable__control sk-hidden--visually\" id=\"sk-estimator-id-285\" type=\"checkbox\" ><label for=\"sk-estimator-id-285\" class=\"sk-toggleable__label sk-toggleable__label-arrow\">Pipeline</label><div class=\"sk-toggleable__content\"><pre>Pipeline(steps=[(&#x27;preprocessor&#x27;,\n",
       "                 ColumnTransformer(transformers=[(&#x27;cat&#x27;,\n",
       "                                                  Pipeline(steps=[(&#x27;ohe&#x27;,\n",
       "                                                                   OneHotEncoder())]),\n",
       "                                                  [&#x27;departments&#x27;, &#x27;salary&#x27;]),\n",
       "                                                 (&#x27;num&#x27;,\n",
       "                                                  Pipeline(steps=[(&#x27;pass&#x27;,\n",
       "                                                                   &#x27;passthrough&#x27;)]),\n",
       "                                                  [&#x27;satisfaction_level&#x27;,\n",
       "                                                   &#x27;last_evaluation&#x27;,\n",
       "                                                   &#x27;number_project&#x27;,\n",
       "                                                   &#x27;time_spend_company&#x27;,\n",
       "                                                   &#x27;work_accident&#x27;,\n",
       "                                                   &#x27;promotion_last_5years&#x27;]),\n",
       "                                                 (&#x27;avg_month_hours&#x27;,\n",
       "                                                  Pipeline(steps=[(&#x27;averag...\n",
       "                               feature_types=None, gamma=None, gpu_id=None,\n",
       "                               grow_policy=None, importance_type=None,\n",
       "                               interaction_constraints=None, learning_rate=None,\n",
       "                               max_bin=None, max_cat_threshold=None,\n",
       "                               max_cat_to_onehot=None, max_delta_step=None,\n",
       "                               max_depth=None, max_leaves=None,\n",
       "                               min_child_weight=None, missing=nan,\n",
       "                               monotone_constraints=None, n_estimators=100,\n",
       "                               n_jobs=None, num_parallel_tree=None,\n",
       "                               predictor=None, random_state=None, ...))])</pre></div></div></div><div class=\"sk-serial\"><div class=\"sk-item sk-dashed-wrapped\"><div class=\"sk-label-container\"><div class=\"sk-label sk-toggleable\"><input class=\"sk-toggleable__control sk-hidden--visually\" id=\"sk-estimator-id-286\" type=\"checkbox\" ><label for=\"sk-estimator-id-286\" class=\"sk-toggleable__label sk-toggleable__label-arrow\">preprocessor: ColumnTransformer</label><div class=\"sk-toggleable__content\"><pre>ColumnTransformer(transformers=[(&#x27;cat&#x27;,\n",
       "                                 Pipeline(steps=[(&#x27;ohe&#x27;, OneHotEncoder())]),\n",
       "                                 [&#x27;departments&#x27;, &#x27;salary&#x27;]),\n",
       "                                (&#x27;num&#x27;,\n",
       "                                 Pipeline(steps=[(&#x27;pass&#x27;, &#x27;passthrough&#x27;)]),\n",
       "                                 [&#x27;satisfaction_level&#x27;, &#x27;last_evaluation&#x27;,\n",
       "                                  &#x27;number_project&#x27;, &#x27;time_spend_company&#x27;,\n",
       "                                  &#x27;work_accident&#x27;, &#x27;promotion_last_5years&#x27;]),\n",
       "                                (&#x27;avg_month_hours&#x27;,\n",
       "                                 Pipeline(steps=[(&#x27;average_montly_hours&#x27;,\n",
       "                                                  FunctionTransformer(func=&lt;ufunc &#x27;log&#x27;&gt;))]),\n",
       "                                 [&#x27;average_montly_hours&#x27;])])</pre></div></div></div><div class=\"sk-parallel\"><div class=\"sk-parallel-item\"><div class=\"sk-item\"><div class=\"sk-label-container\"><div class=\"sk-label sk-toggleable\"><input class=\"sk-toggleable__control sk-hidden--visually\" id=\"sk-estimator-id-287\" type=\"checkbox\" ><label for=\"sk-estimator-id-287\" class=\"sk-toggleable__label sk-toggleable__label-arrow\">cat</label><div class=\"sk-toggleable__content\"><pre>[&#x27;departments&#x27;, &#x27;salary&#x27;]</pre></div></div></div><div class=\"sk-serial\"><div class=\"sk-item\"><div class=\"sk-serial\"><div class=\"sk-item\"><div class=\"sk-estimator sk-toggleable\"><input class=\"sk-toggleable__control sk-hidden--visually\" id=\"sk-estimator-id-288\" type=\"checkbox\" ><label for=\"sk-estimator-id-288\" class=\"sk-toggleable__label sk-toggleable__label-arrow\">OneHotEncoder</label><div class=\"sk-toggleable__content\"><pre>OneHotEncoder()</pre></div></div></div></div></div></div></div></div><div class=\"sk-parallel-item\"><div class=\"sk-item\"><div class=\"sk-label-container\"><div class=\"sk-label sk-toggleable\"><input class=\"sk-toggleable__control sk-hidden--visually\" id=\"sk-estimator-id-289\" type=\"checkbox\" ><label for=\"sk-estimator-id-289\" class=\"sk-toggleable__label sk-toggleable__label-arrow\">num</label><div class=\"sk-toggleable__content\"><pre>[&#x27;satisfaction_level&#x27;, &#x27;last_evaluation&#x27;, &#x27;number_project&#x27;, &#x27;time_spend_company&#x27;, &#x27;work_accident&#x27;, &#x27;promotion_last_5years&#x27;]</pre></div></div></div><div class=\"sk-serial\"><div class=\"sk-item\"><div class=\"sk-serial\"><div class=\"sk-item\"><div class=\"sk-estimator sk-toggleable\"><input class=\"sk-toggleable__control sk-hidden--visually\" id=\"sk-estimator-id-290\" type=\"checkbox\" ><label for=\"sk-estimator-id-290\" class=\"sk-toggleable__label sk-toggleable__label-arrow\">passthrough</label><div class=\"sk-toggleable__content\"><pre>passthrough</pre></div></div></div></div></div></div></div></div><div class=\"sk-parallel-item\"><div class=\"sk-item\"><div class=\"sk-label-container\"><div class=\"sk-label sk-toggleable\"><input class=\"sk-toggleable__control sk-hidden--visually\" id=\"sk-estimator-id-291\" type=\"checkbox\" ><label for=\"sk-estimator-id-291\" class=\"sk-toggleable__label sk-toggleable__label-arrow\">avg_month_hours</label><div class=\"sk-toggleable__content\"><pre>[&#x27;average_montly_hours&#x27;]</pre></div></div></div><div class=\"sk-serial\"><div class=\"sk-item\"><div class=\"sk-serial\"><div class=\"sk-item\"><div class=\"sk-estimator sk-toggleable\"><input class=\"sk-toggleable__control sk-hidden--visually\" id=\"sk-estimator-id-292\" type=\"checkbox\" ><label for=\"sk-estimator-id-292\" class=\"sk-toggleable__label sk-toggleable__label-arrow\">FunctionTransformer</label><div class=\"sk-toggleable__content\"><pre>FunctionTransformer(func=&lt;ufunc &#x27;log&#x27;&gt;)</pre></div></div></div></div></div></div></div></div></div></div><div class=\"sk-item\"><div class=\"sk-estimator sk-toggleable\"><input class=\"sk-toggleable__control sk-hidden--visually\" id=\"sk-estimator-id-293\" type=\"checkbox\" ><label for=\"sk-estimator-id-293\" class=\"sk-toggleable__label sk-toggleable__label-arrow\">StandardScaler</label><div class=\"sk-toggleable__content\"><pre>StandardScaler()</pre></div></div></div><div class=\"sk-item\"><div class=\"sk-estimator sk-toggleable\"><input class=\"sk-toggleable__control sk-hidden--visually\" id=\"sk-estimator-id-294\" type=\"checkbox\" ><label for=\"sk-estimator-id-294\" class=\"sk-toggleable__label sk-toggleable__label-arrow\">SMOTE</label><div class=\"sk-toggleable__content\"><pre>SMOTE(random_state=42)</pre></div></div></div><div class=\"sk-item\"><div class=\"sk-estimator sk-toggleable\"><input class=\"sk-toggleable__control sk-hidden--visually\" id=\"sk-estimator-id-295\" type=\"checkbox\" ><label for=\"sk-estimator-id-295\" class=\"sk-toggleable__label sk-toggleable__label-arrow\">XGBClassifier</label><div class=\"sk-toggleable__content\"><pre>XGBClassifier(base_score=None, booster=None, callbacks=None,\n",
       "              colsample_bylevel=None, colsample_bynode=None,\n",
       "              colsample_bytree=None, early_stopping_rounds=None,\n",
       "              enable_categorical=False, eval_metric=None, feature_types=None,\n",
       "              gamma=None, gpu_id=None, grow_policy=None, importance_type=None,\n",
       "              interaction_constraints=None, learning_rate=None, max_bin=None,\n",
       "              max_cat_threshold=None, max_cat_to_onehot=None,\n",
       "              max_delta_step=None, max_depth=None, max_leaves=None,\n",
       "              min_child_weight=None, missing=nan, monotone_constraints=None,\n",
       "              n_estimators=100, n_jobs=None, num_parallel_tree=None,\n",
       "              predictor=None, random_state=None, ...)</pre></div></div></div></div></div></div></div>"
      ],
      "text/plain": [
       "Pipeline(steps=[('preprocessor',\n",
       "                 ColumnTransformer(transformers=[('cat',\n",
       "                                                  Pipeline(steps=[('ohe',\n",
       "                                                                   OneHotEncoder())]),\n",
       "                                                  ['departments', 'salary']),\n",
       "                                                 ('num',\n",
       "                                                  Pipeline(steps=[('pass',\n",
       "                                                                   'passthrough')]),\n",
       "                                                  ['satisfaction_level',\n",
       "                                                   'last_evaluation',\n",
       "                                                   'number_project',\n",
       "                                                   'time_spend_company',\n",
       "                                                   'work_accident',\n",
       "                                                   'promotion_last_5years']),\n",
       "                                                 ('avg_month_hours',\n",
       "                                                  Pipeline(steps=[('averag...\n",
       "                               feature_types=None, gamma=None, gpu_id=None,\n",
       "                               grow_policy=None, importance_type=None,\n",
       "                               interaction_constraints=None, learning_rate=None,\n",
       "                               max_bin=None, max_cat_threshold=None,\n",
       "                               max_cat_to_onehot=None, max_delta_step=None,\n",
       "                               max_depth=None, max_leaves=None,\n",
       "                               min_child_weight=None, missing=nan,\n",
       "                               monotone_constraints=None, n_estimators=100,\n",
       "                               n_jobs=None, num_parallel_tree=None,\n",
       "                               predictor=None, random_state=None, ...))])"
      ]
     },
     "execution_count": 228,
     "metadata": {},
     "output_type": "execute_result"
    }
   ],
   "source": [
    "XGBoostPipeline.fit(X_train,y_train)"
   ]
  },
  {
   "cell_type": "code",
   "execution_count": 229,
   "id": "1c40ae68",
   "metadata": {},
   "outputs": [
    {
     "name": "stdout",
     "output_type": "stream",
     "text": [
      "              precision    recall  f1-score   support\n",
      "\n",
      "           0       0.99      0.99      0.99      2001\n",
      "           1       0.96      0.93      0.95       398\n",
      "\n",
      "    accuracy                           0.98      2399\n",
      "   macro avg       0.97      0.96      0.97      2399\n",
      "weighted avg       0.98      0.98      0.98      2399\n",
      "\n"
     ]
    }
   ],
   "source": [
    "y_predict = XGBoostPipeline.predict(X_test)\n",
    "print(classification_report(y_test,y_predict))"
   ]
  },
  {
   "cell_type": "markdown",
   "id": "30ddf78f",
   "metadata": {},
   "source": [
    "# Determining best algorithm using pipeline"
   ]
  },
  {
   "cell_type": "code",
   "execution_count": 205,
   "id": "bdbae2a5",
   "metadata": {},
   "outputs": [],
   "source": [
    "## Defining the pipelines in a list\n",
    "mypipeline = [LogisticRegressionPipeline, DecisionTreePipeline, RandomForestPipeline,KNeighborsPipeline,XGBoostPipeline]"
   ]
  },
  {
   "cell_type": "code",
   "execution_count": 206,
   "id": "cbf33059",
   "metadata": {},
   "outputs": [],
   "source": [
    "#Defining variables for choosing best model\n",
    "accuracy=0.0\n",
    "classifier=0\n",
    "pipeline=\"\""
   ]
  },
  {
   "cell_type": "code",
   "execution_count": 207,
   "id": "4b317e92",
   "metadata": {},
   "outputs": [
    {
     "name": "stderr",
     "output_type": "stream",
     "text": [
      "C:\\Users\\Dell\\anaconda3\\lib\\site-packages\\sklearn\\utils\\validation.py:1143: DataConversionWarning: A column-vector y was passed when a 1d array was expected. Please change the shape of y to (n_samples, ), for example using ravel().\n",
      "  y = column_or_1d(y, warn=True)\n",
      "C:\\Users\\Dell\\anaconda3\\lib\\site-packages\\imblearn\\pipeline.py:297: DataConversionWarning: A column-vector y was passed when a 1d array was expected. Please change the shape of y to (n_samples,), for example using ravel().\n",
      "  self._final_estimator.fit(Xt, yt, **fit_params_last_step)\n",
      "C:\\Users\\Dell\\anaconda3\\lib\\site-packages\\sklearn\\neighbors\\_classification.py:215: DataConversionWarning: A column-vector y was passed when a 1d array was expected. Please change the shape of y to (n_samples,), for example using ravel().\n",
      "  return self._fit(X, y)\n"
     ]
    }
   ],
   "source": [
    "# Creating dictionary of pipelines and training models\n",
    "PipelineDict = {0: 'Logistic Regression', 1: 'Decision Tree', 2: 'Random Forest', 3:'KNN', 4:'XGBoost'}\n",
    "\n",
    "# Fit the pipelines\n",
    "for mypipe in mypipeline:\n",
    "    mypipe.fit(X_train, y_train)"
   ]
  },
  {
   "cell_type": "code",
   "execution_count": 235,
   "id": "f72a1388",
   "metadata": {},
   "outputs": [
    {
     "name": "stdout",
     "output_type": "stream",
     "text": [
      "Logistic Regression Test Accuracy: 0.7886619424760317\n",
      "Decision Tree Test Accuracy: 0.9666527719883284\n",
      "Random Forest Test Accuracy: 0.9829095456440183\n",
      "KNN Test Accuracy: 0.9178824510212589\n",
      "XGBoost Test Accuracy: 0.9824927052938724\n"
     ]
    }
   ],
   "source": [
    "#getting test accuracy for all classifiers\n",
    "for i,model in enumerate(mypipeline):\n",
    "    print(\"{} Test Accuracy: {}\".format(PipelineDict[i],model.score(X_test,y_test)))"
   ]
  },
  {
   "cell_type": "code",
   "execution_count": 232,
   "id": "b7714f92",
   "metadata": {},
   "outputs": [
    {
     "name": "stdout",
     "output_type": "stream",
     "text": [
      "Classifier with best accuracy:Random Forest\n"
     ]
    }
   ],
   "source": [
    "#Choosing best model for the given data\n",
    "for i,model in enumerate(mypipeline):\n",
    "    if model.score(X_test,y_test)>accuracy:\n",
    "        accuracy=model.score(X_test,y_test)\n",
    "        pipeline=model\n",
    "        classifier=i\n",
    "print('Classifier with best accuracy:{}'.format(PipelineDict[classifier]))"
   ]
  },
  {
   "cell_type": "markdown",
   "id": "5cca7514",
   "metadata": {},
   "source": [
    "# Step 8 Hyper parameter Tuning"
   ]
  },
  {
   "cell_type": "markdown",
   "id": "b1458556",
   "metadata": {},
   "source": [
    "Random Forest Test Accuracy is 98.29% while\n",
    "XGBoost Test Accuracy is at 98.25% with both having the same f1-score.\n",
    "Random Forest very narrowly beats XGBoost but in terms of speed, XGBoost surpasses Random Forest and hence is our best algorithm for this machine learning project.\n",
    "We will do hyperparameter tuning for both XGBoost and Random Forest."
   ]
  },
  {
   "cell_type": "markdown",
   "id": "4282c5cc",
   "metadata": {},
   "source": [
    "After Hyper-parameter tuning:                                                                                                   \n",
    "Random Forest: Accuracy = 97.98795427536827, f1-score = 93.61151046143774                                                       \n",
    "XGBoost: Accuracy = 98.18602841569486, f1-score = 94.40933494090322"
   ]
  },
  {
   "cell_type": "code",
   "execution_count": 248,
   "id": "1ad6216a",
   "metadata": {},
   "outputs": [
    {
     "data": {
      "text/html": [
       "<style>#sk-container-id-33 {color: black;background-color: white;}#sk-container-id-33 pre{padding: 0;}#sk-container-id-33 div.sk-toggleable {background-color: white;}#sk-container-id-33 label.sk-toggleable__label {cursor: pointer;display: block;width: 100%;margin-bottom: 0;padding: 0.3em;box-sizing: border-box;text-align: center;}#sk-container-id-33 label.sk-toggleable__label-arrow:before {content: \"▸\";float: left;margin-right: 0.25em;color: #696969;}#sk-container-id-33 label.sk-toggleable__label-arrow:hover:before {color: black;}#sk-container-id-33 div.sk-estimator:hover label.sk-toggleable__label-arrow:before {color: black;}#sk-container-id-33 div.sk-toggleable__content {max-height: 0;max-width: 0;overflow: hidden;text-align: left;background-color: #f0f8ff;}#sk-container-id-33 div.sk-toggleable__content pre {margin: 0.2em;color: black;border-radius: 0.25em;background-color: #f0f8ff;}#sk-container-id-33 input.sk-toggleable__control:checked~div.sk-toggleable__content {max-height: 200px;max-width: 100%;overflow: auto;}#sk-container-id-33 input.sk-toggleable__control:checked~label.sk-toggleable__label-arrow:before {content: \"▾\";}#sk-container-id-33 div.sk-estimator input.sk-toggleable__control:checked~label.sk-toggleable__label {background-color: #d4ebff;}#sk-container-id-33 div.sk-label input.sk-toggleable__control:checked~label.sk-toggleable__label {background-color: #d4ebff;}#sk-container-id-33 input.sk-hidden--visually {border: 0;clip: rect(1px 1px 1px 1px);clip: rect(1px, 1px, 1px, 1px);height: 1px;margin: -1px;overflow: hidden;padding: 0;position: absolute;width: 1px;}#sk-container-id-33 div.sk-estimator {font-family: monospace;background-color: #f0f8ff;border: 1px dotted black;border-radius: 0.25em;box-sizing: border-box;margin-bottom: 0.5em;}#sk-container-id-33 div.sk-estimator:hover {background-color: #d4ebff;}#sk-container-id-33 div.sk-parallel-item::after {content: \"\";width: 100%;border-bottom: 1px solid gray;flex-grow: 1;}#sk-container-id-33 div.sk-label:hover label.sk-toggleable__label {background-color: #d4ebff;}#sk-container-id-33 div.sk-serial::before {content: \"\";position: absolute;border-left: 1px solid gray;box-sizing: border-box;top: 0;bottom: 0;left: 50%;z-index: 0;}#sk-container-id-33 div.sk-serial {display: flex;flex-direction: column;align-items: center;background-color: white;padding-right: 0.2em;padding-left: 0.2em;position: relative;}#sk-container-id-33 div.sk-item {position: relative;z-index: 1;}#sk-container-id-33 div.sk-parallel {display: flex;align-items: stretch;justify-content: center;background-color: white;position: relative;}#sk-container-id-33 div.sk-item::before, #sk-container-id-33 div.sk-parallel-item::before {content: \"\";position: absolute;border-left: 1px solid gray;box-sizing: border-box;top: 0;bottom: 0;left: 50%;z-index: -1;}#sk-container-id-33 div.sk-parallel-item {display: flex;flex-direction: column;z-index: 1;position: relative;background-color: white;}#sk-container-id-33 div.sk-parallel-item:first-child::after {align-self: flex-end;width: 50%;}#sk-container-id-33 div.sk-parallel-item:last-child::after {align-self: flex-start;width: 50%;}#sk-container-id-33 div.sk-parallel-item:only-child::after {width: 0;}#sk-container-id-33 div.sk-dashed-wrapped {border: 1px dashed gray;margin: 0 0.4em 0.5em 0.4em;box-sizing: border-box;padding-bottom: 0.4em;background-color: white;}#sk-container-id-33 div.sk-label label {font-family: monospace;font-weight: bold;display: inline-block;line-height: 1.2em;}#sk-container-id-33 div.sk-label-container {text-align: center;}#sk-container-id-33 div.sk-container {/* jupyter's `normalize.less` sets `[hidden] { display: none; }` but bootstrap.min.css set `[hidden] { display: none !important; }` so we also need the `!important` here to be able to override the default hidden behavior on the sphinx rendered scikit-learn.org. See: https://github.com/scikit-learn/scikit-learn/issues/21755 */display: inline-block !important;position: relative;}#sk-container-id-33 div.sk-text-repr-fallback {display: none;}</style><div id=\"sk-container-id-33\" class=\"sk-top-container\"><div class=\"sk-text-repr-fallback\"><pre>GridSearchCV(cv=StratifiedKFold(n_splits=5, random_state=None, shuffle=False),\n",
       "             estimator=Pipeline(steps=[(&#x27;preprocessor&#x27;,\n",
       "                                        ColumnTransformer(transformers=[(&#x27;cat&#x27;,\n",
       "                                                                         Pipeline(steps=[(&#x27;ohe&#x27;,\n",
       "                                                                                          OneHotEncoder())]),\n",
       "                                                                         [&#x27;departments&#x27;,\n",
       "                                                                          &#x27;salary&#x27;]),\n",
       "                                                                        (&#x27;num&#x27;,\n",
       "                                                                         Pipeline(steps=[(&#x27;pass&#x27;,\n",
       "                                                                                          &#x27;passthrough&#x27;)]),\n",
       "                                                                         [&#x27;satisfaction_level&#x27;,\n",
       "                                                                          &#x27;last_evaluation&#x27;,\n",
       "                                                                          &#x27;number_project&#x27;,\n",
       "                                                                          &#x27;time_spend_company&#x27;...\n",
       "                                                                         [&#x27;average_montly_hours&#x27;])])),\n",
       "                                       (&#x27;standard_scaler&#x27;, StandardScaler()),\n",
       "                                       (&#x27;SMOTE&#x27;, SMOTE(random_state=42)),\n",
       "                                       (&#x27;randomforest_classifier&#x27;,\n",
       "                                        RandomForestClassifier())]),\n",
       "             n_jobs=-1,\n",
       "             param_grid={&#x27;randomforest_classifier__criterion&#x27;: [&#x27;gini&#x27;,\n",
       "                                                                &#x27;entropy&#x27;],\n",
       "                         &#x27;randomforest_classifier__max_depth&#x27;: [10, 50, 100],\n",
       "                         &#x27;randomforest_classifier__n_estimators&#x27;: [100, 120,\n",
       "                                                                   150]},\n",
       "             scoring=&#x27;accuracy&#x27;)</pre><b>In a Jupyter environment, please rerun this cell to show the HTML representation or trust the notebook. <br />On GitHub, the HTML representation is unable to render, please try loading this page with nbviewer.org.</b></div><div class=\"sk-container\" hidden><div class=\"sk-item sk-dashed-wrapped\"><div class=\"sk-label-container\"><div class=\"sk-label sk-toggleable\"><input class=\"sk-toggleable__control sk-hidden--visually\" id=\"sk-estimator-id-332\" type=\"checkbox\" ><label for=\"sk-estimator-id-332\" class=\"sk-toggleable__label sk-toggleable__label-arrow\">GridSearchCV</label><div class=\"sk-toggleable__content\"><pre>GridSearchCV(cv=StratifiedKFold(n_splits=5, random_state=None, shuffle=False),\n",
       "             estimator=Pipeline(steps=[(&#x27;preprocessor&#x27;,\n",
       "                                        ColumnTransformer(transformers=[(&#x27;cat&#x27;,\n",
       "                                                                         Pipeline(steps=[(&#x27;ohe&#x27;,\n",
       "                                                                                          OneHotEncoder())]),\n",
       "                                                                         [&#x27;departments&#x27;,\n",
       "                                                                          &#x27;salary&#x27;]),\n",
       "                                                                        (&#x27;num&#x27;,\n",
       "                                                                         Pipeline(steps=[(&#x27;pass&#x27;,\n",
       "                                                                                          &#x27;passthrough&#x27;)]),\n",
       "                                                                         [&#x27;satisfaction_level&#x27;,\n",
       "                                                                          &#x27;last_evaluation&#x27;,\n",
       "                                                                          &#x27;number_project&#x27;,\n",
       "                                                                          &#x27;time_spend_company&#x27;...\n",
       "                                                                         [&#x27;average_montly_hours&#x27;])])),\n",
       "                                       (&#x27;standard_scaler&#x27;, StandardScaler()),\n",
       "                                       (&#x27;SMOTE&#x27;, SMOTE(random_state=42)),\n",
       "                                       (&#x27;randomforest_classifier&#x27;,\n",
       "                                        RandomForestClassifier())]),\n",
       "             n_jobs=-1,\n",
       "             param_grid={&#x27;randomforest_classifier__criterion&#x27;: [&#x27;gini&#x27;,\n",
       "                                                                &#x27;entropy&#x27;],\n",
       "                         &#x27;randomforest_classifier__max_depth&#x27;: [10, 50, 100],\n",
       "                         &#x27;randomforest_classifier__n_estimators&#x27;: [100, 120,\n",
       "                                                                   150]},\n",
       "             scoring=&#x27;accuracy&#x27;)</pre></div></div></div><div class=\"sk-parallel\"><div class=\"sk-parallel-item\"><div class=\"sk-item\"><div class=\"sk-label-container\"><div class=\"sk-label sk-toggleable\"><input class=\"sk-toggleable__control sk-hidden--visually\" id=\"sk-estimator-id-333\" type=\"checkbox\" ><label for=\"sk-estimator-id-333\" class=\"sk-toggleable__label sk-toggleable__label-arrow\">estimator: Pipeline</label><div class=\"sk-toggleable__content\"><pre>Pipeline(steps=[(&#x27;preprocessor&#x27;,\n",
       "                 ColumnTransformer(transformers=[(&#x27;cat&#x27;,\n",
       "                                                  Pipeline(steps=[(&#x27;ohe&#x27;,\n",
       "                                                                   OneHotEncoder())]),\n",
       "                                                  [&#x27;departments&#x27;, &#x27;salary&#x27;]),\n",
       "                                                 (&#x27;num&#x27;,\n",
       "                                                  Pipeline(steps=[(&#x27;pass&#x27;,\n",
       "                                                                   &#x27;passthrough&#x27;)]),\n",
       "                                                  [&#x27;satisfaction_level&#x27;,\n",
       "                                                   &#x27;last_evaluation&#x27;,\n",
       "                                                   &#x27;number_project&#x27;,\n",
       "                                                   &#x27;time_spend_company&#x27;,\n",
       "                                                   &#x27;work_accident&#x27;,\n",
       "                                                   &#x27;promotion_last_5years&#x27;]),\n",
       "                                                 (&#x27;avg_month_hours&#x27;,\n",
       "                                                  Pipeline(steps=[(&#x27;average_montly_hours&#x27;,\n",
       "                                                                   FunctionTransformer(func=&lt;ufunc &#x27;log&#x27;&gt;))]),\n",
       "                                                  [&#x27;average_montly_hours&#x27;])])),\n",
       "                (&#x27;standard_scaler&#x27;, StandardScaler()),\n",
       "                (&#x27;SMOTE&#x27;, SMOTE(random_state=42)),\n",
       "                (&#x27;randomforest_classifier&#x27;, RandomForestClassifier())])</pre></div></div></div><div class=\"sk-serial\"><div class=\"sk-item\"><div class=\"sk-serial\"><div class=\"sk-item sk-dashed-wrapped\"><div class=\"sk-label-container\"><div class=\"sk-label sk-toggleable\"><input class=\"sk-toggleable__control sk-hidden--visually\" id=\"sk-estimator-id-334\" type=\"checkbox\" ><label for=\"sk-estimator-id-334\" class=\"sk-toggleable__label sk-toggleable__label-arrow\">preprocessor: ColumnTransformer</label><div class=\"sk-toggleable__content\"><pre>ColumnTransformer(transformers=[(&#x27;cat&#x27;,\n",
       "                                 Pipeline(steps=[(&#x27;ohe&#x27;, OneHotEncoder())]),\n",
       "                                 [&#x27;departments&#x27;, &#x27;salary&#x27;]),\n",
       "                                (&#x27;num&#x27;,\n",
       "                                 Pipeline(steps=[(&#x27;pass&#x27;, &#x27;passthrough&#x27;)]),\n",
       "                                 [&#x27;satisfaction_level&#x27;, &#x27;last_evaluation&#x27;,\n",
       "                                  &#x27;number_project&#x27;, &#x27;time_spend_company&#x27;,\n",
       "                                  &#x27;work_accident&#x27;, &#x27;promotion_last_5years&#x27;]),\n",
       "                                (&#x27;avg_month_hours&#x27;,\n",
       "                                 Pipeline(steps=[(&#x27;average_montly_hours&#x27;,\n",
       "                                                  FunctionTransformer(func=&lt;ufunc &#x27;log&#x27;&gt;))]),\n",
       "                                 [&#x27;average_montly_hours&#x27;])])</pre></div></div></div><div class=\"sk-parallel\"><div class=\"sk-parallel-item\"><div class=\"sk-item\"><div class=\"sk-label-container\"><div class=\"sk-label sk-toggleable\"><input class=\"sk-toggleable__control sk-hidden--visually\" id=\"sk-estimator-id-335\" type=\"checkbox\" ><label for=\"sk-estimator-id-335\" class=\"sk-toggleable__label sk-toggleable__label-arrow\">cat</label><div class=\"sk-toggleable__content\"><pre>[&#x27;departments&#x27;, &#x27;salary&#x27;]</pre></div></div></div><div class=\"sk-serial\"><div class=\"sk-item\"><div class=\"sk-serial\"><div class=\"sk-item\"><div class=\"sk-estimator sk-toggleable\"><input class=\"sk-toggleable__control sk-hidden--visually\" id=\"sk-estimator-id-336\" type=\"checkbox\" ><label for=\"sk-estimator-id-336\" class=\"sk-toggleable__label sk-toggleable__label-arrow\">OneHotEncoder</label><div class=\"sk-toggleable__content\"><pre>OneHotEncoder()</pre></div></div></div></div></div></div></div></div><div class=\"sk-parallel-item\"><div class=\"sk-item\"><div class=\"sk-label-container\"><div class=\"sk-label sk-toggleable\"><input class=\"sk-toggleable__control sk-hidden--visually\" id=\"sk-estimator-id-337\" type=\"checkbox\" ><label for=\"sk-estimator-id-337\" class=\"sk-toggleable__label sk-toggleable__label-arrow\">num</label><div class=\"sk-toggleable__content\"><pre>[&#x27;satisfaction_level&#x27;, &#x27;last_evaluation&#x27;, &#x27;number_project&#x27;, &#x27;time_spend_company&#x27;, &#x27;work_accident&#x27;, &#x27;promotion_last_5years&#x27;]</pre></div></div></div><div class=\"sk-serial\"><div class=\"sk-item\"><div class=\"sk-serial\"><div class=\"sk-item\"><div class=\"sk-estimator sk-toggleable\"><input class=\"sk-toggleable__control sk-hidden--visually\" id=\"sk-estimator-id-338\" type=\"checkbox\" ><label for=\"sk-estimator-id-338\" class=\"sk-toggleable__label sk-toggleable__label-arrow\">passthrough</label><div class=\"sk-toggleable__content\"><pre>passthrough</pre></div></div></div></div></div></div></div></div><div class=\"sk-parallel-item\"><div class=\"sk-item\"><div class=\"sk-label-container\"><div class=\"sk-label sk-toggleable\"><input class=\"sk-toggleable__control sk-hidden--visually\" id=\"sk-estimator-id-339\" type=\"checkbox\" ><label for=\"sk-estimator-id-339\" class=\"sk-toggleable__label sk-toggleable__label-arrow\">avg_month_hours</label><div class=\"sk-toggleable__content\"><pre>[&#x27;average_montly_hours&#x27;]</pre></div></div></div><div class=\"sk-serial\"><div class=\"sk-item\"><div class=\"sk-serial\"><div class=\"sk-item\"><div class=\"sk-estimator sk-toggleable\"><input class=\"sk-toggleable__control sk-hidden--visually\" id=\"sk-estimator-id-340\" type=\"checkbox\" ><label for=\"sk-estimator-id-340\" class=\"sk-toggleable__label sk-toggleable__label-arrow\">FunctionTransformer</label><div class=\"sk-toggleable__content\"><pre>FunctionTransformer(func=&lt;ufunc &#x27;log&#x27;&gt;)</pre></div></div></div></div></div></div></div></div></div></div><div class=\"sk-item\"><div class=\"sk-estimator sk-toggleable\"><input class=\"sk-toggleable__control sk-hidden--visually\" id=\"sk-estimator-id-341\" type=\"checkbox\" ><label for=\"sk-estimator-id-341\" class=\"sk-toggleable__label sk-toggleable__label-arrow\">StandardScaler</label><div class=\"sk-toggleable__content\"><pre>StandardScaler()</pre></div></div></div><div class=\"sk-item\"><div class=\"sk-estimator sk-toggleable\"><input class=\"sk-toggleable__control sk-hidden--visually\" id=\"sk-estimator-id-342\" type=\"checkbox\" ><label for=\"sk-estimator-id-342\" class=\"sk-toggleable__label sk-toggleable__label-arrow\">SMOTE</label><div class=\"sk-toggleable__content\"><pre>SMOTE(random_state=42)</pre></div></div></div><div class=\"sk-item\"><div class=\"sk-estimator sk-toggleable\"><input class=\"sk-toggleable__control sk-hidden--visually\" id=\"sk-estimator-id-343\" type=\"checkbox\" ><label for=\"sk-estimator-id-343\" class=\"sk-toggleable__label sk-toggleable__label-arrow\">RandomForestClassifier</label><div class=\"sk-toggleable__content\"><pre>RandomForestClassifier()</pre></div></div></div></div></div></div></div></div></div></div></div></div>"
      ],
      "text/plain": [
       "GridSearchCV(cv=StratifiedKFold(n_splits=5, random_state=None, shuffle=False),\n",
       "             estimator=Pipeline(steps=[('preprocessor',\n",
       "                                        ColumnTransformer(transformers=[('cat',\n",
       "                                                                         Pipeline(steps=[('ohe',\n",
       "                                                                                          OneHotEncoder())]),\n",
       "                                                                         ['departments',\n",
       "                                                                          'salary']),\n",
       "                                                                        ('num',\n",
       "                                                                         Pipeline(steps=[('pass',\n",
       "                                                                                          'passthrough')]),\n",
       "                                                                         ['satisfaction_level',\n",
       "                                                                          'last_evaluation',\n",
       "                                                                          'number_project',\n",
       "                                                                          'time_spend_company'...\n",
       "                                                                         ['average_montly_hours'])])),\n",
       "                                       ('standard_scaler', StandardScaler()),\n",
       "                                       ('SMOTE', SMOTE(random_state=42)),\n",
       "                                       ('randomforest_classifier',\n",
       "                                        RandomForestClassifier())]),\n",
       "             n_jobs=-1,\n",
       "             param_grid={'randomforest_classifier__criterion': ['gini',\n",
       "                                                                'entropy'],\n",
       "                         'randomforest_classifier__max_depth': [10, 50, 100],\n",
       "                         'randomforest_classifier__n_estimators': [100, 120,\n",
       "                                                                   150]},\n",
       "             scoring='accuracy')"
      ]
     },
     "execution_count": 248,
     "metadata": {},
     "output_type": "execute_result"
    }
   ],
   "source": [
    "#hypertune the best model -Random Forest\n",
    "pipe = Pipeline(steps=[\n",
    "    ('preprocessor',preprocessor),\n",
    "    ('standard_scaler',StandardScaler()),\n",
    "    ('SMOTE',SMOTE(random_state=42)),\n",
    "    ('randomforest_classifier',RandomForestClassifier())\n",
    "])\n",
    "\n",
    "hyper_parameter = {'randomforest_classifier__n_estimators' : [100,120,150],\n",
    "                   'randomforest_classifier__max_depth': [10,50,100],\n",
    "                   'randomforest_classifier__criterion': ['gini','entropy']\n",
    "                  }\n",
    "skf = StratifiedKFold(n_splits=5) \n",
    "\n",
    "grid_search = GridSearchCV(pipe,hyper_parameter,cv=skf,scoring='accuracy',n_jobs=-1)\n",
    "\n",
    "grid_search.fit(X_train,y_train.values)"
   ]
  },
  {
   "cell_type": "code",
   "execution_count": 239,
   "id": "0126f464",
   "metadata": {},
   "outputs": [
    {
     "data": {
      "text/plain": [
       "{'randomforest_classifier__criterion': 'gini',\n",
       " 'randomforest_classifier__max_depth': 100,\n",
       " 'randomforest_classifier__n_estimators': 150}"
      ]
     },
     "execution_count": 239,
     "metadata": {},
     "output_type": "execute_result"
    }
   ],
   "source": [
    "grid_search.best_params_"
   ]
  },
  {
   "cell_type": "code",
   "execution_count": 240,
   "id": "73d68354",
   "metadata": {},
   "outputs": [
    {
     "data": {
      "text/html": [
       "<style>#sk-container-id-31 {color: black;background-color: white;}#sk-container-id-31 pre{padding: 0;}#sk-container-id-31 div.sk-toggleable {background-color: white;}#sk-container-id-31 label.sk-toggleable__label {cursor: pointer;display: block;width: 100%;margin-bottom: 0;padding: 0.3em;box-sizing: border-box;text-align: center;}#sk-container-id-31 label.sk-toggleable__label-arrow:before {content: \"▸\";float: left;margin-right: 0.25em;color: #696969;}#sk-container-id-31 label.sk-toggleable__label-arrow:hover:before {color: black;}#sk-container-id-31 div.sk-estimator:hover label.sk-toggleable__label-arrow:before {color: black;}#sk-container-id-31 div.sk-toggleable__content {max-height: 0;max-width: 0;overflow: hidden;text-align: left;background-color: #f0f8ff;}#sk-container-id-31 div.sk-toggleable__content pre {margin: 0.2em;color: black;border-radius: 0.25em;background-color: #f0f8ff;}#sk-container-id-31 input.sk-toggleable__control:checked~div.sk-toggleable__content {max-height: 200px;max-width: 100%;overflow: auto;}#sk-container-id-31 input.sk-toggleable__control:checked~label.sk-toggleable__label-arrow:before {content: \"▾\";}#sk-container-id-31 div.sk-estimator input.sk-toggleable__control:checked~label.sk-toggleable__label {background-color: #d4ebff;}#sk-container-id-31 div.sk-label input.sk-toggleable__control:checked~label.sk-toggleable__label {background-color: #d4ebff;}#sk-container-id-31 input.sk-hidden--visually {border: 0;clip: rect(1px 1px 1px 1px);clip: rect(1px, 1px, 1px, 1px);height: 1px;margin: -1px;overflow: hidden;padding: 0;position: absolute;width: 1px;}#sk-container-id-31 div.sk-estimator {font-family: monospace;background-color: #f0f8ff;border: 1px dotted black;border-radius: 0.25em;box-sizing: border-box;margin-bottom: 0.5em;}#sk-container-id-31 div.sk-estimator:hover {background-color: #d4ebff;}#sk-container-id-31 div.sk-parallel-item::after {content: \"\";width: 100%;border-bottom: 1px solid gray;flex-grow: 1;}#sk-container-id-31 div.sk-label:hover label.sk-toggleable__label {background-color: #d4ebff;}#sk-container-id-31 div.sk-serial::before {content: \"\";position: absolute;border-left: 1px solid gray;box-sizing: border-box;top: 0;bottom: 0;left: 50%;z-index: 0;}#sk-container-id-31 div.sk-serial {display: flex;flex-direction: column;align-items: center;background-color: white;padding-right: 0.2em;padding-left: 0.2em;position: relative;}#sk-container-id-31 div.sk-item {position: relative;z-index: 1;}#sk-container-id-31 div.sk-parallel {display: flex;align-items: stretch;justify-content: center;background-color: white;position: relative;}#sk-container-id-31 div.sk-item::before, #sk-container-id-31 div.sk-parallel-item::before {content: \"\";position: absolute;border-left: 1px solid gray;box-sizing: border-box;top: 0;bottom: 0;left: 50%;z-index: -1;}#sk-container-id-31 div.sk-parallel-item {display: flex;flex-direction: column;z-index: 1;position: relative;background-color: white;}#sk-container-id-31 div.sk-parallel-item:first-child::after {align-self: flex-end;width: 50%;}#sk-container-id-31 div.sk-parallel-item:last-child::after {align-self: flex-start;width: 50%;}#sk-container-id-31 div.sk-parallel-item:only-child::after {width: 0;}#sk-container-id-31 div.sk-dashed-wrapped {border: 1px dashed gray;margin: 0 0.4em 0.5em 0.4em;box-sizing: border-box;padding-bottom: 0.4em;background-color: white;}#sk-container-id-31 div.sk-label label {font-family: monospace;font-weight: bold;display: inline-block;line-height: 1.2em;}#sk-container-id-31 div.sk-label-container {text-align: center;}#sk-container-id-31 div.sk-container {/* jupyter's `normalize.less` sets `[hidden] { display: none; }` but bootstrap.min.css set `[hidden] { display: none !important; }` so we also need the `!important` here to be able to override the default hidden behavior on the sphinx rendered scikit-learn.org. See: https://github.com/scikit-learn/scikit-learn/issues/21755 */display: inline-block !important;position: relative;}#sk-container-id-31 div.sk-text-repr-fallback {display: none;}</style><div id=\"sk-container-id-31\" class=\"sk-top-container\"><div class=\"sk-text-repr-fallback\"><pre>Pipeline(steps=[(&#x27;preprocessor&#x27;,\n",
       "                 ColumnTransformer(transformers=[(&#x27;cat&#x27;,\n",
       "                                                  Pipeline(steps=[(&#x27;ohe&#x27;,\n",
       "                                                                   OneHotEncoder())]),\n",
       "                                                  [&#x27;departments&#x27;, &#x27;salary&#x27;]),\n",
       "                                                 (&#x27;num&#x27;,\n",
       "                                                  Pipeline(steps=[(&#x27;pass&#x27;,\n",
       "                                                                   &#x27;passthrough&#x27;)]),\n",
       "                                                  [&#x27;satisfaction_level&#x27;,\n",
       "                                                   &#x27;last_evaluation&#x27;,\n",
       "                                                   &#x27;number_project&#x27;,\n",
       "                                                   &#x27;time_spend_company&#x27;,\n",
       "                                                   &#x27;work_accident&#x27;,\n",
       "                                                   &#x27;promotion_last_5years&#x27;]),\n",
       "                                                 (&#x27;avg_month_hours&#x27;,\n",
       "                                                  Pipeline(steps=[(&#x27;average_montly_hours&#x27;,\n",
       "                                                                   FunctionTransformer(func=&lt;ufunc &#x27;log&#x27;&gt;))]),\n",
       "                                                  [&#x27;average_montly_hours&#x27;])])),\n",
       "                (&#x27;standard_scaler&#x27;, StandardScaler()),\n",
       "                (&#x27;SMOTE&#x27;, SMOTE(random_state=42)),\n",
       "                (&#x27;randomforest_classifier&#x27;,\n",
       "                 RandomForestClassifier(max_depth=100, n_estimators=150))])</pre><b>In a Jupyter environment, please rerun this cell to show the HTML representation or trust the notebook. <br />On GitHub, the HTML representation is unable to render, please try loading this page with nbviewer.org.</b></div><div class=\"sk-container\" hidden><div class=\"sk-item sk-dashed-wrapped\"><div class=\"sk-label-container\"><div class=\"sk-label sk-toggleable\"><input class=\"sk-toggleable__control sk-hidden--visually\" id=\"sk-estimator-id-320\" type=\"checkbox\" ><label for=\"sk-estimator-id-320\" class=\"sk-toggleable__label sk-toggleable__label-arrow\">Pipeline</label><div class=\"sk-toggleable__content\"><pre>Pipeline(steps=[(&#x27;preprocessor&#x27;,\n",
       "                 ColumnTransformer(transformers=[(&#x27;cat&#x27;,\n",
       "                                                  Pipeline(steps=[(&#x27;ohe&#x27;,\n",
       "                                                                   OneHotEncoder())]),\n",
       "                                                  [&#x27;departments&#x27;, &#x27;salary&#x27;]),\n",
       "                                                 (&#x27;num&#x27;,\n",
       "                                                  Pipeline(steps=[(&#x27;pass&#x27;,\n",
       "                                                                   &#x27;passthrough&#x27;)]),\n",
       "                                                  [&#x27;satisfaction_level&#x27;,\n",
       "                                                   &#x27;last_evaluation&#x27;,\n",
       "                                                   &#x27;number_project&#x27;,\n",
       "                                                   &#x27;time_spend_company&#x27;,\n",
       "                                                   &#x27;work_accident&#x27;,\n",
       "                                                   &#x27;promotion_last_5years&#x27;]),\n",
       "                                                 (&#x27;avg_month_hours&#x27;,\n",
       "                                                  Pipeline(steps=[(&#x27;average_montly_hours&#x27;,\n",
       "                                                                   FunctionTransformer(func=&lt;ufunc &#x27;log&#x27;&gt;))]),\n",
       "                                                  [&#x27;average_montly_hours&#x27;])])),\n",
       "                (&#x27;standard_scaler&#x27;, StandardScaler()),\n",
       "                (&#x27;SMOTE&#x27;, SMOTE(random_state=42)),\n",
       "                (&#x27;randomforest_classifier&#x27;,\n",
       "                 RandomForestClassifier(max_depth=100, n_estimators=150))])</pre></div></div></div><div class=\"sk-serial\"><div class=\"sk-item sk-dashed-wrapped\"><div class=\"sk-label-container\"><div class=\"sk-label sk-toggleable\"><input class=\"sk-toggleable__control sk-hidden--visually\" id=\"sk-estimator-id-321\" type=\"checkbox\" ><label for=\"sk-estimator-id-321\" class=\"sk-toggleable__label sk-toggleable__label-arrow\">preprocessor: ColumnTransformer</label><div class=\"sk-toggleable__content\"><pre>ColumnTransformer(transformers=[(&#x27;cat&#x27;,\n",
       "                                 Pipeline(steps=[(&#x27;ohe&#x27;, OneHotEncoder())]),\n",
       "                                 [&#x27;departments&#x27;, &#x27;salary&#x27;]),\n",
       "                                (&#x27;num&#x27;,\n",
       "                                 Pipeline(steps=[(&#x27;pass&#x27;, &#x27;passthrough&#x27;)]),\n",
       "                                 [&#x27;satisfaction_level&#x27;, &#x27;last_evaluation&#x27;,\n",
       "                                  &#x27;number_project&#x27;, &#x27;time_spend_company&#x27;,\n",
       "                                  &#x27;work_accident&#x27;, &#x27;promotion_last_5years&#x27;]),\n",
       "                                (&#x27;avg_month_hours&#x27;,\n",
       "                                 Pipeline(steps=[(&#x27;average_montly_hours&#x27;,\n",
       "                                                  FunctionTransformer(func=&lt;ufunc &#x27;log&#x27;&gt;))]),\n",
       "                                 [&#x27;average_montly_hours&#x27;])])</pre></div></div></div><div class=\"sk-parallel\"><div class=\"sk-parallel-item\"><div class=\"sk-item\"><div class=\"sk-label-container\"><div class=\"sk-label sk-toggleable\"><input class=\"sk-toggleable__control sk-hidden--visually\" id=\"sk-estimator-id-322\" type=\"checkbox\" ><label for=\"sk-estimator-id-322\" class=\"sk-toggleable__label sk-toggleable__label-arrow\">cat</label><div class=\"sk-toggleable__content\"><pre>[&#x27;departments&#x27;, &#x27;salary&#x27;]</pre></div></div></div><div class=\"sk-serial\"><div class=\"sk-item\"><div class=\"sk-serial\"><div class=\"sk-item\"><div class=\"sk-estimator sk-toggleable\"><input class=\"sk-toggleable__control sk-hidden--visually\" id=\"sk-estimator-id-323\" type=\"checkbox\" ><label for=\"sk-estimator-id-323\" class=\"sk-toggleable__label sk-toggleable__label-arrow\">OneHotEncoder</label><div class=\"sk-toggleable__content\"><pre>OneHotEncoder()</pre></div></div></div></div></div></div></div></div><div class=\"sk-parallel-item\"><div class=\"sk-item\"><div class=\"sk-label-container\"><div class=\"sk-label sk-toggleable\"><input class=\"sk-toggleable__control sk-hidden--visually\" id=\"sk-estimator-id-324\" type=\"checkbox\" ><label for=\"sk-estimator-id-324\" class=\"sk-toggleable__label sk-toggleable__label-arrow\">num</label><div class=\"sk-toggleable__content\"><pre>[&#x27;satisfaction_level&#x27;, &#x27;last_evaluation&#x27;, &#x27;number_project&#x27;, &#x27;time_spend_company&#x27;, &#x27;work_accident&#x27;, &#x27;promotion_last_5years&#x27;]</pre></div></div></div><div class=\"sk-serial\"><div class=\"sk-item\"><div class=\"sk-serial\"><div class=\"sk-item\"><div class=\"sk-estimator sk-toggleable\"><input class=\"sk-toggleable__control sk-hidden--visually\" id=\"sk-estimator-id-325\" type=\"checkbox\" ><label for=\"sk-estimator-id-325\" class=\"sk-toggleable__label sk-toggleable__label-arrow\">passthrough</label><div class=\"sk-toggleable__content\"><pre>passthrough</pre></div></div></div></div></div></div></div></div><div class=\"sk-parallel-item\"><div class=\"sk-item\"><div class=\"sk-label-container\"><div class=\"sk-label sk-toggleable\"><input class=\"sk-toggleable__control sk-hidden--visually\" id=\"sk-estimator-id-326\" type=\"checkbox\" ><label for=\"sk-estimator-id-326\" class=\"sk-toggleable__label sk-toggleable__label-arrow\">avg_month_hours</label><div class=\"sk-toggleable__content\"><pre>[&#x27;average_montly_hours&#x27;]</pre></div></div></div><div class=\"sk-serial\"><div class=\"sk-item\"><div class=\"sk-serial\"><div class=\"sk-item\"><div class=\"sk-estimator sk-toggleable\"><input class=\"sk-toggleable__control sk-hidden--visually\" id=\"sk-estimator-id-327\" type=\"checkbox\" ><label for=\"sk-estimator-id-327\" class=\"sk-toggleable__label sk-toggleable__label-arrow\">FunctionTransformer</label><div class=\"sk-toggleable__content\"><pre>FunctionTransformer(func=&lt;ufunc &#x27;log&#x27;&gt;)</pre></div></div></div></div></div></div></div></div></div></div><div class=\"sk-item\"><div class=\"sk-estimator sk-toggleable\"><input class=\"sk-toggleable__control sk-hidden--visually\" id=\"sk-estimator-id-328\" type=\"checkbox\" ><label for=\"sk-estimator-id-328\" class=\"sk-toggleable__label sk-toggleable__label-arrow\">StandardScaler</label><div class=\"sk-toggleable__content\"><pre>StandardScaler()</pre></div></div></div><div class=\"sk-item\"><div class=\"sk-estimator sk-toggleable\"><input class=\"sk-toggleable__control sk-hidden--visually\" id=\"sk-estimator-id-329\" type=\"checkbox\" ><label for=\"sk-estimator-id-329\" class=\"sk-toggleable__label sk-toggleable__label-arrow\">SMOTE</label><div class=\"sk-toggleable__content\"><pre>SMOTE(random_state=42)</pre></div></div></div><div class=\"sk-item\"><div class=\"sk-estimator sk-toggleable\"><input class=\"sk-toggleable__control sk-hidden--visually\" id=\"sk-estimator-id-330\" type=\"checkbox\" ><label for=\"sk-estimator-id-330\" class=\"sk-toggleable__label sk-toggleable__label-arrow\">RandomForestClassifier</label><div class=\"sk-toggleable__content\"><pre>RandomForestClassifier(max_depth=100, n_estimators=150)</pre></div></div></div></div></div></div></div>"
      ],
      "text/plain": [
       "Pipeline(steps=[('preprocessor',\n",
       "                 ColumnTransformer(transformers=[('cat',\n",
       "                                                  Pipeline(steps=[('ohe',\n",
       "                                                                   OneHotEncoder())]),\n",
       "                                                  ['departments', 'salary']),\n",
       "                                                 ('num',\n",
       "                                                  Pipeline(steps=[('pass',\n",
       "                                                                   'passthrough')]),\n",
       "                                                  ['satisfaction_level',\n",
       "                                                   'last_evaluation',\n",
       "                                                   'number_project',\n",
       "                                                   'time_spend_company',\n",
       "                                                   'work_accident',\n",
       "                                                   'promotion_last_5years']),\n",
       "                                                 ('avg_month_hours',\n",
       "                                                  Pipeline(steps=[('average_montly_hours',\n",
       "                                                                   FunctionTransformer(func=<ufunc 'log'>))]),\n",
       "                                                  ['average_montly_hours'])])),\n",
       "                ('standard_scaler', StandardScaler()),\n",
       "                ('SMOTE', SMOTE(random_state=42)),\n",
       "                ('randomforest_classifier',\n",
       "                 RandomForestClassifier(max_depth=100, n_estimators=150))])"
      ]
     },
     "execution_count": 240,
     "metadata": {},
     "output_type": "execute_result"
    }
   ],
   "source": [
    "grid_search.best_estimator_"
   ]
  },
  {
   "cell_type": "code",
   "execution_count": 241,
   "id": "7467bd27",
   "metadata": {},
   "outputs": [
    {
     "data": {
      "text/plain": [
       "0.9798795427536827"
      ]
     },
     "execution_count": 241,
     "metadata": {},
     "output_type": "execute_result"
    }
   ],
   "source": [
    "grid_search.best_score_"
   ]
  },
  {
   "cell_type": "code",
   "execution_count": 268,
   "id": "4abb0f59",
   "metadata": {},
   "outputs": [
    {
     "data": {
      "text/html": [
       "<style>#sk-container-id-43 {color: black;background-color: white;}#sk-container-id-43 pre{padding: 0;}#sk-container-id-43 div.sk-toggleable {background-color: white;}#sk-container-id-43 label.sk-toggleable__label {cursor: pointer;display: block;width: 100%;margin-bottom: 0;padding: 0.3em;box-sizing: border-box;text-align: center;}#sk-container-id-43 label.sk-toggleable__label-arrow:before {content: \"▸\";float: left;margin-right: 0.25em;color: #696969;}#sk-container-id-43 label.sk-toggleable__label-arrow:hover:before {color: black;}#sk-container-id-43 div.sk-estimator:hover label.sk-toggleable__label-arrow:before {color: black;}#sk-container-id-43 div.sk-toggleable__content {max-height: 0;max-width: 0;overflow: hidden;text-align: left;background-color: #f0f8ff;}#sk-container-id-43 div.sk-toggleable__content pre {margin: 0.2em;color: black;border-radius: 0.25em;background-color: #f0f8ff;}#sk-container-id-43 input.sk-toggleable__control:checked~div.sk-toggleable__content {max-height: 200px;max-width: 100%;overflow: auto;}#sk-container-id-43 input.sk-toggleable__control:checked~label.sk-toggleable__label-arrow:before {content: \"▾\";}#sk-container-id-43 div.sk-estimator input.sk-toggleable__control:checked~label.sk-toggleable__label {background-color: #d4ebff;}#sk-container-id-43 div.sk-label input.sk-toggleable__control:checked~label.sk-toggleable__label {background-color: #d4ebff;}#sk-container-id-43 input.sk-hidden--visually {border: 0;clip: rect(1px 1px 1px 1px);clip: rect(1px, 1px, 1px, 1px);height: 1px;margin: -1px;overflow: hidden;padding: 0;position: absolute;width: 1px;}#sk-container-id-43 div.sk-estimator {font-family: monospace;background-color: #f0f8ff;border: 1px dotted black;border-radius: 0.25em;box-sizing: border-box;margin-bottom: 0.5em;}#sk-container-id-43 div.sk-estimator:hover {background-color: #d4ebff;}#sk-container-id-43 div.sk-parallel-item::after {content: \"\";width: 100%;border-bottom: 1px solid gray;flex-grow: 1;}#sk-container-id-43 div.sk-label:hover label.sk-toggleable__label {background-color: #d4ebff;}#sk-container-id-43 div.sk-serial::before {content: \"\";position: absolute;border-left: 1px solid gray;box-sizing: border-box;top: 0;bottom: 0;left: 50%;z-index: 0;}#sk-container-id-43 div.sk-serial {display: flex;flex-direction: column;align-items: center;background-color: white;padding-right: 0.2em;padding-left: 0.2em;position: relative;}#sk-container-id-43 div.sk-item {position: relative;z-index: 1;}#sk-container-id-43 div.sk-parallel {display: flex;align-items: stretch;justify-content: center;background-color: white;position: relative;}#sk-container-id-43 div.sk-item::before, #sk-container-id-43 div.sk-parallel-item::before {content: \"\";position: absolute;border-left: 1px solid gray;box-sizing: border-box;top: 0;bottom: 0;left: 50%;z-index: -1;}#sk-container-id-43 div.sk-parallel-item {display: flex;flex-direction: column;z-index: 1;position: relative;background-color: white;}#sk-container-id-43 div.sk-parallel-item:first-child::after {align-self: flex-end;width: 50%;}#sk-container-id-43 div.sk-parallel-item:last-child::after {align-self: flex-start;width: 50%;}#sk-container-id-43 div.sk-parallel-item:only-child::after {width: 0;}#sk-container-id-43 div.sk-dashed-wrapped {border: 1px dashed gray;margin: 0 0.4em 0.5em 0.4em;box-sizing: border-box;padding-bottom: 0.4em;background-color: white;}#sk-container-id-43 div.sk-label label {font-family: monospace;font-weight: bold;display: inline-block;line-height: 1.2em;}#sk-container-id-43 div.sk-label-container {text-align: center;}#sk-container-id-43 div.sk-container {/* jupyter's `normalize.less` sets `[hidden] { display: none; }` but bootstrap.min.css set `[hidden] { display: none !important; }` so we also need the `!important` here to be able to override the default hidden behavior on the sphinx rendered scikit-learn.org. See: https://github.com/scikit-learn/scikit-learn/issues/21755 */display: inline-block !important;position: relative;}#sk-container-id-43 div.sk-text-repr-fallback {display: none;}</style><div id=\"sk-container-id-43\" class=\"sk-top-container\"><div class=\"sk-text-repr-fallback\"><pre>GridSearchCV(cv=StratifiedKFold(n_splits=5, random_state=None, shuffle=False),\n",
       "             estimator=Pipeline(steps=[(&#x27;preprocessor&#x27;,\n",
       "                                        ColumnTransformer(transformers=[(&#x27;cat&#x27;,\n",
       "                                                                         Pipeline(steps=[(&#x27;ohe&#x27;,\n",
       "                                                                                          OneHotEncoder())]),\n",
       "                                                                         [&#x27;departments&#x27;,\n",
       "                                                                          &#x27;salary&#x27;]),\n",
       "                                                                        (&#x27;num&#x27;,\n",
       "                                                                         Pipeline(steps=[(&#x27;pass&#x27;,\n",
       "                                                                                          &#x27;passthrough&#x27;)]),\n",
       "                                                                         [&#x27;satisfaction_level&#x27;,\n",
       "                                                                          &#x27;last_evaluation&#x27;,\n",
       "                                                                          &#x27;number_project&#x27;,\n",
       "                                                                          &#x27;time_spend_company&#x27;...\n",
       "                                                                                          FunctionTransformer(func=&lt;ufunc &#x27;log&#x27;&gt;))]),\n",
       "                                                                         [&#x27;average_montly_hours&#x27;])])),\n",
       "                                       (&#x27;standard_scaler&#x27;, StandardScaler()),\n",
       "                                       (&#x27;SMOTE&#x27;, SMOTE(random_state=42)),\n",
       "                                       (&#x27;randomforest_classifier&#x27;,\n",
       "                                        RandomForestClassifier())]),\n",
       "             n_jobs=-1,\n",
       "             param_grid={&#x27;randomforest_classifier__criterion&#x27;: [&#x27;gini&#x27;,\n",
       "                                                                &#x27;entropy&#x27;],\n",
       "                         &#x27;randomforest_classifier__max_depth&#x27;: [10, 50, 100],\n",
       "                         &#x27;randomforest_classifier__n_estimators&#x27;: [100, 120,\n",
       "                                                                   150]},\n",
       "             scoring=&#x27;f1&#x27;)</pre><b>In a Jupyter environment, please rerun this cell to show the HTML representation or trust the notebook. <br />On GitHub, the HTML representation is unable to render, please try loading this page with nbviewer.org.</b></div><div class=\"sk-container\" hidden><div class=\"sk-item sk-dashed-wrapped\"><div class=\"sk-label-container\"><div class=\"sk-label sk-toggleable\"><input class=\"sk-toggleable__control sk-hidden--visually\" id=\"sk-estimator-id-447\" type=\"checkbox\" ><label for=\"sk-estimator-id-447\" class=\"sk-toggleable__label sk-toggleable__label-arrow\">GridSearchCV</label><div class=\"sk-toggleable__content\"><pre>GridSearchCV(cv=StratifiedKFold(n_splits=5, random_state=None, shuffle=False),\n",
       "             estimator=Pipeline(steps=[(&#x27;preprocessor&#x27;,\n",
       "                                        ColumnTransformer(transformers=[(&#x27;cat&#x27;,\n",
       "                                                                         Pipeline(steps=[(&#x27;ohe&#x27;,\n",
       "                                                                                          OneHotEncoder())]),\n",
       "                                                                         [&#x27;departments&#x27;,\n",
       "                                                                          &#x27;salary&#x27;]),\n",
       "                                                                        (&#x27;num&#x27;,\n",
       "                                                                         Pipeline(steps=[(&#x27;pass&#x27;,\n",
       "                                                                                          &#x27;passthrough&#x27;)]),\n",
       "                                                                         [&#x27;satisfaction_level&#x27;,\n",
       "                                                                          &#x27;last_evaluation&#x27;,\n",
       "                                                                          &#x27;number_project&#x27;,\n",
       "                                                                          &#x27;time_spend_company&#x27;...\n",
       "                                                                                          FunctionTransformer(func=&lt;ufunc &#x27;log&#x27;&gt;))]),\n",
       "                                                                         [&#x27;average_montly_hours&#x27;])])),\n",
       "                                       (&#x27;standard_scaler&#x27;, StandardScaler()),\n",
       "                                       (&#x27;SMOTE&#x27;, SMOTE(random_state=42)),\n",
       "                                       (&#x27;randomforest_classifier&#x27;,\n",
       "                                        RandomForestClassifier())]),\n",
       "             n_jobs=-1,\n",
       "             param_grid={&#x27;randomforest_classifier__criterion&#x27;: [&#x27;gini&#x27;,\n",
       "                                                                &#x27;entropy&#x27;],\n",
       "                         &#x27;randomforest_classifier__max_depth&#x27;: [10, 50, 100],\n",
       "                         &#x27;randomforest_classifier__n_estimators&#x27;: [100, 120,\n",
       "                                                                   150]},\n",
       "             scoring=&#x27;f1&#x27;)</pre></div></div></div><div class=\"sk-parallel\"><div class=\"sk-parallel-item\"><div class=\"sk-item\"><div class=\"sk-label-container\"><div class=\"sk-label sk-toggleable\"><input class=\"sk-toggleable__control sk-hidden--visually\" id=\"sk-estimator-id-448\" type=\"checkbox\" ><label for=\"sk-estimator-id-448\" class=\"sk-toggleable__label sk-toggleable__label-arrow\">estimator: Pipeline</label><div class=\"sk-toggleable__content\"><pre>Pipeline(steps=[(&#x27;preprocessor&#x27;,\n",
       "                 ColumnTransformer(transformers=[(&#x27;cat&#x27;,\n",
       "                                                  Pipeline(steps=[(&#x27;ohe&#x27;,\n",
       "                                                                   OneHotEncoder())]),\n",
       "                                                  [&#x27;departments&#x27;, &#x27;salary&#x27;]),\n",
       "                                                 (&#x27;num&#x27;,\n",
       "                                                  Pipeline(steps=[(&#x27;pass&#x27;,\n",
       "                                                                   &#x27;passthrough&#x27;)]),\n",
       "                                                  [&#x27;satisfaction_level&#x27;,\n",
       "                                                   &#x27;last_evaluation&#x27;,\n",
       "                                                   &#x27;number_project&#x27;,\n",
       "                                                   &#x27;time_spend_company&#x27;,\n",
       "                                                   &#x27;work_accident&#x27;,\n",
       "                                                   &#x27;promotion_last_5years&#x27;]),\n",
       "                                                 (&#x27;avg_month_hours&#x27;,\n",
       "                                                  Pipeline(steps=[(&#x27;average_montly_hours&#x27;,\n",
       "                                                                   FunctionTransformer(func=&lt;ufunc &#x27;log&#x27;&gt;))]),\n",
       "                                                  [&#x27;average_montly_hours&#x27;])])),\n",
       "                (&#x27;standard_scaler&#x27;, StandardScaler()),\n",
       "                (&#x27;SMOTE&#x27;, SMOTE(random_state=42)),\n",
       "                (&#x27;randomforest_classifier&#x27;, RandomForestClassifier())])</pre></div></div></div><div class=\"sk-serial\"><div class=\"sk-item\"><div class=\"sk-serial\"><div class=\"sk-item sk-dashed-wrapped\"><div class=\"sk-label-container\"><div class=\"sk-label sk-toggleable\"><input class=\"sk-toggleable__control sk-hidden--visually\" id=\"sk-estimator-id-449\" type=\"checkbox\" ><label for=\"sk-estimator-id-449\" class=\"sk-toggleable__label sk-toggleable__label-arrow\">preprocessor: ColumnTransformer</label><div class=\"sk-toggleable__content\"><pre>ColumnTransformer(transformers=[(&#x27;cat&#x27;,\n",
       "                                 Pipeline(steps=[(&#x27;ohe&#x27;, OneHotEncoder())]),\n",
       "                                 [&#x27;departments&#x27;, &#x27;salary&#x27;]),\n",
       "                                (&#x27;num&#x27;,\n",
       "                                 Pipeline(steps=[(&#x27;pass&#x27;, &#x27;passthrough&#x27;)]),\n",
       "                                 [&#x27;satisfaction_level&#x27;, &#x27;last_evaluation&#x27;,\n",
       "                                  &#x27;number_project&#x27;, &#x27;time_spend_company&#x27;,\n",
       "                                  &#x27;work_accident&#x27;, &#x27;promotion_last_5years&#x27;]),\n",
       "                                (&#x27;avg_month_hours&#x27;,\n",
       "                                 Pipeline(steps=[(&#x27;average_montly_hours&#x27;,\n",
       "                                                  FunctionTransformer(func=&lt;ufunc &#x27;log&#x27;&gt;))]),\n",
       "                                 [&#x27;average_montly_hours&#x27;])])</pre></div></div></div><div class=\"sk-parallel\"><div class=\"sk-parallel-item\"><div class=\"sk-item\"><div class=\"sk-label-container\"><div class=\"sk-label sk-toggleable\"><input class=\"sk-toggleable__control sk-hidden--visually\" id=\"sk-estimator-id-450\" type=\"checkbox\" ><label for=\"sk-estimator-id-450\" class=\"sk-toggleable__label sk-toggleable__label-arrow\">cat</label><div class=\"sk-toggleable__content\"><pre>[&#x27;departments&#x27;, &#x27;salary&#x27;]</pre></div></div></div><div class=\"sk-serial\"><div class=\"sk-item\"><div class=\"sk-serial\"><div class=\"sk-item\"><div class=\"sk-estimator sk-toggleable\"><input class=\"sk-toggleable__control sk-hidden--visually\" id=\"sk-estimator-id-451\" type=\"checkbox\" ><label for=\"sk-estimator-id-451\" class=\"sk-toggleable__label sk-toggleable__label-arrow\">OneHotEncoder</label><div class=\"sk-toggleable__content\"><pre>OneHotEncoder()</pre></div></div></div></div></div></div></div></div><div class=\"sk-parallel-item\"><div class=\"sk-item\"><div class=\"sk-label-container\"><div class=\"sk-label sk-toggleable\"><input class=\"sk-toggleable__control sk-hidden--visually\" id=\"sk-estimator-id-452\" type=\"checkbox\" ><label for=\"sk-estimator-id-452\" class=\"sk-toggleable__label sk-toggleable__label-arrow\">num</label><div class=\"sk-toggleable__content\"><pre>[&#x27;satisfaction_level&#x27;, &#x27;last_evaluation&#x27;, &#x27;number_project&#x27;, &#x27;time_spend_company&#x27;, &#x27;work_accident&#x27;, &#x27;promotion_last_5years&#x27;]</pre></div></div></div><div class=\"sk-serial\"><div class=\"sk-item\"><div class=\"sk-serial\"><div class=\"sk-item\"><div class=\"sk-estimator sk-toggleable\"><input class=\"sk-toggleable__control sk-hidden--visually\" id=\"sk-estimator-id-453\" type=\"checkbox\" ><label for=\"sk-estimator-id-453\" class=\"sk-toggleable__label sk-toggleable__label-arrow\">passthrough</label><div class=\"sk-toggleable__content\"><pre>passthrough</pre></div></div></div></div></div></div></div></div><div class=\"sk-parallel-item\"><div class=\"sk-item\"><div class=\"sk-label-container\"><div class=\"sk-label sk-toggleable\"><input class=\"sk-toggleable__control sk-hidden--visually\" id=\"sk-estimator-id-454\" type=\"checkbox\" ><label for=\"sk-estimator-id-454\" class=\"sk-toggleable__label sk-toggleable__label-arrow\">avg_month_hours</label><div class=\"sk-toggleable__content\"><pre>[&#x27;average_montly_hours&#x27;]</pre></div></div></div><div class=\"sk-serial\"><div class=\"sk-item\"><div class=\"sk-serial\"><div class=\"sk-item\"><div class=\"sk-estimator sk-toggleable\"><input class=\"sk-toggleable__control sk-hidden--visually\" id=\"sk-estimator-id-455\" type=\"checkbox\" ><label for=\"sk-estimator-id-455\" class=\"sk-toggleable__label sk-toggleable__label-arrow\">FunctionTransformer</label><div class=\"sk-toggleable__content\"><pre>FunctionTransformer(func=&lt;ufunc &#x27;log&#x27;&gt;)</pre></div></div></div></div></div></div></div></div></div></div><div class=\"sk-item\"><div class=\"sk-estimator sk-toggleable\"><input class=\"sk-toggleable__control sk-hidden--visually\" id=\"sk-estimator-id-456\" type=\"checkbox\" ><label for=\"sk-estimator-id-456\" class=\"sk-toggleable__label sk-toggleable__label-arrow\">StandardScaler</label><div class=\"sk-toggleable__content\"><pre>StandardScaler()</pre></div></div></div><div class=\"sk-item\"><div class=\"sk-estimator sk-toggleable\"><input class=\"sk-toggleable__control sk-hidden--visually\" id=\"sk-estimator-id-457\" type=\"checkbox\" ><label for=\"sk-estimator-id-457\" class=\"sk-toggleable__label sk-toggleable__label-arrow\">SMOTE</label><div class=\"sk-toggleable__content\"><pre>SMOTE(random_state=42)</pre></div></div></div><div class=\"sk-item\"><div class=\"sk-estimator sk-toggleable\"><input class=\"sk-toggleable__control sk-hidden--visually\" id=\"sk-estimator-id-458\" type=\"checkbox\" ><label for=\"sk-estimator-id-458\" class=\"sk-toggleable__label sk-toggleable__label-arrow\">RandomForestClassifier</label><div class=\"sk-toggleable__content\"><pre>RandomForestClassifier()</pre></div></div></div></div></div></div></div></div></div></div></div></div>"
      ],
      "text/plain": [
       "GridSearchCV(cv=StratifiedKFold(n_splits=5, random_state=None, shuffle=False),\n",
       "             estimator=Pipeline(steps=[('preprocessor',\n",
       "                                        ColumnTransformer(transformers=[('cat',\n",
       "                                                                         Pipeline(steps=[('ohe',\n",
       "                                                                                          OneHotEncoder())]),\n",
       "                                                                         ['departments',\n",
       "                                                                          'salary']),\n",
       "                                                                        ('num',\n",
       "                                                                         Pipeline(steps=[('pass',\n",
       "                                                                                          'passthrough')]),\n",
       "                                                                         ['satisfaction_level',\n",
       "                                                                          'last_evaluation',\n",
       "                                                                          'number_project',\n",
       "                                                                          'time_spend_company'...\n",
       "                                                                                          FunctionTransformer(func=<ufunc 'log'>))]),\n",
       "                                                                         ['average_montly_hours'])])),\n",
       "                                       ('standard_scaler', StandardScaler()),\n",
       "                                       ('SMOTE', SMOTE(random_state=42)),\n",
       "                                       ('randomforest_classifier',\n",
       "                                        RandomForestClassifier())]),\n",
       "             n_jobs=-1,\n",
       "             param_grid={'randomforest_classifier__criterion': ['gini',\n",
       "                                                                'entropy'],\n",
       "                         'randomforest_classifier__max_depth': [10, 50, 100],\n",
       "                         'randomforest_classifier__n_estimators': [100, 120,\n",
       "                                                                   150]},\n",
       "             scoring='f1')"
      ]
     },
     "execution_count": 268,
     "metadata": {},
     "output_type": "execute_result"
    }
   ],
   "source": [
    "#hypertune the best model -Random Forest\n",
    "pipe = Pipeline(steps=[\n",
    "    ('preprocessor',preprocessor),\n",
    "    ('standard_scaler',StandardScaler()),\n",
    "    ('SMOTE',SMOTE(random_state=42)),\n",
    "    ('randomforest_classifier',RandomForestClassifier())\n",
    "])\n",
    "\n",
    "hyper_parameter = {'randomforest_classifier__n_estimators' : [100,120,150],\n",
    "                   'randomforest_classifier__max_depth': [10,50,100],\n",
    "                   'randomforest_classifier__criterion': ['gini','entropy']\n",
    "                  }\n",
    "skf = StratifiedKFold(n_splits=5) \n",
    "\n",
    "grid_search = GridSearchCV(pipe,hyper_parameter,cv=skf,scoring='f1',n_jobs=-1)\n",
    "\n",
    "grid_search.fit(X_train,y_train.values)"
   ]
  },
  {
   "cell_type": "code",
   "execution_count": 269,
   "id": "950eede6",
   "metadata": {},
   "outputs": [
    {
     "data": {
      "text/plain": [
       "{'randomforest_classifier__criterion': 'entropy',\n",
       " 'randomforest_classifier__max_depth': 50,\n",
       " 'randomforest_classifier__n_estimators': 120}"
      ]
     },
     "execution_count": 269,
     "metadata": {},
     "output_type": "execute_result"
    }
   ],
   "source": [
    "grid_search.best_params_"
   ]
  },
  {
   "cell_type": "code",
   "execution_count": 270,
   "id": "1c4d316c",
   "metadata": {},
   "outputs": [
    {
     "data": {
      "text/html": [
       "<style>#sk-container-id-44 {color: black;background-color: white;}#sk-container-id-44 pre{padding: 0;}#sk-container-id-44 div.sk-toggleable {background-color: white;}#sk-container-id-44 label.sk-toggleable__label {cursor: pointer;display: block;width: 100%;margin-bottom: 0;padding: 0.3em;box-sizing: border-box;text-align: center;}#sk-container-id-44 label.sk-toggleable__label-arrow:before {content: \"▸\";float: left;margin-right: 0.25em;color: #696969;}#sk-container-id-44 label.sk-toggleable__label-arrow:hover:before {color: black;}#sk-container-id-44 div.sk-estimator:hover label.sk-toggleable__label-arrow:before {color: black;}#sk-container-id-44 div.sk-toggleable__content {max-height: 0;max-width: 0;overflow: hidden;text-align: left;background-color: #f0f8ff;}#sk-container-id-44 div.sk-toggleable__content pre {margin: 0.2em;color: black;border-radius: 0.25em;background-color: #f0f8ff;}#sk-container-id-44 input.sk-toggleable__control:checked~div.sk-toggleable__content {max-height: 200px;max-width: 100%;overflow: auto;}#sk-container-id-44 input.sk-toggleable__control:checked~label.sk-toggleable__label-arrow:before {content: \"▾\";}#sk-container-id-44 div.sk-estimator input.sk-toggleable__control:checked~label.sk-toggleable__label {background-color: #d4ebff;}#sk-container-id-44 div.sk-label input.sk-toggleable__control:checked~label.sk-toggleable__label {background-color: #d4ebff;}#sk-container-id-44 input.sk-hidden--visually {border: 0;clip: rect(1px 1px 1px 1px);clip: rect(1px, 1px, 1px, 1px);height: 1px;margin: -1px;overflow: hidden;padding: 0;position: absolute;width: 1px;}#sk-container-id-44 div.sk-estimator {font-family: monospace;background-color: #f0f8ff;border: 1px dotted black;border-radius: 0.25em;box-sizing: border-box;margin-bottom: 0.5em;}#sk-container-id-44 div.sk-estimator:hover {background-color: #d4ebff;}#sk-container-id-44 div.sk-parallel-item::after {content: \"\";width: 100%;border-bottom: 1px solid gray;flex-grow: 1;}#sk-container-id-44 div.sk-label:hover label.sk-toggleable__label {background-color: #d4ebff;}#sk-container-id-44 div.sk-serial::before {content: \"\";position: absolute;border-left: 1px solid gray;box-sizing: border-box;top: 0;bottom: 0;left: 50%;z-index: 0;}#sk-container-id-44 div.sk-serial {display: flex;flex-direction: column;align-items: center;background-color: white;padding-right: 0.2em;padding-left: 0.2em;position: relative;}#sk-container-id-44 div.sk-item {position: relative;z-index: 1;}#sk-container-id-44 div.sk-parallel {display: flex;align-items: stretch;justify-content: center;background-color: white;position: relative;}#sk-container-id-44 div.sk-item::before, #sk-container-id-44 div.sk-parallel-item::before {content: \"\";position: absolute;border-left: 1px solid gray;box-sizing: border-box;top: 0;bottom: 0;left: 50%;z-index: -1;}#sk-container-id-44 div.sk-parallel-item {display: flex;flex-direction: column;z-index: 1;position: relative;background-color: white;}#sk-container-id-44 div.sk-parallel-item:first-child::after {align-self: flex-end;width: 50%;}#sk-container-id-44 div.sk-parallel-item:last-child::after {align-self: flex-start;width: 50%;}#sk-container-id-44 div.sk-parallel-item:only-child::after {width: 0;}#sk-container-id-44 div.sk-dashed-wrapped {border: 1px dashed gray;margin: 0 0.4em 0.5em 0.4em;box-sizing: border-box;padding-bottom: 0.4em;background-color: white;}#sk-container-id-44 div.sk-label label {font-family: monospace;font-weight: bold;display: inline-block;line-height: 1.2em;}#sk-container-id-44 div.sk-label-container {text-align: center;}#sk-container-id-44 div.sk-container {/* jupyter's `normalize.less` sets `[hidden] { display: none; }` but bootstrap.min.css set `[hidden] { display: none !important; }` so we also need the `!important` here to be able to override the default hidden behavior on the sphinx rendered scikit-learn.org. See: https://github.com/scikit-learn/scikit-learn/issues/21755 */display: inline-block !important;position: relative;}#sk-container-id-44 div.sk-text-repr-fallback {display: none;}</style><div id=\"sk-container-id-44\" class=\"sk-top-container\"><div class=\"sk-text-repr-fallback\"><pre>Pipeline(steps=[(&#x27;preprocessor&#x27;,\n",
       "                 ColumnTransformer(transformers=[(&#x27;cat&#x27;,\n",
       "                                                  Pipeline(steps=[(&#x27;ohe&#x27;,\n",
       "                                                                   OneHotEncoder())]),\n",
       "                                                  [&#x27;departments&#x27;, &#x27;salary&#x27;]),\n",
       "                                                 (&#x27;num&#x27;,\n",
       "                                                  Pipeline(steps=[(&#x27;pass&#x27;,\n",
       "                                                                   &#x27;passthrough&#x27;)]),\n",
       "                                                  [&#x27;satisfaction_level&#x27;,\n",
       "                                                   &#x27;last_evaluation&#x27;,\n",
       "                                                   &#x27;number_project&#x27;,\n",
       "                                                   &#x27;time_spend_company&#x27;,\n",
       "                                                   &#x27;work_accident&#x27;,\n",
       "                                                   &#x27;promotion_last_5years&#x27;]),\n",
       "                                                 (&#x27;avg_month_hours&#x27;,\n",
       "                                                  Pipeline(steps=[(&#x27;average_montly_hours&#x27;,\n",
       "                                                                   FunctionTransformer(func=&lt;ufunc &#x27;log&#x27;&gt;))]),\n",
       "                                                  [&#x27;average_montly_hours&#x27;])])),\n",
       "                (&#x27;standard_scaler&#x27;, StandardScaler()),\n",
       "                (&#x27;SMOTE&#x27;, SMOTE(random_state=42)),\n",
       "                (&#x27;randomforest_classifier&#x27;,\n",
       "                 RandomForestClassifier(criterion=&#x27;entropy&#x27;, max_depth=50,\n",
       "                                        n_estimators=120))])</pre><b>In a Jupyter environment, please rerun this cell to show the HTML representation or trust the notebook. <br />On GitHub, the HTML representation is unable to render, please try loading this page with nbviewer.org.</b></div><div class=\"sk-container\" hidden><div class=\"sk-item sk-dashed-wrapped\"><div class=\"sk-label-container\"><div class=\"sk-label sk-toggleable\"><input class=\"sk-toggleable__control sk-hidden--visually\" id=\"sk-estimator-id-459\" type=\"checkbox\" ><label for=\"sk-estimator-id-459\" class=\"sk-toggleable__label sk-toggleable__label-arrow\">Pipeline</label><div class=\"sk-toggleable__content\"><pre>Pipeline(steps=[(&#x27;preprocessor&#x27;,\n",
       "                 ColumnTransformer(transformers=[(&#x27;cat&#x27;,\n",
       "                                                  Pipeline(steps=[(&#x27;ohe&#x27;,\n",
       "                                                                   OneHotEncoder())]),\n",
       "                                                  [&#x27;departments&#x27;, &#x27;salary&#x27;]),\n",
       "                                                 (&#x27;num&#x27;,\n",
       "                                                  Pipeline(steps=[(&#x27;pass&#x27;,\n",
       "                                                                   &#x27;passthrough&#x27;)]),\n",
       "                                                  [&#x27;satisfaction_level&#x27;,\n",
       "                                                   &#x27;last_evaluation&#x27;,\n",
       "                                                   &#x27;number_project&#x27;,\n",
       "                                                   &#x27;time_spend_company&#x27;,\n",
       "                                                   &#x27;work_accident&#x27;,\n",
       "                                                   &#x27;promotion_last_5years&#x27;]),\n",
       "                                                 (&#x27;avg_month_hours&#x27;,\n",
       "                                                  Pipeline(steps=[(&#x27;average_montly_hours&#x27;,\n",
       "                                                                   FunctionTransformer(func=&lt;ufunc &#x27;log&#x27;&gt;))]),\n",
       "                                                  [&#x27;average_montly_hours&#x27;])])),\n",
       "                (&#x27;standard_scaler&#x27;, StandardScaler()),\n",
       "                (&#x27;SMOTE&#x27;, SMOTE(random_state=42)),\n",
       "                (&#x27;randomforest_classifier&#x27;,\n",
       "                 RandomForestClassifier(criterion=&#x27;entropy&#x27;, max_depth=50,\n",
       "                                        n_estimators=120))])</pre></div></div></div><div class=\"sk-serial\"><div class=\"sk-item sk-dashed-wrapped\"><div class=\"sk-label-container\"><div class=\"sk-label sk-toggleable\"><input class=\"sk-toggleable__control sk-hidden--visually\" id=\"sk-estimator-id-460\" type=\"checkbox\" ><label for=\"sk-estimator-id-460\" class=\"sk-toggleable__label sk-toggleable__label-arrow\">preprocessor: ColumnTransformer</label><div class=\"sk-toggleable__content\"><pre>ColumnTransformer(transformers=[(&#x27;cat&#x27;,\n",
       "                                 Pipeline(steps=[(&#x27;ohe&#x27;, OneHotEncoder())]),\n",
       "                                 [&#x27;departments&#x27;, &#x27;salary&#x27;]),\n",
       "                                (&#x27;num&#x27;,\n",
       "                                 Pipeline(steps=[(&#x27;pass&#x27;, &#x27;passthrough&#x27;)]),\n",
       "                                 [&#x27;satisfaction_level&#x27;, &#x27;last_evaluation&#x27;,\n",
       "                                  &#x27;number_project&#x27;, &#x27;time_spend_company&#x27;,\n",
       "                                  &#x27;work_accident&#x27;, &#x27;promotion_last_5years&#x27;]),\n",
       "                                (&#x27;avg_month_hours&#x27;,\n",
       "                                 Pipeline(steps=[(&#x27;average_montly_hours&#x27;,\n",
       "                                                  FunctionTransformer(func=&lt;ufunc &#x27;log&#x27;&gt;))]),\n",
       "                                 [&#x27;average_montly_hours&#x27;])])</pre></div></div></div><div class=\"sk-parallel\"><div class=\"sk-parallel-item\"><div class=\"sk-item\"><div class=\"sk-label-container\"><div class=\"sk-label sk-toggleable\"><input class=\"sk-toggleable__control sk-hidden--visually\" id=\"sk-estimator-id-461\" type=\"checkbox\" ><label for=\"sk-estimator-id-461\" class=\"sk-toggleable__label sk-toggleable__label-arrow\">cat</label><div class=\"sk-toggleable__content\"><pre>[&#x27;departments&#x27;, &#x27;salary&#x27;]</pre></div></div></div><div class=\"sk-serial\"><div class=\"sk-item\"><div class=\"sk-serial\"><div class=\"sk-item\"><div class=\"sk-estimator sk-toggleable\"><input class=\"sk-toggleable__control sk-hidden--visually\" id=\"sk-estimator-id-462\" type=\"checkbox\" ><label for=\"sk-estimator-id-462\" class=\"sk-toggleable__label sk-toggleable__label-arrow\">OneHotEncoder</label><div class=\"sk-toggleable__content\"><pre>OneHotEncoder()</pre></div></div></div></div></div></div></div></div><div class=\"sk-parallel-item\"><div class=\"sk-item\"><div class=\"sk-label-container\"><div class=\"sk-label sk-toggleable\"><input class=\"sk-toggleable__control sk-hidden--visually\" id=\"sk-estimator-id-463\" type=\"checkbox\" ><label for=\"sk-estimator-id-463\" class=\"sk-toggleable__label sk-toggleable__label-arrow\">num</label><div class=\"sk-toggleable__content\"><pre>[&#x27;satisfaction_level&#x27;, &#x27;last_evaluation&#x27;, &#x27;number_project&#x27;, &#x27;time_spend_company&#x27;, &#x27;work_accident&#x27;, &#x27;promotion_last_5years&#x27;]</pre></div></div></div><div class=\"sk-serial\"><div class=\"sk-item\"><div class=\"sk-serial\"><div class=\"sk-item\"><div class=\"sk-estimator sk-toggleable\"><input class=\"sk-toggleable__control sk-hidden--visually\" id=\"sk-estimator-id-464\" type=\"checkbox\" ><label for=\"sk-estimator-id-464\" class=\"sk-toggleable__label sk-toggleable__label-arrow\">passthrough</label><div class=\"sk-toggleable__content\"><pre>passthrough</pre></div></div></div></div></div></div></div></div><div class=\"sk-parallel-item\"><div class=\"sk-item\"><div class=\"sk-label-container\"><div class=\"sk-label sk-toggleable\"><input class=\"sk-toggleable__control sk-hidden--visually\" id=\"sk-estimator-id-465\" type=\"checkbox\" ><label for=\"sk-estimator-id-465\" class=\"sk-toggleable__label sk-toggleable__label-arrow\">avg_month_hours</label><div class=\"sk-toggleable__content\"><pre>[&#x27;average_montly_hours&#x27;]</pre></div></div></div><div class=\"sk-serial\"><div class=\"sk-item\"><div class=\"sk-serial\"><div class=\"sk-item\"><div class=\"sk-estimator sk-toggleable\"><input class=\"sk-toggleable__control sk-hidden--visually\" id=\"sk-estimator-id-466\" type=\"checkbox\" ><label for=\"sk-estimator-id-466\" class=\"sk-toggleable__label sk-toggleable__label-arrow\">FunctionTransformer</label><div class=\"sk-toggleable__content\"><pre>FunctionTransformer(func=&lt;ufunc &#x27;log&#x27;&gt;)</pre></div></div></div></div></div></div></div></div></div></div><div class=\"sk-item\"><div class=\"sk-estimator sk-toggleable\"><input class=\"sk-toggleable__control sk-hidden--visually\" id=\"sk-estimator-id-467\" type=\"checkbox\" ><label for=\"sk-estimator-id-467\" class=\"sk-toggleable__label sk-toggleable__label-arrow\">StandardScaler</label><div class=\"sk-toggleable__content\"><pre>StandardScaler()</pre></div></div></div><div class=\"sk-item\"><div class=\"sk-estimator sk-toggleable\"><input class=\"sk-toggleable__control sk-hidden--visually\" id=\"sk-estimator-id-468\" type=\"checkbox\" ><label for=\"sk-estimator-id-468\" class=\"sk-toggleable__label sk-toggleable__label-arrow\">SMOTE</label><div class=\"sk-toggleable__content\"><pre>SMOTE(random_state=42)</pre></div></div></div><div class=\"sk-item\"><div class=\"sk-estimator sk-toggleable\"><input class=\"sk-toggleable__control sk-hidden--visually\" id=\"sk-estimator-id-469\" type=\"checkbox\" ><label for=\"sk-estimator-id-469\" class=\"sk-toggleable__label sk-toggleable__label-arrow\">RandomForestClassifier</label><div class=\"sk-toggleable__content\"><pre>RandomForestClassifier(criterion=&#x27;entropy&#x27;, max_depth=50, n_estimators=120)</pre></div></div></div></div></div></div></div>"
      ],
      "text/plain": [
       "Pipeline(steps=[('preprocessor',\n",
       "                 ColumnTransformer(transformers=[('cat',\n",
       "                                                  Pipeline(steps=[('ohe',\n",
       "                                                                   OneHotEncoder())]),\n",
       "                                                  ['departments', 'salary']),\n",
       "                                                 ('num',\n",
       "                                                  Pipeline(steps=[('pass',\n",
       "                                                                   'passthrough')]),\n",
       "                                                  ['satisfaction_level',\n",
       "                                                   'last_evaluation',\n",
       "                                                   'number_project',\n",
       "                                                   'time_spend_company',\n",
       "                                                   'work_accident',\n",
       "                                                   'promotion_last_5years']),\n",
       "                                                 ('avg_month_hours',\n",
       "                                                  Pipeline(steps=[('average_montly_hours',\n",
       "                                                                   FunctionTransformer(func=<ufunc 'log'>))]),\n",
       "                                                  ['average_montly_hours'])])),\n",
       "                ('standard_scaler', StandardScaler()),\n",
       "                ('SMOTE', SMOTE(random_state=42)),\n",
       "                ('randomforest_classifier',\n",
       "                 RandomForestClassifier(criterion='entropy', max_depth=50,\n",
       "                                        n_estimators=120))])"
      ]
     },
     "execution_count": 270,
     "metadata": {},
     "output_type": "execute_result"
    }
   ],
   "source": [
    "grid_search.best_estimator_"
   ]
  },
  {
   "cell_type": "code",
   "execution_count": 271,
   "id": "e551ab43",
   "metadata": {},
   "outputs": [
    {
     "data": {
      "text/plain": [
       "0.9361151046143774"
      ]
     },
     "execution_count": 271,
     "metadata": {},
     "output_type": "execute_result"
    }
   ],
   "source": [
    "grid_search.best_score_"
   ]
  },
  {
   "cell_type": "code",
   "execution_count": null,
   "id": "d8c7542f",
   "metadata": {},
   "outputs": [],
   "source": [
    "#hypertune the best model - (XGBoost)"
   ]
  },
  {
   "cell_type": "code",
   "execution_count": 264,
   "id": "37e1d222",
   "metadata": {},
   "outputs": [
    {
     "data": {
      "text/html": [
       "<style>#sk-container-id-41 {color: black;background-color: white;}#sk-container-id-41 pre{padding: 0;}#sk-container-id-41 div.sk-toggleable {background-color: white;}#sk-container-id-41 label.sk-toggleable__label {cursor: pointer;display: block;width: 100%;margin-bottom: 0;padding: 0.3em;box-sizing: border-box;text-align: center;}#sk-container-id-41 label.sk-toggleable__label-arrow:before {content: \"▸\";float: left;margin-right: 0.25em;color: #696969;}#sk-container-id-41 label.sk-toggleable__label-arrow:hover:before {color: black;}#sk-container-id-41 div.sk-estimator:hover label.sk-toggleable__label-arrow:before {color: black;}#sk-container-id-41 div.sk-toggleable__content {max-height: 0;max-width: 0;overflow: hidden;text-align: left;background-color: #f0f8ff;}#sk-container-id-41 div.sk-toggleable__content pre {margin: 0.2em;color: black;border-radius: 0.25em;background-color: #f0f8ff;}#sk-container-id-41 input.sk-toggleable__control:checked~div.sk-toggleable__content {max-height: 200px;max-width: 100%;overflow: auto;}#sk-container-id-41 input.sk-toggleable__control:checked~label.sk-toggleable__label-arrow:before {content: \"▾\";}#sk-container-id-41 div.sk-estimator input.sk-toggleable__control:checked~label.sk-toggleable__label {background-color: #d4ebff;}#sk-container-id-41 div.sk-label input.sk-toggleable__control:checked~label.sk-toggleable__label {background-color: #d4ebff;}#sk-container-id-41 input.sk-hidden--visually {border: 0;clip: rect(1px 1px 1px 1px);clip: rect(1px, 1px, 1px, 1px);height: 1px;margin: -1px;overflow: hidden;padding: 0;position: absolute;width: 1px;}#sk-container-id-41 div.sk-estimator {font-family: monospace;background-color: #f0f8ff;border: 1px dotted black;border-radius: 0.25em;box-sizing: border-box;margin-bottom: 0.5em;}#sk-container-id-41 div.sk-estimator:hover {background-color: #d4ebff;}#sk-container-id-41 div.sk-parallel-item::after {content: \"\";width: 100%;border-bottom: 1px solid gray;flex-grow: 1;}#sk-container-id-41 div.sk-label:hover label.sk-toggleable__label {background-color: #d4ebff;}#sk-container-id-41 div.sk-serial::before {content: \"\";position: absolute;border-left: 1px solid gray;box-sizing: border-box;top: 0;bottom: 0;left: 50%;z-index: 0;}#sk-container-id-41 div.sk-serial {display: flex;flex-direction: column;align-items: center;background-color: white;padding-right: 0.2em;padding-left: 0.2em;position: relative;}#sk-container-id-41 div.sk-item {position: relative;z-index: 1;}#sk-container-id-41 div.sk-parallel {display: flex;align-items: stretch;justify-content: center;background-color: white;position: relative;}#sk-container-id-41 div.sk-item::before, #sk-container-id-41 div.sk-parallel-item::before {content: \"\";position: absolute;border-left: 1px solid gray;box-sizing: border-box;top: 0;bottom: 0;left: 50%;z-index: -1;}#sk-container-id-41 div.sk-parallel-item {display: flex;flex-direction: column;z-index: 1;position: relative;background-color: white;}#sk-container-id-41 div.sk-parallel-item:first-child::after {align-self: flex-end;width: 50%;}#sk-container-id-41 div.sk-parallel-item:last-child::after {align-self: flex-start;width: 50%;}#sk-container-id-41 div.sk-parallel-item:only-child::after {width: 0;}#sk-container-id-41 div.sk-dashed-wrapped {border: 1px dashed gray;margin: 0 0.4em 0.5em 0.4em;box-sizing: border-box;padding-bottom: 0.4em;background-color: white;}#sk-container-id-41 div.sk-label label {font-family: monospace;font-weight: bold;display: inline-block;line-height: 1.2em;}#sk-container-id-41 div.sk-label-container {text-align: center;}#sk-container-id-41 div.sk-container {/* jupyter's `normalize.less` sets `[hidden] { display: none; }` but bootstrap.min.css set `[hidden] { display: none !important; }` so we also need the `!important` here to be able to override the default hidden behavior on the sphinx rendered scikit-learn.org. See: https://github.com/scikit-learn/scikit-learn/issues/21755 */display: inline-block !important;position: relative;}#sk-container-id-41 div.sk-text-repr-fallback {display: none;}</style><div id=\"sk-container-id-41\" class=\"sk-top-container\"><div class=\"sk-text-repr-fallback\"><pre>GridSearchCV(cv=StratifiedKFold(n_splits=5, random_state=None, shuffle=False),\n",
       "             estimator=Pipeline(steps=[(&#x27;preprocessor&#x27;,\n",
       "                                        ColumnTransformer(transformers=[(&#x27;cat&#x27;,\n",
       "                                                                         Pipeline(steps=[(&#x27;ohe&#x27;,\n",
       "                                                                                          OneHotEncoder())]),\n",
       "                                                                         [&#x27;departments&#x27;,\n",
       "                                                                          &#x27;salary&#x27;]),\n",
       "                                                                        (&#x27;num&#x27;,\n",
       "                                                                         Pipeline(steps=[(&#x27;pass&#x27;,\n",
       "                                                                                          &#x27;passthrough&#x27;)]),\n",
       "                                                                         [&#x27;satisfaction_level&#x27;,\n",
       "                                                                          &#x27;last_evaluation&#x27;,\n",
       "                                                                          &#x27;number_project&#x27;,\n",
       "                                                                          &#x27;time_spend_company&#x27;...\n",
       "                                                      missing=nan,\n",
       "                                                      monotone_constraints=None,\n",
       "                                                      n_estimators=100,\n",
       "                                                      n_jobs=None,\n",
       "                                                      num_parallel_tree=None,\n",
       "                                                      predictor=None,\n",
       "                                                      random_state=None, ...))]),\n",
       "             n_jobs=-1,\n",
       "             param_grid={&#x27;XGBoost_classifier__gamma&#x27;: [0.5, 1, 1.5, 2, 5],\n",
       "                         &#x27;XGBoost_classifier__learning_rate&#x27;: [0.1],\n",
       "                         &#x27;XGBoost_classifier__max_depth&#x27;: [5, 10, 15],\n",
       "                         &#x27;XGBoost_classifier__n_estimators&#x27;: [100, 200, 250]},\n",
       "             scoring=&#x27;accuracy&#x27;)</pre><b>In a Jupyter environment, please rerun this cell to show the HTML representation or trust the notebook. <br />On GitHub, the HTML representation is unable to render, please try loading this page with nbviewer.org.</b></div><div class=\"sk-container\" hidden><div class=\"sk-item sk-dashed-wrapped\"><div class=\"sk-label-container\"><div class=\"sk-label sk-toggleable\"><input class=\"sk-toggleable__control sk-hidden--visually\" id=\"sk-estimator-id-424\" type=\"checkbox\" ><label for=\"sk-estimator-id-424\" class=\"sk-toggleable__label sk-toggleable__label-arrow\">GridSearchCV</label><div class=\"sk-toggleable__content\"><pre>GridSearchCV(cv=StratifiedKFold(n_splits=5, random_state=None, shuffle=False),\n",
       "             estimator=Pipeline(steps=[(&#x27;preprocessor&#x27;,\n",
       "                                        ColumnTransformer(transformers=[(&#x27;cat&#x27;,\n",
       "                                                                         Pipeline(steps=[(&#x27;ohe&#x27;,\n",
       "                                                                                          OneHotEncoder())]),\n",
       "                                                                         [&#x27;departments&#x27;,\n",
       "                                                                          &#x27;salary&#x27;]),\n",
       "                                                                        (&#x27;num&#x27;,\n",
       "                                                                         Pipeline(steps=[(&#x27;pass&#x27;,\n",
       "                                                                                          &#x27;passthrough&#x27;)]),\n",
       "                                                                         [&#x27;satisfaction_level&#x27;,\n",
       "                                                                          &#x27;last_evaluation&#x27;,\n",
       "                                                                          &#x27;number_project&#x27;,\n",
       "                                                                          &#x27;time_spend_company&#x27;...\n",
       "                                                      missing=nan,\n",
       "                                                      monotone_constraints=None,\n",
       "                                                      n_estimators=100,\n",
       "                                                      n_jobs=None,\n",
       "                                                      num_parallel_tree=None,\n",
       "                                                      predictor=None,\n",
       "                                                      random_state=None, ...))]),\n",
       "             n_jobs=-1,\n",
       "             param_grid={&#x27;XGBoost_classifier__gamma&#x27;: [0.5, 1, 1.5, 2, 5],\n",
       "                         &#x27;XGBoost_classifier__learning_rate&#x27;: [0.1],\n",
       "                         &#x27;XGBoost_classifier__max_depth&#x27;: [5, 10, 15],\n",
       "                         &#x27;XGBoost_classifier__n_estimators&#x27;: [100, 200, 250]},\n",
       "             scoring=&#x27;accuracy&#x27;)</pre></div></div></div><div class=\"sk-parallel\"><div class=\"sk-parallel-item\"><div class=\"sk-item\"><div class=\"sk-label-container\"><div class=\"sk-label sk-toggleable\"><input class=\"sk-toggleable__control sk-hidden--visually\" id=\"sk-estimator-id-425\" type=\"checkbox\" ><label for=\"sk-estimator-id-425\" class=\"sk-toggleable__label sk-toggleable__label-arrow\">estimator: Pipeline</label><div class=\"sk-toggleable__content\"><pre>Pipeline(steps=[(&#x27;preprocessor&#x27;,\n",
       "                 ColumnTransformer(transformers=[(&#x27;cat&#x27;,\n",
       "                                                  Pipeline(steps=[(&#x27;ohe&#x27;,\n",
       "                                                                   OneHotEncoder())]),\n",
       "                                                  [&#x27;departments&#x27;, &#x27;salary&#x27;]),\n",
       "                                                 (&#x27;num&#x27;,\n",
       "                                                  Pipeline(steps=[(&#x27;pass&#x27;,\n",
       "                                                                   &#x27;passthrough&#x27;)]),\n",
       "                                                  [&#x27;satisfaction_level&#x27;,\n",
       "                                                   &#x27;last_evaluation&#x27;,\n",
       "                                                   &#x27;number_project&#x27;,\n",
       "                                                   &#x27;time_spend_company&#x27;,\n",
       "                                                   &#x27;work_accident&#x27;,\n",
       "                                                   &#x27;promotion_last_5years&#x27;]),\n",
       "                                                 (&#x27;avg_month_hours&#x27;,\n",
       "                                                  Pipeline(steps=[(&#x27;averag...\n",
       "                               feature_types=None, gamma=None, gpu_id=None,\n",
       "                               grow_policy=None, importance_type=None,\n",
       "                               interaction_constraints=None, learning_rate=None,\n",
       "                               max_bin=None, max_cat_threshold=None,\n",
       "                               max_cat_to_onehot=None, max_delta_step=None,\n",
       "                               max_depth=None, max_leaves=None,\n",
       "                               min_child_weight=None, missing=nan,\n",
       "                               monotone_constraints=None, n_estimators=100,\n",
       "                               n_jobs=None, num_parallel_tree=None,\n",
       "                               predictor=None, random_state=None, ...))])</pre></div></div></div><div class=\"sk-serial\"><div class=\"sk-item\"><div class=\"sk-serial\"><div class=\"sk-item sk-dashed-wrapped\"><div class=\"sk-label-container\"><div class=\"sk-label sk-toggleable\"><input class=\"sk-toggleable__control sk-hidden--visually\" id=\"sk-estimator-id-426\" type=\"checkbox\" ><label for=\"sk-estimator-id-426\" class=\"sk-toggleable__label sk-toggleable__label-arrow\">preprocessor: ColumnTransformer</label><div class=\"sk-toggleable__content\"><pre>ColumnTransformer(transformers=[(&#x27;cat&#x27;,\n",
       "                                 Pipeline(steps=[(&#x27;ohe&#x27;, OneHotEncoder())]),\n",
       "                                 [&#x27;departments&#x27;, &#x27;salary&#x27;]),\n",
       "                                (&#x27;num&#x27;,\n",
       "                                 Pipeline(steps=[(&#x27;pass&#x27;, &#x27;passthrough&#x27;)]),\n",
       "                                 [&#x27;satisfaction_level&#x27;, &#x27;last_evaluation&#x27;,\n",
       "                                  &#x27;number_project&#x27;, &#x27;time_spend_company&#x27;,\n",
       "                                  &#x27;work_accident&#x27;, &#x27;promotion_last_5years&#x27;]),\n",
       "                                (&#x27;avg_month_hours&#x27;,\n",
       "                                 Pipeline(steps=[(&#x27;average_montly_hours&#x27;,\n",
       "                                                  FunctionTransformer(func=&lt;ufunc &#x27;log&#x27;&gt;))]),\n",
       "                                 [&#x27;average_montly_hours&#x27;])])</pre></div></div></div><div class=\"sk-parallel\"><div class=\"sk-parallel-item\"><div class=\"sk-item\"><div class=\"sk-label-container\"><div class=\"sk-label sk-toggleable\"><input class=\"sk-toggleable__control sk-hidden--visually\" id=\"sk-estimator-id-427\" type=\"checkbox\" ><label for=\"sk-estimator-id-427\" class=\"sk-toggleable__label sk-toggleable__label-arrow\">cat</label><div class=\"sk-toggleable__content\"><pre>[&#x27;departments&#x27;, &#x27;salary&#x27;]</pre></div></div></div><div class=\"sk-serial\"><div class=\"sk-item\"><div class=\"sk-serial\"><div class=\"sk-item\"><div class=\"sk-estimator sk-toggleable\"><input class=\"sk-toggleable__control sk-hidden--visually\" id=\"sk-estimator-id-428\" type=\"checkbox\" ><label for=\"sk-estimator-id-428\" class=\"sk-toggleable__label sk-toggleable__label-arrow\">OneHotEncoder</label><div class=\"sk-toggleable__content\"><pre>OneHotEncoder()</pre></div></div></div></div></div></div></div></div><div class=\"sk-parallel-item\"><div class=\"sk-item\"><div class=\"sk-label-container\"><div class=\"sk-label sk-toggleable\"><input class=\"sk-toggleable__control sk-hidden--visually\" id=\"sk-estimator-id-429\" type=\"checkbox\" ><label for=\"sk-estimator-id-429\" class=\"sk-toggleable__label sk-toggleable__label-arrow\">num</label><div class=\"sk-toggleable__content\"><pre>[&#x27;satisfaction_level&#x27;, &#x27;last_evaluation&#x27;, &#x27;number_project&#x27;, &#x27;time_spend_company&#x27;, &#x27;work_accident&#x27;, &#x27;promotion_last_5years&#x27;]</pre></div></div></div><div class=\"sk-serial\"><div class=\"sk-item\"><div class=\"sk-serial\"><div class=\"sk-item\"><div class=\"sk-estimator sk-toggleable\"><input class=\"sk-toggleable__control sk-hidden--visually\" id=\"sk-estimator-id-430\" type=\"checkbox\" ><label for=\"sk-estimator-id-430\" class=\"sk-toggleable__label sk-toggleable__label-arrow\">passthrough</label><div class=\"sk-toggleable__content\"><pre>passthrough</pre></div></div></div></div></div></div></div></div><div class=\"sk-parallel-item\"><div class=\"sk-item\"><div class=\"sk-label-container\"><div class=\"sk-label sk-toggleable\"><input class=\"sk-toggleable__control sk-hidden--visually\" id=\"sk-estimator-id-431\" type=\"checkbox\" ><label for=\"sk-estimator-id-431\" class=\"sk-toggleable__label sk-toggleable__label-arrow\">avg_month_hours</label><div class=\"sk-toggleable__content\"><pre>[&#x27;average_montly_hours&#x27;]</pre></div></div></div><div class=\"sk-serial\"><div class=\"sk-item\"><div class=\"sk-serial\"><div class=\"sk-item\"><div class=\"sk-estimator sk-toggleable\"><input class=\"sk-toggleable__control sk-hidden--visually\" id=\"sk-estimator-id-432\" type=\"checkbox\" ><label for=\"sk-estimator-id-432\" class=\"sk-toggleable__label sk-toggleable__label-arrow\">FunctionTransformer</label><div class=\"sk-toggleable__content\"><pre>FunctionTransformer(func=&lt;ufunc &#x27;log&#x27;&gt;)</pre></div></div></div></div></div></div></div></div></div></div><div class=\"sk-item\"><div class=\"sk-estimator sk-toggleable\"><input class=\"sk-toggleable__control sk-hidden--visually\" id=\"sk-estimator-id-433\" type=\"checkbox\" ><label for=\"sk-estimator-id-433\" class=\"sk-toggleable__label sk-toggleable__label-arrow\">StandardScaler</label><div class=\"sk-toggleable__content\"><pre>StandardScaler()</pre></div></div></div><div class=\"sk-item\"><div class=\"sk-estimator sk-toggleable\"><input class=\"sk-toggleable__control sk-hidden--visually\" id=\"sk-estimator-id-434\" type=\"checkbox\" ><label for=\"sk-estimator-id-434\" class=\"sk-toggleable__label sk-toggleable__label-arrow\">SMOTE</label><div class=\"sk-toggleable__content\"><pre>SMOTE(random_state=42)</pre></div></div></div><div class=\"sk-item\"><div class=\"sk-estimator sk-toggleable\"><input class=\"sk-toggleable__control sk-hidden--visually\" id=\"sk-estimator-id-435\" type=\"checkbox\" ><label for=\"sk-estimator-id-435\" class=\"sk-toggleable__label sk-toggleable__label-arrow\">XGBClassifier</label><div class=\"sk-toggleable__content\"><pre>XGBClassifier(base_score=None, booster=None, callbacks=None,\n",
       "              colsample_bylevel=None, colsample_bynode=None,\n",
       "              colsample_bytree=None, early_stopping_rounds=None,\n",
       "              enable_categorical=False, eval_metric=None, feature_types=None,\n",
       "              gamma=None, gpu_id=None, grow_policy=None, importance_type=None,\n",
       "              interaction_constraints=None, learning_rate=None, max_bin=None,\n",
       "              max_cat_threshold=None, max_cat_to_onehot=None,\n",
       "              max_delta_step=None, max_depth=None, max_leaves=None,\n",
       "              min_child_weight=None, missing=nan, monotone_constraints=None,\n",
       "              n_estimators=100, n_jobs=None, num_parallel_tree=None,\n",
       "              predictor=None, random_state=None, ...)</pre></div></div></div></div></div></div></div></div></div></div></div></div>"
      ],
      "text/plain": [
       "GridSearchCV(cv=StratifiedKFold(n_splits=5, random_state=None, shuffle=False),\n",
       "             estimator=Pipeline(steps=[('preprocessor',\n",
       "                                        ColumnTransformer(transformers=[('cat',\n",
       "                                                                         Pipeline(steps=[('ohe',\n",
       "                                                                                          OneHotEncoder())]),\n",
       "                                                                         ['departments',\n",
       "                                                                          'salary']),\n",
       "                                                                        ('num',\n",
       "                                                                         Pipeline(steps=[('pass',\n",
       "                                                                                          'passthrough')]),\n",
       "                                                                         ['satisfaction_level',\n",
       "                                                                          'last_evaluation',\n",
       "                                                                          'number_project',\n",
       "                                                                          'time_spend_company'...\n",
       "                                                      missing=nan,\n",
       "                                                      monotone_constraints=None,\n",
       "                                                      n_estimators=100,\n",
       "                                                      n_jobs=None,\n",
       "                                                      num_parallel_tree=None,\n",
       "                                                      predictor=None,\n",
       "                                                      random_state=None, ...))]),\n",
       "             n_jobs=-1,\n",
       "             param_grid={'XGBoost_classifier__gamma': [0.5, 1, 1.5, 2, 5],\n",
       "                         'XGBoost_classifier__learning_rate': [0.1],\n",
       "                         'XGBoost_classifier__max_depth': [5, 10, 15],\n",
       "                         'XGBoost_classifier__n_estimators': [100, 200, 250]},\n",
       "             scoring='accuracy')"
      ]
     },
     "execution_count": 264,
     "metadata": {},
     "output_type": "execute_result"
    }
   ],
   "source": [
    "XGBoostPipeline=Pipeline([\n",
    "                     ('preprocessor',preprocessor),\n",
    "                     ('standard_scaler',StandardScaler()),\n",
    "                     ('SMOTE',SMOTE(random_state=42)),\n",
    "                     ('XGBoost_classifier',XGBClassifier())\n",
    "])\n",
    "\n",
    "hyper_parameter = {'XGBoost_classifier__n_estimators' : [100, 200, 250],\n",
    "                   'XGBoost_classifier__max_depth': [5, 10, 15],\n",
    "                   'XGBoost_classifier__learning_rate': [0.1],\n",
    "                   'XGBoost_classifier__gamma': [0.5, 1, 1.5, 2, 5]\n",
    "                  }\n",
    "skf = StratifiedKFold(n_splits=5) \n",
    "\n",
    "grid_search = GridSearchCV(XGBoostPipeline,hyper_parameter,cv=skf,scoring='accuracy',n_jobs=-1)\n",
    "\n",
    "grid_search.fit(X_train,y_train)"
   ]
  },
  {
   "cell_type": "code",
   "execution_count": 265,
   "id": "305c17b1",
   "metadata": {},
   "outputs": [
    {
     "data": {
      "text/plain": [
       "{'XGBoost_classifier__gamma': 1,\n",
       " 'XGBoost_classifier__learning_rate': 0.1,\n",
       " 'XGBoost_classifier__max_depth': 15,\n",
       " 'XGBoost_classifier__n_estimators': 100}"
      ]
     },
     "execution_count": 265,
     "metadata": {},
     "output_type": "execute_result"
    }
   ],
   "source": [
    "grid_search.best_params_"
   ]
  },
  {
   "cell_type": "code",
   "execution_count": 266,
   "id": "ce841455",
   "metadata": {},
   "outputs": [
    {
     "data": {
      "text/html": [
       "<style>#sk-container-id-42 {color: black;background-color: white;}#sk-container-id-42 pre{padding: 0;}#sk-container-id-42 div.sk-toggleable {background-color: white;}#sk-container-id-42 label.sk-toggleable__label {cursor: pointer;display: block;width: 100%;margin-bottom: 0;padding: 0.3em;box-sizing: border-box;text-align: center;}#sk-container-id-42 label.sk-toggleable__label-arrow:before {content: \"▸\";float: left;margin-right: 0.25em;color: #696969;}#sk-container-id-42 label.sk-toggleable__label-arrow:hover:before {color: black;}#sk-container-id-42 div.sk-estimator:hover label.sk-toggleable__label-arrow:before {color: black;}#sk-container-id-42 div.sk-toggleable__content {max-height: 0;max-width: 0;overflow: hidden;text-align: left;background-color: #f0f8ff;}#sk-container-id-42 div.sk-toggleable__content pre {margin: 0.2em;color: black;border-radius: 0.25em;background-color: #f0f8ff;}#sk-container-id-42 input.sk-toggleable__control:checked~div.sk-toggleable__content {max-height: 200px;max-width: 100%;overflow: auto;}#sk-container-id-42 input.sk-toggleable__control:checked~label.sk-toggleable__label-arrow:before {content: \"▾\";}#sk-container-id-42 div.sk-estimator input.sk-toggleable__control:checked~label.sk-toggleable__label {background-color: #d4ebff;}#sk-container-id-42 div.sk-label input.sk-toggleable__control:checked~label.sk-toggleable__label {background-color: #d4ebff;}#sk-container-id-42 input.sk-hidden--visually {border: 0;clip: rect(1px 1px 1px 1px);clip: rect(1px, 1px, 1px, 1px);height: 1px;margin: -1px;overflow: hidden;padding: 0;position: absolute;width: 1px;}#sk-container-id-42 div.sk-estimator {font-family: monospace;background-color: #f0f8ff;border: 1px dotted black;border-radius: 0.25em;box-sizing: border-box;margin-bottom: 0.5em;}#sk-container-id-42 div.sk-estimator:hover {background-color: #d4ebff;}#sk-container-id-42 div.sk-parallel-item::after {content: \"\";width: 100%;border-bottom: 1px solid gray;flex-grow: 1;}#sk-container-id-42 div.sk-label:hover label.sk-toggleable__label {background-color: #d4ebff;}#sk-container-id-42 div.sk-serial::before {content: \"\";position: absolute;border-left: 1px solid gray;box-sizing: border-box;top: 0;bottom: 0;left: 50%;z-index: 0;}#sk-container-id-42 div.sk-serial {display: flex;flex-direction: column;align-items: center;background-color: white;padding-right: 0.2em;padding-left: 0.2em;position: relative;}#sk-container-id-42 div.sk-item {position: relative;z-index: 1;}#sk-container-id-42 div.sk-parallel {display: flex;align-items: stretch;justify-content: center;background-color: white;position: relative;}#sk-container-id-42 div.sk-item::before, #sk-container-id-42 div.sk-parallel-item::before {content: \"\";position: absolute;border-left: 1px solid gray;box-sizing: border-box;top: 0;bottom: 0;left: 50%;z-index: -1;}#sk-container-id-42 div.sk-parallel-item {display: flex;flex-direction: column;z-index: 1;position: relative;background-color: white;}#sk-container-id-42 div.sk-parallel-item:first-child::after {align-self: flex-end;width: 50%;}#sk-container-id-42 div.sk-parallel-item:last-child::after {align-self: flex-start;width: 50%;}#sk-container-id-42 div.sk-parallel-item:only-child::after {width: 0;}#sk-container-id-42 div.sk-dashed-wrapped {border: 1px dashed gray;margin: 0 0.4em 0.5em 0.4em;box-sizing: border-box;padding-bottom: 0.4em;background-color: white;}#sk-container-id-42 div.sk-label label {font-family: monospace;font-weight: bold;display: inline-block;line-height: 1.2em;}#sk-container-id-42 div.sk-label-container {text-align: center;}#sk-container-id-42 div.sk-container {/* jupyter's `normalize.less` sets `[hidden] { display: none; }` but bootstrap.min.css set `[hidden] { display: none !important; }` so we also need the `!important` here to be able to override the default hidden behavior on the sphinx rendered scikit-learn.org. See: https://github.com/scikit-learn/scikit-learn/issues/21755 */display: inline-block !important;position: relative;}#sk-container-id-42 div.sk-text-repr-fallback {display: none;}</style><div id=\"sk-container-id-42\" class=\"sk-top-container\"><div class=\"sk-text-repr-fallback\"><pre>Pipeline(steps=[(&#x27;preprocessor&#x27;,\n",
       "                 ColumnTransformer(transformers=[(&#x27;cat&#x27;,\n",
       "                                                  Pipeline(steps=[(&#x27;ohe&#x27;,\n",
       "                                                                   OneHotEncoder())]),\n",
       "                                                  [&#x27;departments&#x27;, &#x27;salary&#x27;]),\n",
       "                                                 (&#x27;num&#x27;,\n",
       "                                                  Pipeline(steps=[(&#x27;pass&#x27;,\n",
       "                                                                   &#x27;passthrough&#x27;)]),\n",
       "                                                  [&#x27;satisfaction_level&#x27;,\n",
       "                                                   &#x27;last_evaluation&#x27;,\n",
       "                                                   &#x27;number_project&#x27;,\n",
       "                                                   &#x27;time_spend_company&#x27;,\n",
       "                                                   &#x27;work_accident&#x27;,\n",
       "                                                   &#x27;promotion_last_5years&#x27;]),\n",
       "                                                 (&#x27;avg_month_hours&#x27;,\n",
       "                                                  Pipeline(steps=[(&#x27;averag...\n",
       "                               feature_types=None, gamma=1, gpu_id=None,\n",
       "                               grow_policy=None, importance_type=None,\n",
       "                               interaction_constraints=None, learning_rate=0.1,\n",
       "                               max_bin=None, max_cat_threshold=None,\n",
       "                               max_cat_to_onehot=None, max_delta_step=None,\n",
       "                               max_depth=15, max_leaves=None,\n",
       "                               min_child_weight=None, missing=nan,\n",
       "                               monotone_constraints=None, n_estimators=100,\n",
       "                               n_jobs=None, num_parallel_tree=None,\n",
       "                               predictor=None, random_state=None, ...))])</pre><b>In a Jupyter environment, please rerun this cell to show the HTML representation or trust the notebook. <br />On GitHub, the HTML representation is unable to render, please try loading this page with nbviewer.org.</b></div><div class=\"sk-container\" hidden><div class=\"sk-item sk-dashed-wrapped\"><div class=\"sk-label-container\"><div class=\"sk-label sk-toggleable\"><input class=\"sk-toggleable__control sk-hidden--visually\" id=\"sk-estimator-id-436\" type=\"checkbox\" ><label for=\"sk-estimator-id-436\" class=\"sk-toggleable__label sk-toggleable__label-arrow\">Pipeline</label><div class=\"sk-toggleable__content\"><pre>Pipeline(steps=[(&#x27;preprocessor&#x27;,\n",
       "                 ColumnTransformer(transformers=[(&#x27;cat&#x27;,\n",
       "                                                  Pipeline(steps=[(&#x27;ohe&#x27;,\n",
       "                                                                   OneHotEncoder())]),\n",
       "                                                  [&#x27;departments&#x27;, &#x27;salary&#x27;]),\n",
       "                                                 (&#x27;num&#x27;,\n",
       "                                                  Pipeline(steps=[(&#x27;pass&#x27;,\n",
       "                                                                   &#x27;passthrough&#x27;)]),\n",
       "                                                  [&#x27;satisfaction_level&#x27;,\n",
       "                                                   &#x27;last_evaluation&#x27;,\n",
       "                                                   &#x27;number_project&#x27;,\n",
       "                                                   &#x27;time_spend_company&#x27;,\n",
       "                                                   &#x27;work_accident&#x27;,\n",
       "                                                   &#x27;promotion_last_5years&#x27;]),\n",
       "                                                 (&#x27;avg_month_hours&#x27;,\n",
       "                                                  Pipeline(steps=[(&#x27;averag...\n",
       "                               feature_types=None, gamma=1, gpu_id=None,\n",
       "                               grow_policy=None, importance_type=None,\n",
       "                               interaction_constraints=None, learning_rate=0.1,\n",
       "                               max_bin=None, max_cat_threshold=None,\n",
       "                               max_cat_to_onehot=None, max_delta_step=None,\n",
       "                               max_depth=15, max_leaves=None,\n",
       "                               min_child_weight=None, missing=nan,\n",
       "                               monotone_constraints=None, n_estimators=100,\n",
       "                               n_jobs=None, num_parallel_tree=None,\n",
       "                               predictor=None, random_state=None, ...))])</pre></div></div></div><div class=\"sk-serial\"><div class=\"sk-item sk-dashed-wrapped\"><div class=\"sk-label-container\"><div class=\"sk-label sk-toggleable\"><input class=\"sk-toggleable__control sk-hidden--visually\" id=\"sk-estimator-id-437\" type=\"checkbox\" ><label for=\"sk-estimator-id-437\" class=\"sk-toggleable__label sk-toggleable__label-arrow\">preprocessor: ColumnTransformer</label><div class=\"sk-toggleable__content\"><pre>ColumnTransformer(transformers=[(&#x27;cat&#x27;,\n",
       "                                 Pipeline(steps=[(&#x27;ohe&#x27;, OneHotEncoder())]),\n",
       "                                 [&#x27;departments&#x27;, &#x27;salary&#x27;]),\n",
       "                                (&#x27;num&#x27;,\n",
       "                                 Pipeline(steps=[(&#x27;pass&#x27;, &#x27;passthrough&#x27;)]),\n",
       "                                 [&#x27;satisfaction_level&#x27;, &#x27;last_evaluation&#x27;,\n",
       "                                  &#x27;number_project&#x27;, &#x27;time_spend_company&#x27;,\n",
       "                                  &#x27;work_accident&#x27;, &#x27;promotion_last_5years&#x27;]),\n",
       "                                (&#x27;avg_month_hours&#x27;,\n",
       "                                 Pipeline(steps=[(&#x27;average_montly_hours&#x27;,\n",
       "                                                  FunctionTransformer(func=&lt;ufunc &#x27;log&#x27;&gt;))]),\n",
       "                                 [&#x27;average_montly_hours&#x27;])])</pre></div></div></div><div class=\"sk-parallel\"><div class=\"sk-parallel-item\"><div class=\"sk-item\"><div class=\"sk-label-container\"><div class=\"sk-label sk-toggleable\"><input class=\"sk-toggleable__control sk-hidden--visually\" id=\"sk-estimator-id-438\" type=\"checkbox\" ><label for=\"sk-estimator-id-438\" class=\"sk-toggleable__label sk-toggleable__label-arrow\">cat</label><div class=\"sk-toggleable__content\"><pre>[&#x27;departments&#x27;, &#x27;salary&#x27;]</pre></div></div></div><div class=\"sk-serial\"><div class=\"sk-item\"><div class=\"sk-serial\"><div class=\"sk-item\"><div class=\"sk-estimator sk-toggleable\"><input class=\"sk-toggleable__control sk-hidden--visually\" id=\"sk-estimator-id-439\" type=\"checkbox\" ><label for=\"sk-estimator-id-439\" class=\"sk-toggleable__label sk-toggleable__label-arrow\">OneHotEncoder</label><div class=\"sk-toggleable__content\"><pre>OneHotEncoder()</pre></div></div></div></div></div></div></div></div><div class=\"sk-parallel-item\"><div class=\"sk-item\"><div class=\"sk-label-container\"><div class=\"sk-label sk-toggleable\"><input class=\"sk-toggleable__control sk-hidden--visually\" id=\"sk-estimator-id-440\" type=\"checkbox\" ><label for=\"sk-estimator-id-440\" class=\"sk-toggleable__label sk-toggleable__label-arrow\">num</label><div class=\"sk-toggleable__content\"><pre>[&#x27;satisfaction_level&#x27;, &#x27;last_evaluation&#x27;, &#x27;number_project&#x27;, &#x27;time_spend_company&#x27;, &#x27;work_accident&#x27;, &#x27;promotion_last_5years&#x27;]</pre></div></div></div><div class=\"sk-serial\"><div class=\"sk-item\"><div class=\"sk-serial\"><div class=\"sk-item\"><div class=\"sk-estimator sk-toggleable\"><input class=\"sk-toggleable__control sk-hidden--visually\" id=\"sk-estimator-id-441\" type=\"checkbox\" ><label for=\"sk-estimator-id-441\" class=\"sk-toggleable__label sk-toggleable__label-arrow\">passthrough</label><div class=\"sk-toggleable__content\"><pre>passthrough</pre></div></div></div></div></div></div></div></div><div class=\"sk-parallel-item\"><div class=\"sk-item\"><div class=\"sk-label-container\"><div class=\"sk-label sk-toggleable\"><input class=\"sk-toggleable__control sk-hidden--visually\" id=\"sk-estimator-id-442\" type=\"checkbox\" ><label for=\"sk-estimator-id-442\" class=\"sk-toggleable__label sk-toggleable__label-arrow\">avg_month_hours</label><div class=\"sk-toggleable__content\"><pre>[&#x27;average_montly_hours&#x27;]</pre></div></div></div><div class=\"sk-serial\"><div class=\"sk-item\"><div class=\"sk-serial\"><div class=\"sk-item\"><div class=\"sk-estimator sk-toggleable\"><input class=\"sk-toggleable__control sk-hidden--visually\" id=\"sk-estimator-id-443\" type=\"checkbox\" ><label for=\"sk-estimator-id-443\" class=\"sk-toggleable__label sk-toggleable__label-arrow\">FunctionTransformer</label><div class=\"sk-toggleable__content\"><pre>FunctionTransformer(func=&lt;ufunc &#x27;log&#x27;&gt;)</pre></div></div></div></div></div></div></div></div></div></div><div class=\"sk-item\"><div class=\"sk-estimator sk-toggleable\"><input class=\"sk-toggleable__control sk-hidden--visually\" id=\"sk-estimator-id-444\" type=\"checkbox\" ><label for=\"sk-estimator-id-444\" class=\"sk-toggleable__label sk-toggleable__label-arrow\">StandardScaler</label><div class=\"sk-toggleable__content\"><pre>StandardScaler()</pre></div></div></div><div class=\"sk-item\"><div class=\"sk-estimator sk-toggleable\"><input class=\"sk-toggleable__control sk-hidden--visually\" id=\"sk-estimator-id-445\" type=\"checkbox\" ><label for=\"sk-estimator-id-445\" class=\"sk-toggleable__label sk-toggleable__label-arrow\">SMOTE</label><div class=\"sk-toggleable__content\"><pre>SMOTE(random_state=42)</pre></div></div></div><div class=\"sk-item\"><div class=\"sk-estimator sk-toggleable\"><input class=\"sk-toggleable__control sk-hidden--visually\" id=\"sk-estimator-id-446\" type=\"checkbox\" ><label for=\"sk-estimator-id-446\" class=\"sk-toggleable__label sk-toggleable__label-arrow\">XGBClassifier</label><div class=\"sk-toggleable__content\"><pre>XGBClassifier(base_score=None, booster=None, callbacks=None,\n",
       "              colsample_bylevel=None, colsample_bynode=None,\n",
       "              colsample_bytree=None, early_stopping_rounds=None,\n",
       "              enable_categorical=False, eval_metric=None, feature_types=None,\n",
       "              gamma=1, gpu_id=None, grow_policy=None, importance_type=None,\n",
       "              interaction_constraints=None, learning_rate=0.1, max_bin=None,\n",
       "              max_cat_threshold=None, max_cat_to_onehot=None,\n",
       "              max_delta_step=None, max_depth=15, max_leaves=None,\n",
       "              min_child_weight=None, missing=nan, monotone_constraints=None,\n",
       "              n_estimators=100, n_jobs=None, num_parallel_tree=None,\n",
       "              predictor=None, random_state=None, ...)</pre></div></div></div></div></div></div></div>"
      ],
      "text/plain": [
       "Pipeline(steps=[('preprocessor',\n",
       "                 ColumnTransformer(transformers=[('cat',\n",
       "                                                  Pipeline(steps=[('ohe',\n",
       "                                                                   OneHotEncoder())]),\n",
       "                                                  ['departments', 'salary']),\n",
       "                                                 ('num',\n",
       "                                                  Pipeline(steps=[('pass',\n",
       "                                                                   'passthrough')]),\n",
       "                                                  ['satisfaction_level',\n",
       "                                                   'last_evaluation',\n",
       "                                                   'number_project',\n",
       "                                                   'time_spend_company',\n",
       "                                                   'work_accident',\n",
       "                                                   'promotion_last_5years']),\n",
       "                                                 ('avg_month_hours',\n",
       "                                                  Pipeline(steps=[('averag...\n",
       "                               feature_types=None, gamma=1, gpu_id=None,\n",
       "                               grow_policy=None, importance_type=None,\n",
       "                               interaction_constraints=None, learning_rate=0.1,\n",
       "                               max_bin=None, max_cat_threshold=None,\n",
       "                               max_cat_to_onehot=None, max_delta_step=None,\n",
       "                               max_depth=15, max_leaves=None,\n",
       "                               min_child_weight=None, missing=nan,\n",
       "                               monotone_constraints=None, n_estimators=100,\n",
       "                               n_jobs=None, num_parallel_tree=None,\n",
       "                               predictor=None, random_state=None, ...))])"
      ]
     },
     "execution_count": 266,
     "metadata": {},
     "output_type": "execute_result"
    }
   ],
   "source": [
    "grid_search.best_estimator_"
   ]
  },
  {
   "cell_type": "code",
   "execution_count": 267,
   "id": "615fc10a",
   "metadata": {},
   "outputs": [
    {
     "data": {
      "text/plain": [
       "0.9818602841569486"
      ]
     },
     "execution_count": 267,
     "metadata": {},
     "output_type": "execute_result"
    }
   ],
   "source": [
    "grid_search.best_score_"
   ]
  },
  {
   "cell_type": "code",
   "execution_count": 272,
   "id": "3824dd9b",
   "metadata": {},
   "outputs": [
    {
     "data": {
      "text/html": [
       "<style>#sk-container-id-45 {color: black;background-color: white;}#sk-container-id-45 pre{padding: 0;}#sk-container-id-45 div.sk-toggleable {background-color: white;}#sk-container-id-45 label.sk-toggleable__label {cursor: pointer;display: block;width: 100%;margin-bottom: 0;padding: 0.3em;box-sizing: border-box;text-align: center;}#sk-container-id-45 label.sk-toggleable__label-arrow:before {content: \"▸\";float: left;margin-right: 0.25em;color: #696969;}#sk-container-id-45 label.sk-toggleable__label-arrow:hover:before {color: black;}#sk-container-id-45 div.sk-estimator:hover label.sk-toggleable__label-arrow:before {color: black;}#sk-container-id-45 div.sk-toggleable__content {max-height: 0;max-width: 0;overflow: hidden;text-align: left;background-color: #f0f8ff;}#sk-container-id-45 div.sk-toggleable__content pre {margin: 0.2em;color: black;border-radius: 0.25em;background-color: #f0f8ff;}#sk-container-id-45 input.sk-toggleable__control:checked~div.sk-toggleable__content {max-height: 200px;max-width: 100%;overflow: auto;}#sk-container-id-45 input.sk-toggleable__control:checked~label.sk-toggleable__label-arrow:before {content: \"▾\";}#sk-container-id-45 div.sk-estimator input.sk-toggleable__control:checked~label.sk-toggleable__label {background-color: #d4ebff;}#sk-container-id-45 div.sk-label input.sk-toggleable__control:checked~label.sk-toggleable__label {background-color: #d4ebff;}#sk-container-id-45 input.sk-hidden--visually {border: 0;clip: rect(1px 1px 1px 1px);clip: rect(1px, 1px, 1px, 1px);height: 1px;margin: -1px;overflow: hidden;padding: 0;position: absolute;width: 1px;}#sk-container-id-45 div.sk-estimator {font-family: monospace;background-color: #f0f8ff;border: 1px dotted black;border-radius: 0.25em;box-sizing: border-box;margin-bottom: 0.5em;}#sk-container-id-45 div.sk-estimator:hover {background-color: #d4ebff;}#sk-container-id-45 div.sk-parallel-item::after {content: \"\";width: 100%;border-bottom: 1px solid gray;flex-grow: 1;}#sk-container-id-45 div.sk-label:hover label.sk-toggleable__label {background-color: #d4ebff;}#sk-container-id-45 div.sk-serial::before {content: \"\";position: absolute;border-left: 1px solid gray;box-sizing: border-box;top: 0;bottom: 0;left: 50%;z-index: 0;}#sk-container-id-45 div.sk-serial {display: flex;flex-direction: column;align-items: center;background-color: white;padding-right: 0.2em;padding-left: 0.2em;position: relative;}#sk-container-id-45 div.sk-item {position: relative;z-index: 1;}#sk-container-id-45 div.sk-parallel {display: flex;align-items: stretch;justify-content: center;background-color: white;position: relative;}#sk-container-id-45 div.sk-item::before, #sk-container-id-45 div.sk-parallel-item::before {content: \"\";position: absolute;border-left: 1px solid gray;box-sizing: border-box;top: 0;bottom: 0;left: 50%;z-index: -1;}#sk-container-id-45 div.sk-parallel-item {display: flex;flex-direction: column;z-index: 1;position: relative;background-color: white;}#sk-container-id-45 div.sk-parallel-item:first-child::after {align-self: flex-end;width: 50%;}#sk-container-id-45 div.sk-parallel-item:last-child::after {align-self: flex-start;width: 50%;}#sk-container-id-45 div.sk-parallel-item:only-child::after {width: 0;}#sk-container-id-45 div.sk-dashed-wrapped {border: 1px dashed gray;margin: 0 0.4em 0.5em 0.4em;box-sizing: border-box;padding-bottom: 0.4em;background-color: white;}#sk-container-id-45 div.sk-label label {font-family: monospace;font-weight: bold;display: inline-block;line-height: 1.2em;}#sk-container-id-45 div.sk-label-container {text-align: center;}#sk-container-id-45 div.sk-container {/* jupyter's `normalize.less` sets `[hidden] { display: none; }` but bootstrap.min.css set `[hidden] { display: none !important; }` so we also need the `!important` here to be able to override the default hidden behavior on the sphinx rendered scikit-learn.org. See: https://github.com/scikit-learn/scikit-learn/issues/21755 */display: inline-block !important;position: relative;}#sk-container-id-45 div.sk-text-repr-fallback {display: none;}</style><div id=\"sk-container-id-45\" class=\"sk-top-container\"><div class=\"sk-text-repr-fallback\"><pre>GridSearchCV(cv=StratifiedKFold(n_splits=5, random_state=None, shuffle=False),\n",
       "             estimator=Pipeline(steps=[(&#x27;preprocessor&#x27;,\n",
       "                                        ColumnTransformer(transformers=[(&#x27;cat&#x27;,\n",
       "                                                                         Pipeline(steps=[(&#x27;ohe&#x27;,\n",
       "                                                                                          OneHotEncoder())]),\n",
       "                                                                         [&#x27;departments&#x27;,\n",
       "                                                                          &#x27;salary&#x27;]),\n",
       "                                                                        (&#x27;num&#x27;,\n",
       "                                                                         Pipeline(steps=[(&#x27;pass&#x27;,\n",
       "                                                                                          &#x27;passthrough&#x27;)]),\n",
       "                                                                         [&#x27;satisfaction_level&#x27;,\n",
       "                                                                          &#x27;last_evaluation&#x27;,\n",
       "                                                                          &#x27;number_project&#x27;,\n",
       "                                                                          &#x27;time_spend_company&#x27;...\n",
       "                                                      min_child_weight=None,\n",
       "                                                      missing=nan,\n",
       "                                                      monotone_constraints=None,\n",
       "                                                      n_estimators=100,\n",
       "                                                      n_jobs=None,\n",
       "                                                      num_parallel_tree=None,\n",
       "                                                      predictor=None,\n",
       "                                                      random_state=None, ...))]),\n",
       "             n_jobs=-1,\n",
       "             param_grid={&#x27;XGBoost_classifier__gamma&#x27;: [0.5, 1, 1.5, 2, 5],\n",
       "                         &#x27;XGBoost_classifier__learning_rate&#x27;: [0.1],\n",
       "                         &#x27;XGBoost_classifier__max_depth&#x27;: [5, 10, 15],\n",
       "                         &#x27;XGBoost_classifier__n_estimators&#x27;: [100, 200, 250]},\n",
       "             scoring=&#x27;f1&#x27;)</pre><b>In a Jupyter environment, please rerun this cell to show the HTML representation or trust the notebook. <br />On GitHub, the HTML representation is unable to render, please try loading this page with nbviewer.org.</b></div><div class=\"sk-container\" hidden><div class=\"sk-item sk-dashed-wrapped\"><div class=\"sk-label-container\"><div class=\"sk-label sk-toggleable\"><input class=\"sk-toggleable__control sk-hidden--visually\" id=\"sk-estimator-id-470\" type=\"checkbox\" ><label for=\"sk-estimator-id-470\" class=\"sk-toggleable__label sk-toggleable__label-arrow\">GridSearchCV</label><div class=\"sk-toggleable__content\"><pre>GridSearchCV(cv=StratifiedKFold(n_splits=5, random_state=None, shuffle=False),\n",
       "             estimator=Pipeline(steps=[(&#x27;preprocessor&#x27;,\n",
       "                                        ColumnTransformer(transformers=[(&#x27;cat&#x27;,\n",
       "                                                                         Pipeline(steps=[(&#x27;ohe&#x27;,\n",
       "                                                                                          OneHotEncoder())]),\n",
       "                                                                         [&#x27;departments&#x27;,\n",
       "                                                                          &#x27;salary&#x27;]),\n",
       "                                                                        (&#x27;num&#x27;,\n",
       "                                                                         Pipeline(steps=[(&#x27;pass&#x27;,\n",
       "                                                                                          &#x27;passthrough&#x27;)]),\n",
       "                                                                         [&#x27;satisfaction_level&#x27;,\n",
       "                                                                          &#x27;last_evaluation&#x27;,\n",
       "                                                                          &#x27;number_project&#x27;,\n",
       "                                                                          &#x27;time_spend_company&#x27;...\n",
       "                                                      min_child_weight=None,\n",
       "                                                      missing=nan,\n",
       "                                                      monotone_constraints=None,\n",
       "                                                      n_estimators=100,\n",
       "                                                      n_jobs=None,\n",
       "                                                      num_parallel_tree=None,\n",
       "                                                      predictor=None,\n",
       "                                                      random_state=None, ...))]),\n",
       "             n_jobs=-1,\n",
       "             param_grid={&#x27;XGBoost_classifier__gamma&#x27;: [0.5, 1, 1.5, 2, 5],\n",
       "                         &#x27;XGBoost_classifier__learning_rate&#x27;: [0.1],\n",
       "                         &#x27;XGBoost_classifier__max_depth&#x27;: [5, 10, 15],\n",
       "                         &#x27;XGBoost_classifier__n_estimators&#x27;: [100, 200, 250]},\n",
       "             scoring=&#x27;f1&#x27;)</pre></div></div></div><div class=\"sk-parallel\"><div class=\"sk-parallel-item\"><div class=\"sk-item\"><div class=\"sk-label-container\"><div class=\"sk-label sk-toggleable\"><input class=\"sk-toggleable__control sk-hidden--visually\" id=\"sk-estimator-id-471\" type=\"checkbox\" ><label for=\"sk-estimator-id-471\" class=\"sk-toggleable__label sk-toggleable__label-arrow\">estimator: Pipeline</label><div class=\"sk-toggleable__content\"><pre>Pipeline(steps=[(&#x27;preprocessor&#x27;,\n",
       "                 ColumnTransformer(transformers=[(&#x27;cat&#x27;,\n",
       "                                                  Pipeline(steps=[(&#x27;ohe&#x27;,\n",
       "                                                                   OneHotEncoder())]),\n",
       "                                                  [&#x27;departments&#x27;, &#x27;salary&#x27;]),\n",
       "                                                 (&#x27;num&#x27;,\n",
       "                                                  Pipeline(steps=[(&#x27;pass&#x27;,\n",
       "                                                                   &#x27;passthrough&#x27;)]),\n",
       "                                                  [&#x27;satisfaction_level&#x27;,\n",
       "                                                   &#x27;last_evaluation&#x27;,\n",
       "                                                   &#x27;number_project&#x27;,\n",
       "                                                   &#x27;time_spend_company&#x27;,\n",
       "                                                   &#x27;work_accident&#x27;,\n",
       "                                                   &#x27;promotion_last_5years&#x27;]),\n",
       "                                                 (&#x27;avg_month_hours&#x27;,\n",
       "                                                  Pipeline(steps=[(&#x27;averag...\n",
       "                               feature_types=None, gamma=None, gpu_id=None,\n",
       "                               grow_policy=None, importance_type=None,\n",
       "                               interaction_constraints=None, learning_rate=None,\n",
       "                               max_bin=None, max_cat_threshold=None,\n",
       "                               max_cat_to_onehot=None, max_delta_step=None,\n",
       "                               max_depth=None, max_leaves=None,\n",
       "                               min_child_weight=None, missing=nan,\n",
       "                               monotone_constraints=None, n_estimators=100,\n",
       "                               n_jobs=None, num_parallel_tree=None,\n",
       "                               predictor=None, random_state=None, ...))])</pre></div></div></div><div class=\"sk-serial\"><div class=\"sk-item\"><div class=\"sk-serial\"><div class=\"sk-item sk-dashed-wrapped\"><div class=\"sk-label-container\"><div class=\"sk-label sk-toggleable\"><input class=\"sk-toggleable__control sk-hidden--visually\" id=\"sk-estimator-id-472\" type=\"checkbox\" ><label for=\"sk-estimator-id-472\" class=\"sk-toggleable__label sk-toggleable__label-arrow\">preprocessor: ColumnTransformer</label><div class=\"sk-toggleable__content\"><pre>ColumnTransformer(transformers=[(&#x27;cat&#x27;,\n",
       "                                 Pipeline(steps=[(&#x27;ohe&#x27;, OneHotEncoder())]),\n",
       "                                 [&#x27;departments&#x27;, &#x27;salary&#x27;]),\n",
       "                                (&#x27;num&#x27;,\n",
       "                                 Pipeline(steps=[(&#x27;pass&#x27;, &#x27;passthrough&#x27;)]),\n",
       "                                 [&#x27;satisfaction_level&#x27;, &#x27;last_evaluation&#x27;,\n",
       "                                  &#x27;number_project&#x27;, &#x27;time_spend_company&#x27;,\n",
       "                                  &#x27;work_accident&#x27;, &#x27;promotion_last_5years&#x27;]),\n",
       "                                (&#x27;avg_month_hours&#x27;,\n",
       "                                 Pipeline(steps=[(&#x27;average_montly_hours&#x27;,\n",
       "                                                  FunctionTransformer(func=&lt;ufunc &#x27;log&#x27;&gt;))]),\n",
       "                                 [&#x27;average_montly_hours&#x27;])])</pre></div></div></div><div class=\"sk-parallel\"><div class=\"sk-parallel-item\"><div class=\"sk-item\"><div class=\"sk-label-container\"><div class=\"sk-label sk-toggleable\"><input class=\"sk-toggleable__control sk-hidden--visually\" id=\"sk-estimator-id-473\" type=\"checkbox\" ><label for=\"sk-estimator-id-473\" class=\"sk-toggleable__label sk-toggleable__label-arrow\">cat</label><div class=\"sk-toggleable__content\"><pre>[&#x27;departments&#x27;, &#x27;salary&#x27;]</pre></div></div></div><div class=\"sk-serial\"><div class=\"sk-item\"><div class=\"sk-serial\"><div class=\"sk-item\"><div class=\"sk-estimator sk-toggleable\"><input class=\"sk-toggleable__control sk-hidden--visually\" id=\"sk-estimator-id-474\" type=\"checkbox\" ><label for=\"sk-estimator-id-474\" class=\"sk-toggleable__label sk-toggleable__label-arrow\">OneHotEncoder</label><div class=\"sk-toggleable__content\"><pre>OneHotEncoder()</pre></div></div></div></div></div></div></div></div><div class=\"sk-parallel-item\"><div class=\"sk-item\"><div class=\"sk-label-container\"><div class=\"sk-label sk-toggleable\"><input class=\"sk-toggleable__control sk-hidden--visually\" id=\"sk-estimator-id-475\" type=\"checkbox\" ><label for=\"sk-estimator-id-475\" class=\"sk-toggleable__label sk-toggleable__label-arrow\">num</label><div class=\"sk-toggleable__content\"><pre>[&#x27;satisfaction_level&#x27;, &#x27;last_evaluation&#x27;, &#x27;number_project&#x27;, &#x27;time_spend_company&#x27;, &#x27;work_accident&#x27;, &#x27;promotion_last_5years&#x27;]</pre></div></div></div><div class=\"sk-serial\"><div class=\"sk-item\"><div class=\"sk-serial\"><div class=\"sk-item\"><div class=\"sk-estimator sk-toggleable\"><input class=\"sk-toggleable__control sk-hidden--visually\" id=\"sk-estimator-id-476\" type=\"checkbox\" ><label for=\"sk-estimator-id-476\" class=\"sk-toggleable__label sk-toggleable__label-arrow\">passthrough</label><div class=\"sk-toggleable__content\"><pre>passthrough</pre></div></div></div></div></div></div></div></div><div class=\"sk-parallel-item\"><div class=\"sk-item\"><div class=\"sk-label-container\"><div class=\"sk-label sk-toggleable\"><input class=\"sk-toggleable__control sk-hidden--visually\" id=\"sk-estimator-id-477\" type=\"checkbox\" ><label for=\"sk-estimator-id-477\" class=\"sk-toggleable__label sk-toggleable__label-arrow\">avg_month_hours</label><div class=\"sk-toggleable__content\"><pre>[&#x27;average_montly_hours&#x27;]</pre></div></div></div><div class=\"sk-serial\"><div class=\"sk-item\"><div class=\"sk-serial\"><div class=\"sk-item\"><div class=\"sk-estimator sk-toggleable\"><input class=\"sk-toggleable__control sk-hidden--visually\" id=\"sk-estimator-id-478\" type=\"checkbox\" ><label for=\"sk-estimator-id-478\" class=\"sk-toggleable__label sk-toggleable__label-arrow\">FunctionTransformer</label><div class=\"sk-toggleable__content\"><pre>FunctionTransformer(func=&lt;ufunc &#x27;log&#x27;&gt;)</pre></div></div></div></div></div></div></div></div></div></div><div class=\"sk-item\"><div class=\"sk-estimator sk-toggleable\"><input class=\"sk-toggleable__control sk-hidden--visually\" id=\"sk-estimator-id-479\" type=\"checkbox\" ><label for=\"sk-estimator-id-479\" class=\"sk-toggleable__label sk-toggleable__label-arrow\">StandardScaler</label><div class=\"sk-toggleable__content\"><pre>StandardScaler()</pre></div></div></div><div class=\"sk-item\"><div class=\"sk-estimator sk-toggleable\"><input class=\"sk-toggleable__control sk-hidden--visually\" id=\"sk-estimator-id-480\" type=\"checkbox\" ><label for=\"sk-estimator-id-480\" class=\"sk-toggleable__label sk-toggleable__label-arrow\">SMOTE</label><div class=\"sk-toggleable__content\"><pre>SMOTE(random_state=42)</pre></div></div></div><div class=\"sk-item\"><div class=\"sk-estimator sk-toggleable\"><input class=\"sk-toggleable__control sk-hidden--visually\" id=\"sk-estimator-id-481\" type=\"checkbox\" ><label for=\"sk-estimator-id-481\" class=\"sk-toggleable__label sk-toggleable__label-arrow\">XGBClassifier</label><div class=\"sk-toggleable__content\"><pre>XGBClassifier(base_score=None, booster=None, callbacks=None,\n",
       "              colsample_bylevel=None, colsample_bynode=None,\n",
       "              colsample_bytree=None, early_stopping_rounds=None,\n",
       "              enable_categorical=False, eval_metric=None, feature_types=None,\n",
       "              gamma=None, gpu_id=None, grow_policy=None, importance_type=None,\n",
       "              interaction_constraints=None, learning_rate=None, max_bin=None,\n",
       "              max_cat_threshold=None, max_cat_to_onehot=None,\n",
       "              max_delta_step=None, max_depth=None, max_leaves=None,\n",
       "              min_child_weight=None, missing=nan, monotone_constraints=None,\n",
       "              n_estimators=100, n_jobs=None, num_parallel_tree=None,\n",
       "              predictor=None, random_state=None, ...)</pre></div></div></div></div></div></div></div></div></div></div></div></div>"
      ],
      "text/plain": [
       "GridSearchCV(cv=StratifiedKFold(n_splits=5, random_state=None, shuffle=False),\n",
       "             estimator=Pipeline(steps=[('preprocessor',\n",
       "                                        ColumnTransformer(transformers=[('cat',\n",
       "                                                                         Pipeline(steps=[('ohe',\n",
       "                                                                                          OneHotEncoder())]),\n",
       "                                                                         ['departments',\n",
       "                                                                          'salary']),\n",
       "                                                                        ('num',\n",
       "                                                                         Pipeline(steps=[('pass',\n",
       "                                                                                          'passthrough')]),\n",
       "                                                                         ['satisfaction_level',\n",
       "                                                                          'last_evaluation',\n",
       "                                                                          'number_project',\n",
       "                                                                          'time_spend_company'...\n",
       "                                                      min_child_weight=None,\n",
       "                                                      missing=nan,\n",
       "                                                      monotone_constraints=None,\n",
       "                                                      n_estimators=100,\n",
       "                                                      n_jobs=None,\n",
       "                                                      num_parallel_tree=None,\n",
       "                                                      predictor=None,\n",
       "                                                      random_state=None, ...))]),\n",
       "             n_jobs=-1,\n",
       "             param_grid={'XGBoost_classifier__gamma': [0.5, 1, 1.5, 2, 5],\n",
       "                         'XGBoost_classifier__learning_rate': [0.1],\n",
       "                         'XGBoost_classifier__max_depth': [5, 10, 15],\n",
       "                         'XGBoost_classifier__n_estimators': [100, 200, 250]},\n",
       "             scoring='f1')"
      ]
     },
     "execution_count": 272,
     "metadata": {},
     "output_type": "execute_result"
    }
   ],
   "source": [
    "XGBoostPipeline=Pipeline([\n",
    "                     ('preprocessor',preprocessor),\n",
    "                     ('standard_scaler',StandardScaler()),\n",
    "                     ('SMOTE',SMOTE(random_state=42)),\n",
    "                     ('XGBoost_classifier',XGBClassifier())\n",
    "])\n",
    "\n",
    "hyper_parameter = {'XGBoost_classifier__n_estimators' : [100, 200, 250],\n",
    "                   'XGBoost_classifier__max_depth': [5, 10, 15],\n",
    "                   'XGBoost_classifier__learning_rate': [0.1],\n",
    "                   'XGBoost_classifier__gamma': [0.5, 1, 1.5, 2, 5]\n",
    "                  }\n",
    "skf = StratifiedKFold(n_splits=5) \n",
    "\n",
    "grid_search = GridSearchCV(XGBoostPipeline,hyper_parameter,cv=skf,scoring='f1',n_jobs=-1)\n",
    "\n",
    "grid_search.fit(X_train,y_train)"
   ]
  },
  {
   "cell_type": "code",
   "execution_count": 273,
   "id": "89d3ebde",
   "metadata": {},
   "outputs": [
    {
     "data": {
      "text/plain": [
       "{'XGBoost_classifier__gamma': 1,\n",
       " 'XGBoost_classifier__learning_rate': 0.1,\n",
       " 'XGBoost_classifier__max_depth': 15,\n",
       " 'XGBoost_classifier__n_estimators': 100}"
      ]
     },
     "execution_count": 273,
     "metadata": {},
     "output_type": "execute_result"
    }
   ],
   "source": [
    "grid_search.best_params_"
   ]
  },
  {
   "cell_type": "code",
   "execution_count": 274,
   "id": "30b43325",
   "metadata": {},
   "outputs": [
    {
     "data": {
      "text/html": [
       "<style>#sk-container-id-46 {color: black;background-color: white;}#sk-container-id-46 pre{padding: 0;}#sk-container-id-46 div.sk-toggleable {background-color: white;}#sk-container-id-46 label.sk-toggleable__label {cursor: pointer;display: block;width: 100%;margin-bottom: 0;padding: 0.3em;box-sizing: border-box;text-align: center;}#sk-container-id-46 label.sk-toggleable__label-arrow:before {content: \"▸\";float: left;margin-right: 0.25em;color: #696969;}#sk-container-id-46 label.sk-toggleable__label-arrow:hover:before {color: black;}#sk-container-id-46 div.sk-estimator:hover label.sk-toggleable__label-arrow:before {color: black;}#sk-container-id-46 div.sk-toggleable__content {max-height: 0;max-width: 0;overflow: hidden;text-align: left;background-color: #f0f8ff;}#sk-container-id-46 div.sk-toggleable__content pre {margin: 0.2em;color: black;border-radius: 0.25em;background-color: #f0f8ff;}#sk-container-id-46 input.sk-toggleable__control:checked~div.sk-toggleable__content {max-height: 200px;max-width: 100%;overflow: auto;}#sk-container-id-46 input.sk-toggleable__control:checked~label.sk-toggleable__label-arrow:before {content: \"▾\";}#sk-container-id-46 div.sk-estimator input.sk-toggleable__control:checked~label.sk-toggleable__label {background-color: #d4ebff;}#sk-container-id-46 div.sk-label input.sk-toggleable__control:checked~label.sk-toggleable__label {background-color: #d4ebff;}#sk-container-id-46 input.sk-hidden--visually {border: 0;clip: rect(1px 1px 1px 1px);clip: rect(1px, 1px, 1px, 1px);height: 1px;margin: -1px;overflow: hidden;padding: 0;position: absolute;width: 1px;}#sk-container-id-46 div.sk-estimator {font-family: monospace;background-color: #f0f8ff;border: 1px dotted black;border-radius: 0.25em;box-sizing: border-box;margin-bottom: 0.5em;}#sk-container-id-46 div.sk-estimator:hover {background-color: #d4ebff;}#sk-container-id-46 div.sk-parallel-item::after {content: \"\";width: 100%;border-bottom: 1px solid gray;flex-grow: 1;}#sk-container-id-46 div.sk-label:hover label.sk-toggleable__label {background-color: #d4ebff;}#sk-container-id-46 div.sk-serial::before {content: \"\";position: absolute;border-left: 1px solid gray;box-sizing: border-box;top: 0;bottom: 0;left: 50%;z-index: 0;}#sk-container-id-46 div.sk-serial {display: flex;flex-direction: column;align-items: center;background-color: white;padding-right: 0.2em;padding-left: 0.2em;position: relative;}#sk-container-id-46 div.sk-item {position: relative;z-index: 1;}#sk-container-id-46 div.sk-parallel {display: flex;align-items: stretch;justify-content: center;background-color: white;position: relative;}#sk-container-id-46 div.sk-item::before, #sk-container-id-46 div.sk-parallel-item::before {content: \"\";position: absolute;border-left: 1px solid gray;box-sizing: border-box;top: 0;bottom: 0;left: 50%;z-index: -1;}#sk-container-id-46 div.sk-parallel-item {display: flex;flex-direction: column;z-index: 1;position: relative;background-color: white;}#sk-container-id-46 div.sk-parallel-item:first-child::after {align-self: flex-end;width: 50%;}#sk-container-id-46 div.sk-parallel-item:last-child::after {align-self: flex-start;width: 50%;}#sk-container-id-46 div.sk-parallel-item:only-child::after {width: 0;}#sk-container-id-46 div.sk-dashed-wrapped {border: 1px dashed gray;margin: 0 0.4em 0.5em 0.4em;box-sizing: border-box;padding-bottom: 0.4em;background-color: white;}#sk-container-id-46 div.sk-label label {font-family: monospace;font-weight: bold;display: inline-block;line-height: 1.2em;}#sk-container-id-46 div.sk-label-container {text-align: center;}#sk-container-id-46 div.sk-container {/* jupyter's `normalize.less` sets `[hidden] { display: none; }` but bootstrap.min.css set `[hidden] { display: none !important; }` so we also need the `!important` here to be able to override the default hidden behavior on the sphinx rendered scikit-learn.org. See: https://github.com/scikit-learn/scikit-learn/issues/21755 */display: inline-block !important;position: relative;}#sk-container-id-46 div.sk-text-repr-fallback {display: none;}</style><div id=\"sk-container-id-46\" class=\"sk-top-container\"><div class=\"sk-text-repr-fallback\"><pre>Pipeline(steps=[(&#x27;preprocessor&#x27;,\n",
       "                 ColumnTransformer(transformers=[(&#x27;cat&#x27;,\n",
       "                                                  Pipeline(steps=[(&#x27;ohe&#x27;,\n",
       "                                                                   OneHotEncoder())]),\n",
       "                                                  [&#x27;departments&#x27;, &#x27;salary&#x27;]),\n",
       "                                                 (&#x27;num&#x27;,\n",
       "                                                  Pipeline(steps=[(&#x27;pass&#x27;,\n",
       "                                                                   &#x27;passthrough&#x27;)]),\n",
       "                                                  [&#x27;satisfaction_level&#x27;,\n",
       "                                                   &#x27;last_evaluation&#x27;,\n",
       "                                                   &#x27;number_project&#x27;,\n",
       "                                                   &#x27;time_spend_company&#x27;,\n",
       "                                                   &#x27;work_accident&#x27;,\n",
       "                                                   &#x27;promotion_last_5years&#x27;]),\n",
       "                                                 (&#x27;avg_month_hours&#x27;,\n",
       "                                                  Pipeline(steps=[(&#x27;averag...\n",
       "                               feature_types=None, gamma=1, gpu_id=None,\n",
       "                               grow_policy=None, importance_type=None,\n",
       "                               interaction_constraints=None, learning_rate=0.1,\n",
       "                               max_bin=None, max_cat_threshold=None,\n",
       "                               max_cat_to_onehot=None, max_delta_step=None,\n",
       "                               max_depth=15, max_leaves=None,\n",
       "                               min_child_weight=None, missing=nan,\n",
       "                               monotone_constraints=None, n_estimators=100,\n",
       "                               n_jobs=None, num_parallel_tree=None,\n",
       "                               predictor=None, random_state=None, ...))])</pre><b>In a Jupyter environment, please rerun this cell to show the HTML representation or trust the notebook. <br />On GitHub, the HTML representation is unable to render, please try loading this page with nbviewer.org.</b></div><div class=\"sk-container\" hidden><div class=\"sk-item sk-dashed-wrapped\"><div class=\"sk-label-container\"><div class=\"sk-label sk-toggleable\"><input class=\"sk-toggleable__control sk-hidden--visually\" id=\"sk-estimator-id-482\" type=\"checkbox\" ><label for=\"sk-estimator-id-482\" class=\"sk-toggleable__label sk-toggleable__label-arrow\">Pipeline</label><div class=\"sk-toggleable__content\"><pre>Pipeline(steps=[(&#x27;preprocessor&#x27;,\n",
       "                 ColumnTransformer(transformers=[(&#x27;cat&#x27;,\n",
       "                                                  Pipeline(steps=[(&#x27;ohe&#x27;,\n",
       "                                                                   OneHotEncoder())]),\n",
       "                                                  [&#x27;departments&#x27;, &#x27;salary&#x27;]),\n",
       "                                                 (&#x27;num&#x27;,\n",
       "                                                  Pipeline(steps=[(&#x27;pass&#x27;,\n",
       "                                                                   &#x27;passthrough&#x27;)]),\n",
       "                                                  [&#x27;satisfaction_level&#x27;,\n",
       "                                                   &#x27;last_evaluation&#x27;,\n",
       "                                                   &#x27;number_project&#x27;,\n",
       "                                                   &#x27;time_spend_company&#x27;,\n",
       "                                                   &#x27;work_accident&#x27;,\n",
       "                                                   &#x27;promotion_last_5years&#x27;]),\n",
       "                                                 (&#x27;avg_month_hours&#x27;,\n",
       "                                                  Pipeline(steps=[(&#x27;averag...\n",
       "                               feature_types=None, gamma=1, gpu_id=None,\n",
       "                               grow_policy=None, importance_type=None,\n",
       "                               interaction_constraints=None, learning_rate=0.1,\n",
       "                               max_bin=None, max_cat_threshold=None,\n",
       "                               max_cat_to_onehot=None, max_delta_step=None,\n",
       "                               max_depth=15, max_leaves=None,\n",
       "                               min_child_weight=None, missing=nan,\n",
       "                               monotone_constraints=None, n_estimators=100,\n",
       "                               n_jobs=None, num_parallel_tree=None,\n",
       "                               predictor=None, random_state=None, ...))])</pre></div></div></div><div class=\"sk-serial\"><div class=\"sk-item sk-dashed-wrapped\"><div class=\"sk-label-container\"><div class=\"sk-label sk-toggleable\"><input class=\"sk-toggleable__control sk-hidden--visually\" id=\"sk-estimator-id-483\" type=\"checkbox\" ><label for=\"sk-estimator-id-483\" class=\"sk-toggleable__label sk-toggleable__label-arrow\">preprocessor: ColumnTransformer</label><div class=\"sk-toggleable__content\"><pre>ColumnTransformer(transformers=[(&#x27;cat&#x27;,\n",
       "                                 Pipeline(steps=[(&#x27;ohe&#x27;, OneHotEncoder())]),\n",
       "                                 [&#x27;departments&#x27;, &#x27;salary&#x27;]),\n",
       "                                (&#x27;num&#x27;,\n",
       "                                 Pipeline(steps=[(&#x27;pass&#x27;, &#x27;passthrough&#x27;)]),\n",
       "                                 [&#x27;satisfaction_level&#x27;, &#x27;last_evaluation&#x27;,\n",
       "                                  &#x27;number_project&#x27;, &#x27;time_spend_company&#x27;,\n",
       "                                  &#x27;work_accident&#x27;, &#x27;promotion_last_5years&#x27;]),\n",
       "                                (&#x27;avg_month_hours&#x27;,\n",
       "                                 Pipeline(steps=[(&#x27;average_montly_hours&#x27;,\n",
       "                                                  FunctionTransformer(func=&lt;ufunc &#x27;log&#x27;&gt;))]),\n",
       "                                 [&#x27;average_montly_hours&#x27;])])</pre></div></div></div><div class=\"sk-parallel\"><div class=\"sk-parallel-item\"><div class=\"sk-item\"><div class=\"sk-label-container\"><div class=\"sk-label sk-toggleable\"><input class=\"sk-toggleable__control sk-hidden--visually\" id=\"sk-estimator-id-484\" type=\"checkbox\" ><label for=\"sk-estimator-id-484\" class=\"sk-toggleable__label sk-toggleable__label-arrow\">cat</label><div class=\"sk-toggleable__content\"><pre>[&#x27;departments&#x27;, &#x27;salary&#x27;]</pre></div></div></div><div class=\"sk-serial\"><div class=\"sk-item\"><div class=\"sk-serial\"><div class=\"sk-item\"><div class=\"sk-estimator sk-toggleable\"><input class=\"sk-toggleable__control sk-hidden--visually\" id=\"sk-estimator-id-485\" type=\"checkbox\" ><label for=\"sk-estimator-id-485\" class=\"sk-toggleable__label sk-toggleable__label-arrow\">OneHotEncoder</label><div class=\"sk-toggleable__content\"><pre>OneHotEncoder()</pre></div></div></div></div></div></div></div></div><div class=\"sk-parallel-item\"><div class=\"sk-item\"><div class=\"sk-label-container\"><div class=\"sk-label sk-toggleable\"><input class=\"sk-toggleable__control sk-hidden--visually\" id=\"sk-estimator-id-486\" type=\"checkbox\" ><label for=\"sk-estimator-id-486\" class=\"sk-toggleable__label sk-toggleable__label-arrow\">num</label><div class=\"sk-toggleable__content\"><pre>[&#x27;satisfaction_level&#x27;, &#x27;last_evaluation&#x27;, &#x27;number_project&#x27;, &#x27;time_spend_company&#x27;, &#x27;work_accident&#x27;, &#x27;promotion_last_5years&#x27;]</pre></div></div></div><div class=\"sk-serial\"><div class=\"sk-item\"><div class=\"sk-serial\"><div class=\"sk-item\"><div class=\"sk-estimator sk-toggleable\"><input class=\"sk-toggleable__control sk-hidden--visually\" id=\"sk-estimator-id-487\" type=\"checkbox\" ><label for=\"sk-estimator-id-487\" class=\"sk-toggleable__label sk-toggleable__label-arrow\">passthrough</label><div class=\"sk-toggleable__content\"><pre>passthrough</pre></div></div></div></div></div></div></div></div><div class=\"sk-parallel-item\"><div class=\"sk-item\"><div class=\"sk-label-container\"><div class=\"sk-label sk-toggleable\"><input class=\"sk-toggleable__control sk-hidden--visually\" id=\"sk-estimator-id-488\" type=\"checkbox\" ><label for=\"sk-estimator-id-488\" class=\"sk-toggleable__label sk-toggleable__label-arrow\">avg_month_hours</label><div class=\"sk-toggleable__content\"><pre>[&#x27;average_montly_hours&#x27;]</pre></div></div></div><div class=\"sk-serial\"><div class=\"sk-item\"><div class=\"sk-serial\"><div class=\"sk-item\"><div class=\"sk-estimator sk-toggleable\"><input class=\"sk-toggleable__control sk-hidden--visually\" id=\"sk-estimator-id-489\" type=\"checkbox\" ><label for=\"sk-estimator-id-489\" class=\"sk-toggleable__label sk-toggleable__label-arrow\">FunctionTransformer</label><div class=\"sk-toggleable__content\"><pre>FunctionTransformer(func=&lt;ufunc &#x27;log&#x27;&gt;)</pre></div></div></div></div></div></div></div></div></div></div><div class=\"sk-item\"><div class=\"sk-estimator sk-toggleable\"><input class=\"sk-toggleable__control sk-hidden--visually\" id=\"sk-estimator-id-490\" type=\"checkbox\" ><label for=\"sk-estimator-id-490\" class=\"sk-toggleable__label sk-toggleable__label-arrow\">StandardScaler</label><div class=\"sk-toggleable__content\"><pre>StandardScaler()</pre></div></div></div><div class=\"sk-item\"><div class=\"sk-estimator sk-toggleable\"><input class=\"sk-toggleable__control sk-hidden--visually\" id=\"sk-estimator-id-491\" type=\"checkbox\" ><label for=\"sk-estimator-id-491\" class=\"sk-toggleable__label sk-toggleable__label-arrow\">SMOTE</label><div class=\"sk-toggleable__content\"><pre>SMOTE(random_state=42)</pre></div></div></div><div class=\"sk-item\"><div class=\"sk-estimator sk-toggleable\"><input class=\"sk-toggleable__control sk-hidden--visually\" id=\"sk-estimator-id-492\" type=\"checkbox\" ><label for=\"sk-estimator-id-492\" class=\"sk-toggleable__label sk-toggleable__label-arrow\">XGBClassifier</label><div class=\"sk-toggleable__content\"><pre>XGBClassifier(base_score=None, booster=None, callbacks=None,\n",
       "              colsample_bylevel=None, colsample_bynode=None,\n",
       "              colsample_bytree=None, early_stopping_rounds=None,\n",
       "              enable_categorical=False, eval_metric=None, feature_types=None,\n",
       "              gamma=1, gpu_id=None, grow_policy=None, importance_type=None,\n",
       "              interaction_constraints=None, learning_rate=0.1, max_bin=None,\n",
       "              max_cat_threshold=None, max_cat_to_onehot=None,\n",
       "              max_delta_step=None, max_depth=15, max_leaves=None,\n",
       "              min_child_weight=None, missing=nan, monotone_constraints=None,\n",
       "              n_estimators=100, n_jobs=None, num_parallel_tree=None,\n",
       "              predictor=None, random_state=None, ...)</pre></div></div></div></div></div></div></div>"
      ],
      "text/plain": [
       "Pipeline(steps=[('preprocessor',\n",
       "                 ColumnTransformer(transformers=[('cat',\n",
       "                                                  Pipeline(steps=[('ohe',\n",
       "                                                                   OneHotEncoder())]),\n",
       "                                                  ['departments', 'salary']),\n",
       "                                                 ('num',\n",
       "                                                  Pipeline(steps=[('pass',\n",
       "                                                                   'passthrough')]),\n",
       "                                                  ['satisfaction_level',\n",
       "                                                   'last_evaluation',\n",
       "                                                   'number_project',\n",
       "                                                   'time_spend_company',\n",
       "                                                   'work_accident',\n",
       "                                                   'promotion_last_5years']),\n",
       "                                                 ('avg_month_hours',\n",
       "                                                  Pipeline(steps=[('averag...\n",
       "                               feature_types=None, gamma=1, gpu_id=None,\n",
       "                               grow_policy=None, importance_type=None,\n",
       "                               interaction_constraints=None, learning_rate=0.1,\n",
       "                               max_bin=None, max_cat_threshold=None,\n",
       "                               max_cat_to_onehot=None, max_delta_step=None,\n",
       "                               max_depth=15, max_leaves=None,\n",
       "                               min_child_weight=None, missing=nan,\n",
       "                               monotone_constraints=None, n_estimators=100,\n",
       "                               n_jobs=None, num_parallel_tree=None,\n",
       "                               predictor=None, random_state=None, ...))])"
      ]
     },
     "execution_count": 274,
     "metadata": {},
     "output_type": "execute_result"
    }
   ],
   "source": [
    "grid_search.best_estimator_"
   ]
  },
  {
   "cell_type": "code",
   "execution_count": 275,
   "id": "128e68c6",
   "metadata": {},
   "outputs": [
    {
     "data": {
      "text/plain": [
       "0.9440933494090322"
      ]
     },
     "execution_count": 275,
     "metadata": {},
     "output_type": "execute_result"
    }
   ],
   "source": [
    "grid_search.best_score_"
   ]
  }
 ],
 "metadata": {
  "kernelspec": {
   "display_name": "Python 3 (ipykernel)",
   "language": "python",
   "name": "python3"
  },
  "language_info": {
   "codemirror_mode": {
    "name": "ipython",
    "version": 3
   },
   "file_extension": ".py",
   "mimetype": "text/x-python",
   "name": "python",
   "nbconvert_exporter": "python",
   "pygments_lexer": "ipython3",
   "version": "3.9.12"
  }
 },
 "nbformat": 4,
 "nbformat_minor": 5
}
